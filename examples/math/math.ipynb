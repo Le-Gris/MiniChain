{
 "cells": [
  {
   "cell_type": "markdown",
   "id": "a9d4a07f",
   "metadata": {},
   "source": [
    "Answer a math problem with code.\n",
    "Adapted from Dust [maths-generate-code](https://dust.tt/spolu/a/d12ac33169)"
   ]
  },
  {
   "cell_type": "code",
   "execution_count": 1,
   "id": "a32b6e06",
   "metadata": {
    "execution": {
     "iopub.execute_input": "2023-02-26T01:41:14.507534Z",
     "iopub.status.busy": "2023-02-26T01:41:14.506847Z",
     "iopub.status.idle": "2023-02-26T01:41:14.616541Z",
     "shell.execute_reply": "2023-02-26T01:41:14.615888Z"
    }
   },
   "outputs": [],
   "source": [
    "from minichain import TemplatePrompt, SimplePrompt, show_log, start_chain"
   ]
  },
  {
   "cell_type": "markdown",
   "id": "7afe75b2",
   "metadata": {
    "lines_to_next_cell": 2
   },
   "source": [
    "Prompt that asks LLM for code from math."
   ]
  },
  {
   "cell_type": "code",
   "execution_count": 2,
   "id": "95fcb190",
   "metadata": {
    "execution": {
     "iopub.execute_input": "2023-02-26T01:41:14.619255Z",
     "iopub.status.busy": "2023-02-26T01:41:14.619040Z",
     "iopub.status.idle": "2023-02-26T01:41:14.622309Z",
     "shell.execute_reply": "2023-02-26T01:41:14.621619Z"
    }
   },
   "outputs": [],
   "source": [
    "class MathPrompt(TemplatePrompt[str]):\n",
    "    template_file = \"math.pmpt.tpl\""
   ]
  },
  {
   "cell_type": "code",
   "execution_count": 3,
   "id": "4a7ccb6d",
   "metadata": {
    "execution": {
     "iopub.execute_input": "2023-02-26T01:41:14.624432Z",
     "iopub.status.busy": "2023-02-26T01:41:14.624257Z",
     "iopub.status.idle": "2023-02-26T01:41:17.049626Z",
     "shell.execute_reply": "2023-02-26T01:41:17.048690Z"
    }
   },
   "outputs": [
    {
     "name": "stdout",
     "output_type": "stream",
     "text": [
      "121\n",
      "\n"
     ]
    }
   ],
   "source": [
    "with start_chain(\"math\") as backend:\n",
    "    question = \"What is the sum of the powers of 3 (3^i) that are smaller than 100?\"\n",
    "    prompt = MathPrompt(backend.OpenAI()).chain(SimplePrompt(backend.Python()))\n",
    "    result = prompt({\"question\": question})\n",
    "    print(result)"
   ]
  },
  {
   "cell_type": "code",
   "execution_count": 4,
   "id": "f57a4771",
   "metadata": {
    "execution": {
     "iopub.execute_input": "2023-02-26T01:41:17.053613Z",
     "iopub.status.busy": "2023-02-26T01:41:17.053094Z",
     "iopub.status.idle": "2023-02-26T01:41:17.101096Z",
     "shell.execute_reply": "2023-02-26T01:41:17.100551Z"
    },
    "tags": [
     "hide_inp"
    ]
   },
   "outputs": [
    {
     "data": {
      "text/html": [
       "\n",
       "<!-- <link rel=\"stylesheet\" href=\"https://cdn.rawgit.com/Chalarangelo/mini.css/v3.0.1/dist/mini-default.min.css\"> -->\n",
       " <main class=\"container\">\n",
       "\n",
       "<h3>MathPrompt</h3>\n",
       "\n",
       "<dl>\n",
       "  <dt>Input:</dt>\n",
       "  <dd>\n",
       "<div class=\"highlight\"><pre><span></span><span class=\"p\">{</span><span class=\"s1\">&#39;question&#39;</span><span class=\"p\">:</span> <span class=\"s1\">&#39;What is 10 + 12?&#39;</span><span class=\"p\">}</span>\n",
       "</pre></div>\n",
       "\n",
       "\n",
       "  </dd>\n",
       "\n",
       "  <dt> Full Prompt: </dt>\n",
       "  <dd>\n",
       "    <details>\n",
       "      <summary>Prompt</summary>\n",
       "      <p>Question:<br>What is 37593 * 67?<br>Code:<br>37593 * 67<br><br>Question:<br>Janet's ducks lay 16 eggs per day. She eats three for breakfast every morning and bakes muffins for her friends every day with four. She sells the remainder at the farmers' market daily for $2 per fresh duck egg. How much in dollars does she make every day at the farmers' market?<br>Code:<br>(16-3-4)*2<br><br>Question:<br>How many of the integers between 0 and 99 inclusive are divisible by 8?<br>Code:<br>count = 0<br>for i in range(0, 99+1):<br>  if i % 8 == 0: count += 1<br><br>Question:<br>A robe takes 2 bolts of blue fiber and half that much white fiber. How many bolts in total does it take?<br>Code:<br>2 + 2/2<br><br>Question:<br><div style='color:red'>What is 10 + 12?</div><br>Code:</p>\n",
       "    </details>\n",
       "  </dd>\n",
       "\n",
       "  <dt> Response: </dt>\n",
       "  <dd>\n",
       "    10 + 12\n",
       "  </dd>\n",
       "\n",
       "  <dt>Value:</dt>\n",
       "  <dd>\n",
       "<div class=\"highlight\"><pre><span></span><span class=\"mi\">10</span> <span class=\"o\">+</span> <span class=\"mi\">12</span>\n",
       "</pre></div>\n",
       "\n",
       "  </dd>\n",
       "</main>\n"
      ],
      "text/plain": [
       "HTML(html='\\n<!-- <link rel=\"stylesheet\" href=\"https://cdn.rawgit.com/Chalarangelo/mini.css/v3.0.1/dist/mini-default.min.css\"> -->\\n <main class=\"container\">\\n\\n<h3>MathPrompt</h3>\\n\\n<dl>\\n  <dt>Input:</dt>\\n  <dd>\\n<div class=\"highlight\"><pre><span></span><span class=\"p\">{</span><span class=\"s1\">&#39;question&#39;</span><span class=\"p\">:</span> <span class=\"s1\">&#39;What is 10 + 12?&#39;</span><span class=\"p\">}</span>\\n</pre></div>\\n\\n\\n  </dd>\\n\\n  <dt> Full Prompt: </dt>\\n  <dd>\\n    <details>\\n      <summary>Prompt</summary>\\n      <p>Question:<br>What is 37593 * 67?<br>Code:<br>37593 * 67<br><br>Question:<br>Janet\\'s ducks lay 16 eggs per day. She eats three for breakfast every morning and bakes muffins for her friends every day with four. She sells the remainder at the farmers\\' market daily for $2 per fresh duck egg. How much in dollars does she make every day at the farmers\\' market?<br>Code:<br>(16-3-4)*2<br><br>Question:<br>How many of the integers between 0 and 99 inclusive are divisible by 8?<br>Code:<br>count = 0<br>for i in range(0, 99+1):<br>  if i % 8 == 0: count += 1<br><br>Question:<br>A robe takes 2 bolts of blue fiber and half that much white fiber. How many bolts in total does it take?<br>Code:<br>2 + 2/2<br><br>Question:<br><div style=\\'color:red\\'>What is 10 + 12?</div><br>Code:</p>\\n    </details>\\n  </dd>\\n\\n  <dt> Response: </dt>\\n  <dd>\\n    10 + 12\\n  </dd>\\n\\n  <dt>Value:</dt>\\n  <dd>\\n<div class=\"highlight\"><pre><span></span><span class=\"mi\">10</span> <span class=\"o\">+</span> <span class=\"mi\">12</span>\\n</pre></div>\\n\\n  </dd>\\n</main>\\n')"
      ]
     },
     "execution_count": 4,
     "metadata": {},
     "output_type": "execute_result"
    }
   ],
   "source": [
    "MathPrompt().show({\"question\": \"What is 10 + 12?\"}, \"10 + 12\")"
   ]
  },
  {
   "cell_type": "code",
   "execution_count": 5,
   "id": "8e9c5896",
   "metadata": {
    "execution": {
     "iopub.execute_input": "2023-02-26T01:41:17.103279Z",
     "iopub.status.busy": "2023-02-26T01:41:17.103092Z",
     "iopub.status.idle": "2023-02-26T01:41:17.123844Z",
     "shell.execute_reply": "2023-02-26T01:41:17.123237Z"
    }
   },
   "outputs": [
    {
     "name": "stderr",
     "output_type": "stream",
     "text": [
      "\u001b[38;5;15m4b9c1af0-ca63-42e1-817f-b2b8bd57a33f\u001b[1m\u001b[0m\n",
      "└── \u001b[38;5;5m<class '__main__.MathPrompt'>\u001b[0m/1\u001b[0m ⇒ \u001b[38;5;2mstarted\u001b[0m \u001b[38;5;15m2023-02-26 01:41:15Z\u001b[2m\u001b[0m ⧖ \u001b[38;5;4m1.942s\u001b[2m\u001b[0m\n",
      "    ├── \u001b[38;5;5mInput Function\u001b[0m/2/1\u001b[0m ⇒ \u001b[38;5;2mstarted\u001b[0m \u001b[38;5;15m2023-02-26 01:41:15Z\u001b[2m\u001b[0m ⧖ \u001b[38;5;4m0.003s\u001b[2m\u001b[0m\n",
      "    │   ├── \u001b[38;5;4minput\u001b[0m: \u001b[0m\n",
      "    │   │   └── \u001b[38;5;4mquestion\u001b[0m: What is the sum of the powers of 3 (3^i) that are smaller than 100?\u001b[0m\n",
      "    │   └── \u001b[38;5;5mInput Function\u001b[0m/2/2\u001b[0m ⇒ \u001b[38;5;2msucceeded\u001b[0m \u001b[38;5;15m2023-02-26 01:41:15Z\u001b[2m\u001b[0m\n",
      "    ├── \u001b[38;5;5mPrompted\u001b[0m/3/1\u001b[0m ⇒ \u001b[38;5;2mstarted\u001b[0m \u001b[38;5;15m2023-02-26 01:41:15Z\u001b[2m\u001b[0m ⧖ \u001b[38;5;4m1.939s\u001b[2m\u001b[0m\n",
      "    │   ├── \u001b[38;5;4mprompt\u001b[0m: Question:⏎\n",
      "    │   │   What is 37593 * 67?⏎\n",
      "    │   │   Code:⏎\n",
      "    │   │   37593 * 67⏎\n",
      "    │   │   ⏎\n",
      "    │   │   Question:⏎\n",
      "    │   │   Janet's ducks lay 16 eggs per day. She eats three for breakfast every morning and bakes muffins for her friends every day with four. She sells the remainder at the farmers' market daily for $2 per fresh duck egg. How much in dollars does she make every day at the farmers' market?⏎\n",
      "    │   │   Code:⏎\n",
      "    │   │   (16-3-4)*2⏎\n",
      "    │   │   ⏎\n",
      "    │   │   Question:⏎\n",
      "    │   │   How many of the integers between 0 and 99 inclusive are divisible by 8?⏎\n",
      "    │   │   Code:⏎\n",
      "    │   │   count = 0⏎\n",
      "    │   │   for i in range(0, 99+1):⏎\n",
      "    │   │     if i % 8 == 0: count += 1⏎\n",
      "    │   │   ⏎\n",
      "    │   │   Question:⏎\n",
      "    │   │   A robe takes 2 bolts of blue fiber and half that much white fiber. How many bolts in total does it take?⏎\n",
      "    │   │   Code:⏎\n",
      "    │   │   2 + 2/2⏎\n",
      "    │   │   ⏎\n",
      "    │   │   Question:⏎\n",
      "    │   │   What is the sum of the powers of 3 (3^i) that are smaller than 100?⏎\n",
      "    │   │   Code:\u001b[0m\n",
      "    │   └── \u001b[38;5;5mPrompted\u001b[0m/3/2\u001b[0m ⇒ \u001b[38;5;2msucceeded\u001b[0m \u001b[38;5;15m2023-02-26 01:41:17Z\u001b[2m\u001b[0m\n",
      "    ├── \u001b[38;5;5mResult\u001b[0m/4/1\u001b[0m ⇒ \u001b[38;5;2mstarted\u001b[0m \u001b[38;5;15m2023-02-26 01:41:17Z\u001b[2m\u001b[0m ⧖ \u001b[38;5;4m0.000s\u001b[2m\u001b[0m\n",
      "    │   ├── \u001b[38;5;4mresult\u001b[0m: ⏎\n",
      "    │   │   sum = 0⏎\n",
      "    │   │   for i in range(0, 100):⏎\n",
      "    │   │     if 3**i < 100:⏎\n",
      "    │   │       sum += 3**i⏎\n",
      "    │   │   ⏎\n",
      "    │   │   print(sum)\u001b[0m\n",
      "    │   └── \u001b[38;5;5mResult\u001b[0m/4/2\u001b[0m ⇒ \u001b[38;5;2msucceeded\u001b[0m \u001b[38;5;15m2023-02-26 01:41:17Z\u001b[2m\u001b[0m\n",
      "    └── \u001b[38;5;5m<class '__main__.MathPrompt'>\u001b[0m/5\u001b[0m ⇒ \u001b[38;5;2msucceeded\u001b[0m \u001b[38;5;15m2023-02-26 01:41:17Z\u001b[2m\u001b[0m\n",
      "\n",
      "\u001b[38;5;15mf8e0b7da-e99e-4452-a9ee-77fcb4ab5e05\u001b[1m\u001b[0m\n",
      "└── \u001b[38;5;5m<class 'minichain.prompts.SimplePrompt'>\u001b[0m/1\u001b[0m ⇒ \u001b[38;5;2mstarted\u001b[0m \u001b[38;5;15m2023-02-26 01:41:17Z\u001b[2m\u001b[0m ⧖ \u001b[38;5;4m0.000s\u001b[2m\u001b[0m\n",
      "    ├── \u001b[38;5;5mInput Function\u001b[0m/2/1\u001b[0m ⇒ \u001b[38;5;2mstarted\u001b[0m \u001b[38;5;15m2023-02-26 01:41:17Z\u001b[2m\u001b[0m ⧖ \u001b[38;5;4m0.000s\u001b[2m\u001b[0m\n",
      "    │   ├── \u001b[38;5;4minput\u001b[0m: ⏎\n",
      "    │   │   sum = 0⏎\n",
      "    │   │   for i in range(0, 100):⏎\n",
      "    │   │     if 3**i < 100:⏎\n",
      "    │   │       sum += 3**i⏎\n",
      "    │   │   ⏎\n",
      "    │   │   print(sum)\u001b[0m\n",
      "    │   └── \u001b[38;5;5mInput Function\u001b[0m/2/2\u001b[0m ⇒ \u001b[38;5;2msucceeded\u001b[0m \u001b[38;5;15m2023-02-26 01:41:17Z\u001b[2m\u001b[0m\n",
      "    ├── \u001b[38;5;5mPrompted\u001b[0m/3/1\u001b[0m ⇒ \u001b[38;5;2mstarted\u001b[0m \u001b[38;5;15m2023-02-26 01:41:17Z\u001b[2m\u001b[0m ⧖ \u001b[38;5;4m0.000s\u001b[2m\u001b[0m\n",
      "    │   ├── \u001b[38;5;4mprompt\u001b[0m: ⏎\n",
      "    │   │   sum = 0⏎\n",
      "    │   │   for i in range(0, 100):⏎\n",
      "    │   │     if 3**i < 100:⏎\n",
      "    │   │       sum += 3**i⏎\n",
      "    │   │   ⏎\n",
      "    │   │   print(sum)\u001b[0m\n",
      "    │   └── \u001b[38;5;5mPrompted\u001b[0m/3/2\u001b[0m ⇒ \u001b[38;5;2msucceeded\u001b[0m \u001b[38;5;15m2023-02-26 01:41:17Z\u001b[2m\u001b[0m\n",
      "    ├── \u001b[38;5;5mResult\u001b[0m/4/1\u001b[0m ⇒ \u001b[38;5;2mstarted\u001b[0m \u001b[38;5;15m2023-02-26 01:41:17Z\u001b[2m\u001b[0m ⧖ \u001b[38;5;4m0.000s\u001b[2m\u001b[0m\n",
      "    │   ├── \u001b[38;5;4mresult\u001b[0m: 121⏎\n",
      "    │   │   \u001b[0m\n",
      "    │   └── \u001b[38;5;5mResult\u001b[0m/4/2\u001b[0m ⇒ \u001b[38;5;2msucceeded\u001b[0m \u001b[38;5;15m2023-02-26 01:41:17Z\u001b[2m\u001b[0m\n",
      "    └── \u001b[38;5;5m<class 'minichain.prompts.SimplePrompt'>\u001b[0m/5\u001b[0m ⇒ \u001b[38;5;2msucceeded\u001b[0m \u001b[38;5;15m2023-02-26 01:41:17Z\u001b[2m\u001b[0m\n",
      "\n",
      "\u001b[38;5;15m6395208f-d05f-420d-996d-4a43dd00adf7\u001b[1m\u001b[0m\n",
      "└── \u001b[38;5;5mmath\u001b[0m/1\u001b[0m ⇒ \u001b[38;5;2mstarted\u001b[0m \u001b[38;5;15m2023-02-26 01:41:14Z\u001b[2m\u001b[0m ⧖ \u001b[38;5;4m2.420s\u001b[2m\u001b[0m\n",
      "    └── \u001b[38;5;5mmath\u001b[0m/2\u001b[0m ⇒ \u001b[38;5;2msucceeded\u001b[0m \u001b[38;5;15m2023-02-26 01:41:17Z\u001b[2m\u001b[0m\n",
      "\n"
     ]
    }
   ],
   "source": [
    "show_log(\"math.log\")"
   ]
  }
 ],
 "metadata": {
  "jupytext": {
   "cell_metadata_filter": "tags,-all"
  },
  "kernelspec": {
   "display_name": "minichain",
   "language": "python",
   "name": "minichain"
  },
  "language_info": {
   "codemirror_mode": {
    "name": "ipython",
    "version": 3
   },
   "file_extension": ".py",
   "mimetype": "text/x-python",
   "name": "python",
   "nbconvert_exporter": "python",
   "pygments_lexer": "ipython3",
   "version": "3.10.6"
  }
 },
 "nbformat": 4,
 "nbformat_minor": 5
}
