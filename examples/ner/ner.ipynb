{
 "cells": [
  {
   "cell_type": "code",
   "execution_count": 1,
   "id": "6b40c8cc",
   "metadata": {
    "execution": {
     "iopub.execute_input": "2023-03-22T17:00:46.670809Z",
     "iopub.status.busy": "2023-03-22T17:00:46.670088Z",
     "iopub.status.idle": "2023-03-22T17:00:46.679313Z",
     "shell.execute_reply": "2023-03-22T17:00:46.678767Z"
    },
    "tags": [
     "hide_inp"
    ]
   },
   "outputs": [],
   "source": [
    "\n",
    "desc = \"\"\"\n",
    "### Named Entity Recognition\n",
    "\n",
    "Chain that does named entity recognition with arbitrary labels. [[Code](https://github.com/srush/MiniChain/blob/main/examples/ner.py)]\n",
    "\n",
    "(Adapted from [promptify](https://github.com/promptslab/Promptify/blob/main/promptify/prompts/nlp/templates/ner.jinja)).\n",
    "\"\"\""
   ]
  },
  {
   "cell_type": "markdown",
   "id": "f6e33520",
   "metadata": {},
   "source": [
    "$"
   ]
  },
  {
   "cell_type": "code",
   "execution_count": 2,
   "id": "de258da8",
   "metadata": {
    "execution": {
     "iopub.execute_input": "2023-03-22T17:00:46.681769Z",
     "iopub.status.busy": "2023-03-22T17:00:46.681580Z",
     "iopub.status.idle": "2023-03-22T17:00:47.985872Z",
     "shell.execute_reply": "2023-03-22T17:00:47.985221Z"
    },
    "lines_to_next_cell": 1
   },
   "outputs": [],
   "source": [
    "from minichain import prompt, show, OpenAI"
   ]
  },
  {
   "cell_type": "code",
   "execution_count": 3,
   "id": "f517f9a5",
   "metadata": {
    "execution": {
     "iopub.execute_input": "2023-03-22T17:00:47.988564Z",
     "iopub.status.busy": "2023-03-22T17:00:47.988242Z",
     "iopub.status.idle": "2023-03-22T17:00:47.991610Z",
     "shell.execute_reply": "2023-03-22T17:00:47.991041Z"
    },
    "lines_to_next_cell": 1
   },
   "outputs": [],
   "source": [
    "@prompt(OpenAI(), template_file = \"ner.pmpt.tpl\", parser=\"json\")\n",
    "def ner_extract(model, **kwargs):\n",
    "    return model(kwargs)"
   ]
  },
  {
   "cell_type": "code",
   "execution_count": 4,
   "id": "fe5ec878",
   "metadata": {
    "execution": {
     "iopub.execute_input": "2023-03-22T17:00:47.993777Z",
     "iopub.status.busy": "2023-03-22T17:00:47.993478Z",
     "iopub.status.idle": "2023-03-22T17:00:47.996957Z",
     "shell.execute_reply": "2023-03-22T17:00:47.996449Z"
    }
   },
   "outputs": [],
   "source": [
    "@prompt(OpenAI())\n",
    "def team_describe(model, inp):\n",
    "    query = \"Can you describe these basketball teams? \" + \\\n",
    "        \" \".join([i[\"E\"] for i in inp if i[\"T\"] ==\"Team\"])\n",
    "    return model(query)"
   ]
  },
  {
   "cell_type": "code",
   "execution_count": 5,
   "id": "cf059e37",
   "metadata": {
    "execution": {
     "iopub.execute_input": "2023-03-22T17:00:47.999077Z",
     "iopub.status.busy": "2023-03-22T17:00:47.998839Z",
     "iopub.status.idle": "2023-03-22T17:00:48.002102Z",
     "shell.execute_reply": "2023-03-22T17:00:48.001662Z"
    }
   },
   "outputs": [],
   "source": [
    "def ner(text_input, labels, domain):\n",
    "    extract = ner_extract(dict(text_input=text_input, labels=labels, domain=domain))\n",
    "    return team_describe(extract)"
   ]
  },
  {
   "cell_type": "markdown",
   "id": "fe198253",
   "metadata": {},
   "source": [
    "$"
   ]
  },
  {
   "cell_type": "code",
   "execution_count": 6,
   "id": "24ca918c",
   "metadata": {
    "execution": {
     "iopub.execute_input": "2023-03-22T17:00:48.004490Z",
     "iopub.status.busy": "2023-03-22T17:00:48.004142Z",
     "iopub.status.idle": "2023-03-22T17:00:48.254708Z",
     "shell.execute_reply": "2023-03-22T17:00:48.254069Z"
    }
   },
   "outputs": [],
   "source": [
    "gradio = show(ner,\n",
    "              examples=[[\"An NBA playoff pairing a year ago, the 76ers (39-20) meet the Miami Heat (32-29) for the first time this season on Monday night at home.\", \"Team, Date\", \"Sports\"]],\n",
    "              description=desc,\n",
    "              subprompts=[ner_extract, team_describe],\n",
    "              code=open(\"ner.py\", \"r\").read().split(\"$\")[1].strip().strip(\"#\").strip(),\n",
    "              )"
   ]
  },
  {
   "cell_type": "code",
   "execution_count": 7,
   "id": "d5247097",
   "metadata": {
    "execution": {
     "iopub.execute_input": "2023-03-22T17:00:48.257352Z",
     "iopub.status.busy": "2023-03-22T17:00:48.257149Z",
     "iopub.status.idle": "2023-03-22T17:00:48.319870Z",
     "shell.execute_reply": "2023-03-22T17:00:48.319111Z"
    },
    "lines_to_next_cell": 2
   },
   "outputs": [
    {
     "name": "stdout",
     "output_type": "stream",
     "text": [
      "Running on local URL:  http://127.0.0.1:7861\n",
      "\n",
      "To create a public link, set `share=True` in `launch()`.\n"
     ]
    },
    {
     "data": {
      "text/html": [
       "<div><iframe src=\"http://127.0.0.1:7861/\" width=\"100%\" height=\"500\" allow=\"autoplay; camera; microphone; clipboard-read; clipboard-write;\" frameborder=\"0\" allowfullscreen></iframe></div>"
      ],
      "text/plain": [
       "<IPython.core.display.HTML object>"
      ]
     },
     "metadata": {},
     "output_type": "display_data"
    }
   ],
   "source": [
    "if __name__ == \"__main__\":\n",
    "    gradio.launch()"
   ]
  },
  {
   "cell_type": "markdown",
   "id": "7cbb9856",
   "metadata": {},
   "source": [
    "View prompt examples."
   ]
  },
  {
   "cell_type": "code",
   "execution_count": 8,
   "id": "83d3ad7a",
   "metadata": {
    "execution": {
     "iopub.execute_input": "2023-03-22T17:00:48.322776Z",
     "iopub.status.busy": "2023-03-22T17:00:48.322504Z",
     "iopub.status.idle": "2023-03-22T17:00:48.326248Z",
     "shell.execute_reply": "2023-03-22T17:00:48.325611Z"
    },
    "tags": [
     "hide_inp"
    ]
   },
   "outputs": [],
   "source": [
    "# NERPrompt().show(\n",
    "#     {\n",
    "#         \"input\": \"I went to New York\",\n",
    "#         \"domain\": \"Travel\",\n",
    "#         \"labels\": [\"City\"]\n",
    "#     },\n",
    "#     '[{\"T\": \"City\", \"E\": \"New York\"}]',\n",
    "# )\n",
    "# # -\n",
    "\n",
    "# # View log.\n",
    "\n",
    "# minichain.show_log(\"ner.log\")"
   ]
  }
 ],
 "metadata": {
  "jupytext": {
   "cell_metadata_filter": "tags,-all"
  },
  "kernelspec": {
   "display_name": "minichain",
   "language": "python",
   "name": "minichain"
  },
  "language_info": {
   "codemirror_mode": {
    "name": "ipython",
    "version": 3
   },
   "file_extension": ".py",
   "mimetype": "text/x-python",
   "name": "python",
   "nbconvert_exporter": "python",
   "pygments_lexer": "ipython3",
   "version": "3.10.6"
  }
 },
 "nbformat": 4,
 "nbformat_minor": 5
}
