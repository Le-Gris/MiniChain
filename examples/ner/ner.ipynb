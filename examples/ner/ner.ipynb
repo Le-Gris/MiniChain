{
 "cells": [
  {
   "cell_type": "markdown",
   "id": "9c34a558",
   "metadata": {},
   "source": [
    "# NER"
   ]
  },
  {
   "cell_type": "markdown",
   "id": "d698260e",
   "metadata": {},
   "source": [
    "Notebook implementation of named entity recognition.\n",
    "Adapted from [promptify](https://github.com/promptslab/Promptify/blob/main/promptify/prompts/nlp/templates/ner.jinja)."
   ]
  },
  {
   "cell_type": "code",
   "execution_count": 1,
   "id": "e7220292",
   "metadata": {
    "execution": {
     "iopub.execute_input": "2023-02-27T15:15:07.609690Z",
     "iopub.status.busy": "2023-02-27T15:15:07.608883Z",
     "iopub.status.idle": "2023-02-27T15:15:07.826802Z",
     "shell.execute_reply": "2023-02-27T15:15:07.826095Z"
    },
    "lines_to_next_cell": 1
   },
   "outputs": [],
   "source": [
    "import json\n",
    "import minichain"
   ]
  },
  {
   "cell_type": "markdown",
   "id": "e6e64179",
   "metadata": {},
   "source": [
    "Prompt to extract NER tags as json"
   ]
  },
  {
   "cell_type": "code",
   "execution_count": 2,
   "id": "b050bc60",
   "metadata": {
    "execution": {
     "iopub.execute_input": "2023-02-27T15:15:07.832017Z",
     "iopub.status.busy": "2023-02-27T15:15:07.830820Z",
     "iopub.status.idle": "2023-02-27T15:15:07.836386Z",
     "shell.execute_reply": "2023-02-27T15:15:07.835765Z"
    },
    "lines_to_next_cell": 1
   },
   "outputs": [],
   "source": [
    "class NERPrompt(minichain.TemplatePrompt):\n",
    "    template_file = \"ner.pmpt.tpl\"\n",
    "\n",
    "    def parse(self, response, inp):\n",
    "        return json.loads(response)"
   ]
  },
  {
   "cell_type": "markdown",
   "id": "69fd13a4",
   "metadata": {},
   "source": [
    "Use NER to ask a simple queston."
   ]
  },
  {
   "cell_type": "code",
   "execution_count": 3,
   "id": "81dd1cf1",
   "metadata": {
    "execution": {
     "iopub.execute_input": "2023-02-27T15:15:07.841266Z",
     "iopub.status.busy": "2023-02-27T15:15:07.839688Z",
     "iopub.status.idle": "2023-02-27T15:15:07.846162Z",
     "shell.execute_reply": "2023-02-27T15:15:07.845542Z"
    },
    "lines_to_next_cell": 1
   },
   "outputs": [],
   "source": [
    "class TeamPrompt(minichain.Prompt):\n",
    "    def prompt(self, inp):\n",
    "        return \"Can you describe these basketball teams? \" + \\\n",
    "            \" \".join([i[\"E\"] for i in inp if i[\"T\"] ==\"Team\"])\n",
    "    \n",
    "    def parse(self, response, inp):\n",
    "        return response"
   ]
  },
  {
   "cell_type": "markdown",
   "id": "e7d716ff",
   "metadata": {},
   "source": [
    "Run the system."
   ]
  },
  {
   "cell_type": "code",
   "execution_count": 4,
   "id": "121e4495",
   "metadata": {
    "execution": {
     "iopub.execute_input": "2023-02-27T15:15:07.850785Z",
     "iopub.status.busy": "2023-02-27T15:15:07.849654Z",
     "iopub.status.idle": "2023-02-27T15:15:22.592093Z",
     "shell.execute_reply": "2023-02-27T15:15:22.591303Z"
    }
   },
   "outputs": [
    {
     "name": "stdout",
     "output_type": "stream",
     "text": [
      "\n",
      "\n",
      "The Philadelphia 76ers are a professional basketball team based in Philadelphia, Pennsylvania. They compete in the National Basketball Association (NBA) as a member of the Eastern Conference Atlantic Division. The 76ers have won three NBA championships, with their first coming as the Syracuse Nationals in 1955. The team has featured many Hall of Fame players, including Wilt Chamberlain, Julius Erving, Moses Malone, Charles Barkley, and Allen Iverson.\n",
      "\n",
      "The Miami Heat are a professional basketball team based in Miami, Florida. They compete in the National Basketball Association (NBA) as a member of the Eastern Conference Southeast Division. The Heat have won three NBA championships, with their first coming in 2006. The team has featured many Hall of Fame players, including Dwyane Wade, Shaquille O'Neal, Alonzo Mourning, and LeBron James.\n"
     ]
    }
   ],
   "source": [
    "with minichain.start_chain(\"ner\") as backend:\n",
    "    p1 = NERPrompt(backend.OpenAI())\n",
    "    p2 = TeamPrompt(backend.OpenAI())\n",
    "    prompt = p1.chain(p2)\n",
    "    results = prompt(\n",
    "        {\"text_input\": \"An NBA playoff pairing a year ago, the 76ers (39-20) meet the Miami Heat (32-29) for the first time this season on Monday night at home.\",\n",
    "         \"labels\" : [\"Team\", \"Date\"],\n",
    "         \"domain\": \"Sports\"\n",
    "         }\n",
    "    )\n",
    "    print(results)"
   ]
  },
  {
   "cell_type": "markdown",
   "id": "ea23c1cc",
   "metadata": {},
   "source": [
    "View prompt examples."
   ]
  },
  {
   "cell_type": "code",
   "execution_count": 5,
   "id": "6d47da9d",
   "metadata": {
    "execution": {
     "iopub.execute_input": "2023-02-27T15:15:22.595458Z",
     "iopub.status.busy": "2023-02-27T15:15:22.594853Z",
     "iopub.status.idle": "2023-02-27T15:15:22.640180Z",
     "shell.execute_reply": "2023-02-27T15:15:22.639550Z"
    },
    "tags": [
     "hide_inp"
    ]
   },
   "outputs": [
    {
     "data": {
      "text/html": [
       "\n",
       "<!-- <link rel=\"stylesheet\" href=\"https://cdn.rawgit.com/Chalarangelo/mini.css/v3.0.1/dist/mini-default.min.css\"> -->\n",
       " <main class=\"container\">\n",
       "\n",
       "<h3>NERPrompt</h3>\n",
       "\n",
       "<dl>\n",
       "  <dt>Input:</dt>\n",
       "  <dd>\n",
       "<div class=\"highlight\"><pre><span></span><span class=\"p\">{</span><span class=\"s1\">&#39;input&#39;</span><span class=\"p\">:</span> <span class=\"s1\">&#39;I went to New York&#39;</span><span class=\"p\">,</span> <span class=\"s1\">&#39;domain&#39;</span><span class=\"p\">:</span> <span class=\"s1\">&#39;Travel&#39;</span><span class=\"p\">,</span> <span class=\"s1\">&#39;labels&#39;</span><span class=\"p\">:</span> <span class=\"p\">[</span><span class=\"s1\">&#39;City&#39;</span><span class=\"p\">]}</span>\n",
       "</pre></div>\n",
       "\n",
       "\n",
       "  </dd>\n",
       "\n",
       "  <dt> Full Prompt: </dt>\n",
       "  <dd>\n",
       "    <details>\n",
       "      <summary>Prompt</summary>\n",
       "      <p>You are a highly intelligent and accurate <div style='color:red'>Travel</div> domain Named-entity recognition(NER) system. You take Passage as input and your task is to recognize and extract specific types of <div style='color:red'>Travel</div> domain named entities in that given passage and classify into a set of following predefined entity types:<br><br><br>* City<br><br><br>Your output format is only [{\"T\": type of entity from predefined entity types, \"E\": entity in the input text}] form, no other form.<br><br>Input: <br>Output:</p>\n",
       "    </details>\n",
       "  </dd>\n",
       "\n",
       "  <dt> Response: </dt>\n",
       "  <dd>\n",
       "    [{\"T\": \"City\", \"E\": \"New York\"}]\n",
       "  </dd>\n",
       "\n",
       "  <dt>Value:</dt>\n",
       "  <dd>\n",
       "<div class=\"highlight\"><pre><span></span><span class=\"p\">[{</span><span class=\"s1\">&#39;T&#39;</span><span class=\"p\">:</span> <span class=\"s1\">&#39;City&#39;</span><span class=\"p\">,</span> <span class=\"s1\">&#39;E&#39;</span><span class=\"p\">:</span> <span class=\"s1\">&#39;New York&#39;</span><span class=\"p\">}]</span>\n",
       "</pre></div>\n",
       "\n",
       "  </dd>\n",
       "</main>\n"
      ],
      "text/plain": [
       "HTML(html='\\n<!-- <link rel=\"stylesheet\" href=\"https://cdn.rawgit.com/Chalarangelo/mini.css/v3.0.1/dist/mini-default.min.css\"> -->\\n <main class=\"container\">\\n\\n<h3>NERPrompt</h3>\\n\\n<dl>\\n  <dt>Input:</dt>\\n  <dd>\\n<div class=\"highlight\"><pre><span></span><span class=\"p\">{</span><span class=\"s1\">&#39;input&#39;</span><span class=\"p\">:</span> <span class=\"s1\">&#39;I went to New York&#39;</span><span class=\"p\">,</span> <span class=\"s1\">&#39;domain&#39;</span><span class=\"p\">:</span> <span class=\"s1\">&#39;Travel&#39;</span><span class=\"p\">,</span> <span class=\"s1\">&#39;labels&#39;</span><span class=\"p\">:</span> <span class=\"p\">[</span><span class=\"s1\">&#39;City&#39;</span><span class=\"p\">]}</span>\\n</pre></div>\\n\\n\\n  </dd>\\n\\n  <dt> Full Prompt: </dt>\\n  <dd>\\n    <details>\\n      <summary>Prompt</summary>\\n      <p>You are a highly intelligent and accurate <div style=\\'color:red\\'>Travel</div> domain Named-entity recognition(NER) system. You take Passage as input and your task is to recognize and extract specific types of <div style=\\'color:red\\'>Travel</div> domain named entities in that given passage and classify into a set of following predefined entity types:<br><br><br>* City<br><br><br>Your output format is only [{\"T\": type of entity from predefined entity types, \"E\": entity in the input text}] form, no other form.<br><br>Input: <br>Output:</p>\\n    </details>\\n  </dd>\\n\\n  <dt> Response: </dt>\\n  <dd>\\n    [{\"T\": \"City\", \"E\": \"New York\"}]\\n  </dd>\\n\\n  <dt>Value:</dt>\\n  <dd>\\n<div class=\"highlight\"><pre><span></span><span class=\"p\">[{</span><span class=\"s1\">&#39;T&#39;</span><span class=\"p\">:</span> <span class=\"s1\">&#39;City&#39;</span><span class=\"p\">,</span> <span class=\"s1\">&#39;E&#39;</span><span class=\"p\">:</span> <span class=\"s1\">&#39;New York&#39;</span><span class=\"p\">}]</span>\\n</pre></div>\\n\\n  </dd>\\n</main>\\n')"
      ]
     },
     "execution_count": 5,
     "metadata": {},
     "output_type": "execute_result"
    }
   ],
   "source": [
    "NERPrompt().show(\n",
    "    {\n",
    "        \"input\": \"I went to New York\",\n",
    "        \"domain\": \"Travel\",\n",
    "        \"labels\": [\"City\"]\n",
    "    },\n",
    "    '[{\"T\": \"City\", \"E\": \"New York\"}]',\n",
    ")"
   ]
  },
  {
   "cell_type": "markdown",
   "id": "480404e0",
   "metadata": {},
   "source": [
    "View log."
   ]
  },
  {
   "cell_type": "code",
   "execution_count": 6,
   "id": "6a0ef885",
   "metadata": {
    "execution": {
     "iopub.execute_input": "2023-02-27T15:15:22.643384Z",
     "iopub.status.busy": "2023-02-27T15:15:22.643082Z",
     "iopub.status.idle": "2023-02-27T15:15:22.667261Z",
     "shell.execute_reply": "2023-02-27T15:15:22.666601Z"
    }
   },
   "outputs": [
    {
     "name": "stderr",
     "output_type": "stream",
     "text": [
      "\u001b[38;5;15m792ac91b-11ff-4756-9941-18d32ba6ab3d\u001b[1m\u001b[0m\n",
      "└── \u001b[38;5;5m<class '__main__.NERPrompt'>\u001b[0m/1\u001b[0m ⇒ \u001b[38;5;2mstarted\u001b[0m \u001b[38;5;15m2023-02-27 15:15:08Z\u001b[2m\u001b[0m ⧖ \u001b[38;5;4m5.033s\u001b[2m\u001b[0m\n",
      "    ├── \u001b[38;5;5mInput Function\u001b[0m/2/1\u001b[0m ⇒ \u001b[38;5;2mstarted\u001b[0m \u001b[38;5;15m2023-02-27 15:15:08Z\u001b[2m\u001b[0m ⧖ \u001b[38;5;4m0.004s\u001b[2m\u001b[0m\n",
      "    │   ├── \u001b[38;5;4minput\u001b[0m: \u001b[0m\n",
      "    │   │   ├── \u001b[38;5;4mdomain\u001b[0m: Sports\u001b[0m\n",
      "    │   │   ├── \u001b[38;5;4mlabels\u001b[0m: \u001b[0m\n",
      "    │   │   │   ├── \u001b[38;5;4m0\u001b[0m: Team\u001b[0m\n",
      "    │   │   │   └── \u001b[38;5;4m1\u001b[0m: Date\u001b[0m\n",
      "    │   │   └── \u001b[38;5;4mtext_input\u001b[0m: An NBA playoff pairing a year ago, the 76ers (39-20) meet the Miami Heat (32-29) for the first time this season on Monday night at home.\u001b[0m\n",
      "    │   └── \u001b[38;5;5mInput Function\u001b[0m/2/2\u001b[0m ⇒ \u001b[38;5;2msucceeded\u001b[0m \u001b[38;5;15m2023-02-27 15:15:08Z\u001b[2m\u001b[0m\n",
      "    ├── \u001b[38;5;5mPrompted\u001b[0m/3/1\u001b[0m ⇒ \u001b[38;5;2mstarted\u001b[0m \u001b[38;5;15m2023-02-27 15:15:08Z\u001b[2m\u001b[0m ⧖ \u001b[38;5;4m5.028s\u001b[2m\u001b[0m\n",
      "    │   ├── \u001b[38;5;4mprompt\u001b[0m: You are a highly intelligent and accurate Sports domain Named-entity recognition(NER) system. You take Passage as input and your task is to recognize and extract specific types of Sports domain named entities in that given passage and classify into a set of following predefined entity types:⏎\n",
      "    │   │   ⏎\n",
      "    │   │   ⏎\n",
      "    │   │   * Team⏎\n",
      "    │   │   ⏎\n",
      "    │   │   * Date⏎\n",
      "    │   │   ⏎\n",
      "    │   │   ⏎\n",
      "    │   │   Your output format is only [{\"T\": type of entity from predefined entity types, \"E\": entity in the input text}] form, no other form.⏎\n",
      "    │   │   ⏎\n",
      "    │   │   Input: An NBA playoff pairing a year ago, the 76ers (39-20) meet the Miami Heat (32-29) for the first time this season on Monday night at home.⏎\n",
      "    │   │   Output:\u001b[0m\n",
      "    │   └── \u001b[38;5;5mPrompted\u001b[0m/3/2\u001b[0m ⇒ \u001b[38;5;2msucceeded\u001b[0m \u001b[38;5;15m2023-02-27 15:15:13Z\u001b[2m\u001b[0m\n",
      "    ├── \u001b[38;5;5mResult\u001b[0m/4/1\u001b[0m ⇒ \u001b[38;5;2mstarted\u001b[0m \u001b[38;5;15m2023-02-27 15:15:13Z\u001b[2m\u001b[0m ⧖ \u001b[38;5;4m0.000s\u001b[2m\u001b[0m\n",
      "    │   ├── \u001b[38;5;4mresult\u001b[0m:  [{\"T\": \"Team\", \"E\": \"76ers\"}, {\"T\": \"Team\", \"E\": \"Miami Heat\"}, {\"T\": \"Date\", \"E\": \"Monday night\"}]\u001b[0m\n",
      "    │   └── \u001b[38;5;5mResult\u001b[0m/4/2\u001b[0m ⇒ \u001b[38;5;2msucceeded\u001b[0m \u001b[38;5;15m2023-02-27 15:15:13Z\u001b[2m\u001b[0m\n",
      "    └── \u001b[38;5;5m<class '__main__.NERPrompt'>\u001b[0m/5\u001b[0m ⇒ \u001b[38;5;2msucceeded\u001b[0m \u001b[38;5;15m2023-02-27 15:15:13Z\u001b[2m\u001b[0m\n",
      "\n",
      "\u001b[38;5;15m14e32809-bee0-47a0-b3ed-1ec99bb28e6e\u001b[1m\u001b[0m\n",
      "└── \u001b[38;5;5m<class '__main__.TeamPrompt'>\u001b[0m/1\u001b[0m ⇒ \u001b[38;5;2mstarted\u001b[0m \u001b[38;5;15m2023-02-27 15:15:13Z\u001b[2m\u001b[0m ⧖ \u001b[38;5;4m9.389s\u001b[2m\u001b[0m\n",
      "    ├── \u001b[38;5;5mInput Function\u001b[0m/2/1\u001b[0m ⇒ \u001b[38;5;2mstarted\u001b[0m \u001b[38;5;15m2023-02-27 15:15:13Z\u001b[2m\u001b[0m ⧖ \u001b[38;5;4m0.000s\u001b[2m\u001b[0m\n",
      "    │   ├── \u001b[38;5;4minput\u001b[0m: \u001b[0m\n",
      "    │   │   ├── \u001b[38;5;4m0\u001b[0m: \u001b[0m\n",
      "    │   │   │   ├── \u001b[38;5;4mE\u001b[0m: 76ers\u001b[0m\n",
      "    │   │   │   └── \u001b[38;5;4mT\u001b[0m: Team\u001b[0m\n",
      "    │   │   ├── \u001b[38;5;4m1\u001b[0m: \u001b[0m\n",
      "    │   │   │   ├── \u001b[38;5;4mE\u001b[0m: Miami Heat\u001b[0m\n",
      "    │   │   │   └── \u001b[38;5;4mT\u001b[0m: Team\u001b[0m\n",
      "    │   │   └── \u001b[38;5;4m2\u001b[0m: \u001b[0m\n",
      "    │   │       ├── \u001b[38;5;4mE\u001b[0m: Monday night\u001b[0m\n",
      "    │   │       └── \u001b[38;5;4mT\u001b[0m: Date\u001b[0m\n",
      "    │   └── \u001b[38;5;5mInput Function\u001b[0m/2/2\u001b[0m ⇒ \u001b[38;5;2msucceeded\u001b[0m \u001b[38;5;15m2023-02-27 15:15:13Z\u001b[2m\u001b[0m\n",
      "    ├── \u001b[38;5;5mPrompted\u001b[0m/3/1\u001b[0m ⇒ \u001b[38;5;2mstarted\u001b[0m \u001b[38;5;15m2023-02-27 15:15:13Z\u001b[2m\u001b[0m ⧖ \u001b[38;5;4m9.388s\u001b[2m\u001b[0m\n",
      "    │   ├── \u001b[38;5;4mprompt\u001b[0m: Can you describe these basketball teams? 76ers Miami Heat\u001b[0m\n",
      "    │   └── \u001b[38;5;5mPrompted\u001b[0m/3/2\u001b[0m ⇒ \u001b[38;5;2msucceeded\u001b[0m \u001b[38;5;15m2023-02-27 15:15:22Z\u001b[2m\u001b[0m\n",
      "    ├── \u001b[38;5;5mResult\u001b[0m/4/1\u001b[0m ⇒ \u001b[38;5;2mstarted\u001b[0m \u001b[38;5;15m2023-02-27 15:15:22Z\u001b[2m\u001b[0m ⧖ \u001b[38;5;4m0.000s\u001b[2m\u001b[0m\n",
      "    │   ├── \u001b[38;5;4mresult\u001b[0m: ⏎\n",
      "    │   │   ⏎\n",
      "    │   │   The Philadelphia 76ers are a professional basketball team based in Philadelphia, Pennsylvania. They compete in the National Basketball Association (NBA) as a member of the Eastern Conference Atlantic Division. The 76ers have won three NBA championships, with their first coming as the Syracuse Nationals in 1955. The team has featured many Hall of Fame players, including Wilt Chamberlain, Julius Erving, Moses Malone, Charles Barkley, and Allen Iverson.⏎\n",
      "    │   │   ⏎\n",
      "    │   │   The Miami Heat are a professional basketball team based in Miami, Florida. They compete in the National Basketball Association (NBA) as a member of the Eastern Conference Southeast Division. The Heat have won three NBA championships, with their first coming in 2006. The team has featured many Hall of Fame players, including Dwyane Wade, Shaquille O'Neal, Alonzo Mourning, and LeBron James.\u001b[0m\n",
      "    │   └── \u001b[38;5;5mResult\u001b[0m/4/2\u001b[0m ⇒ \u001b[38;5;2msucceeded\u001b[0m \u001b[38;5;15m2023-02-27 15:15:22Z\u001b[2m\u001b[0m\n",
      "    └── \u001b[38;5;5m<class '__main__.TeamPrompt'>\u001b[0m/5\u001b[0m ⇒ \u001b[38;5;2msucceeded\u001b[0m \u001b[38;5;15m2023-02-27 15:15:22Z\u001b[2m\u001b[0m\n",
      "\n",
      "\u001b[38;5;15me6500825-7504-48d6-9cfa-cf71aed4fe61\u001b[1m\u001b[0m\n",
      "└── \u001b[38;5;5mner\u001b[0m/1\u001b[0m ⇒ \u001b[38;5;2mstarted\u001b[0m \u001b[38;5;15m2023-02-27 15:15:07Z\u001b[2m\u001b[0m ⧖ \u001b[38;5;4m14.735s\u001b[2m\u001b[0m\n",
      "    └── \u001b[38;5;5mner\u001b[0m/2\u001b[0m ⇒ \u001b[38;5;2msucceeded\u001b[0m \u001b[38;5;15m2023-02-27 15:15:22Z\u001b[2m\u001b[0m\n",
      "\n"
     ]
    }
   ],
   "source": [
    "minichain.show_log(\"ner.log\")"
   ]
  }
 ],
 "metadata": {
  "jupytext": {
   "cell_metadata_filter": "tags,-all"
  },
  "kernelspec": {
   "display_name": "minichain",
   "language": "python",
   "name": "minichain"
  },
  "language_info": {
   "codemirror_mode": {
    "name": "ipython",
    "version": 3
   },
   "file_extension": ".py",
   "mimetype": "text/x-python",
   "name": "python",
   "nbconvert_exporter": "python",
   "pygments_lexer": "ipython3",
   "version": "3.10.6"
  }
 },
 "nbformat": 4,
 "nbformat_minor": 5
}
