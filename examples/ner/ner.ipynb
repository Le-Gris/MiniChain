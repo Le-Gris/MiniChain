{
 "cells": [
  {
   "cell_type": "markdown",
   "id": "71531fa7",
   "metadata": {
    "lines_to_next_cell": 2
   },
   "source": [
    "Notebook implementation of named entity recognition.\n",
    "Adapted from [promptify](https://github.com/promptslab/Promptify/blob/main/promptify/prompts/nlp/templates/ner.jinja)."
   ]
  },
  {
   "cell_type": "code",
   "execution_count": 1,
   "id": "5e21c333",
   "metadata": {
    "execution": {
     "iopub.execute_input": "2023-02-27T14:50:43.580186Z",
     "iopub.status.busy": "2023-02-27T14:50:43.579956Z",
     "iopub.status.idle": "2023-02-27T14:50:43.768925Z",
     "shell.execute_reply": "2023-02-27T14:50:43.768232Z"
    },
    "lines_to_next_cell": 1
   },
   "outputs": [],
   "source": [
    "import minichain\n",
    "import json"
   ]
  },
  {
   "cell_type": "markdown",
   "id": "1d5b2521",
   "metadata": {},
   "source": [
    "Prompt to extract NER tags as json"
   ]
  },
  {
   "cell_type": "code",
   "execution_count": 2,
   "id": "49529da8",
   "metadata": {
    "execution": {
     "iopub.execute_input": "2023-02-27T14:50:43.774102Z",
     "iopub.status.busy": "2023-02-27T14:50:43.772906Z",
     "iopub.status.idle": "2023-02-27T14:50:43.778421Z",
     "shell.execute_reply": "2023-02-27T14:50:43.777819Z"
    }
   },
   "outputs": [],
   "source": [
    "class NERPrompt(minichain.TemplatePrompt):\n",
    "    template_file = \"ner.pmpt.tpl\"\n",
    "    \n",
    "    def parse(self, response, inp):\n",
    "        return json.loads(response)"
   ]
  },
  {
   "cell_type": "markdown",
   "id": "b1976554",
   "metadata": {},
   "source": [
    "Run the system."
   ]
  },
  {
   "cell_type": "code",
   "execution_count": 3,
   "id": "89202ff7",
   "metadata": {
    "execution": {
     "iopub.execute_input": "2023-02-27T14:50:43.783161Z",
     "iopub.status.busy": "2023-02-27T14:50:43.781913Z",
     "iopub.status.idle": "2023-02-27T14:50:46.672877Z",
     "shell.execute_reply": "2023-02-27T14:50:46.672081Z"
    }
   },
   "outputs": [
    {
     "name": "stdout",
     "output_type": "stream",
     "text": [
      "[{'T': 'Team', 'E': '76ers'}, {'T': 'Team', 'E': 'Miami Heat'}, {'T': 'Date', 'E': 'Monday night'}]\n"
     ]
    }
   ],
   "source": [
    "with minichain.start_chain(\"ner\") as backend:\n",
    "    p1 = NERPrompt(backend.OpenAI())\n",
    "    results = p1(\n",
    "        {\"text_input\": \"An NBA playoff pairing a year ago, the 76ers (39-20) meet the Miami Heat (32-29) for the first time this season on Monday night at home.\",\n",
    "         \"labels\" : [\"Team\", \"Date\"],\n",
    "         \"domain\": \"Sports\"\n",
    "         }\n",
    "    )\n",
    "    print(results)"
   ]
  },
  {
   "cell_type": "markdown",
   "id": "3c564969",
   "metadata": {},
   "source": [
    "View prompt examples."
   ]
  },
  {
   "cell_type": "code",
   "execution_count": 4,
   "id": "18207624",
   "metadata": {
    "execution": {
     "iopub.execute_input": "2023-02-27T14:50:46.676853Z",
     "iopub.status.busy": "2023-02-27T14:50:46.676032Z",
     "iopub.status.idle": "2023-02-27T14:50:46.731072Z",
     "shell.execute_reply": "2023-02-27T14:50:46.730446Z"
    },
    "tags": [
     "hide_inp"
    ]
   },
   "outputs": [
    {
     "data": {
      "text/html": [
       "\n",
       "<!-- <link rel=\"stylesheet\" href=\"https://cdn.rawgit.com/Chalarangelo/mini.css/v3.0.1/dist/mini-default.min.css\"> -->\n",
       " <main class=\"container\">\n",
       "\n",
       "<h3>NERPrompt</h3>\n",
       "\n",
       "<dl>\n",
       "  <dt>Input:</dt>\n",
       "  <dd>\n",
       "<div class=\"highlight\"><pre><span></span><span class=\"p\">{</span><span class=\"s1\">&#39;input&#39;</span><span class=\"p\">:</span> <span class=\"s1\">&#39;I went to New York&#39;</span><span class=\"p\">,</span> <span class=\"s1\">&#39;domain&#39;</span><span class=\"p\">:</span> <span class=\"s1\">&#39;Travel&#39;</span><span class=\"p\">,</span> <span class=\"s1\">&#39;labels&#39;</span><span class=\"p\">:</span> <span class=\"p\">[</span><span class=\"s1\">&#39;City&#39;</span><span class=\"p\">]}</span>\n",
       "</pre></div>\n",
       "\n",
       "\n",
       "  </dd>\n",
       "\n",
       "  <dt> Full Prompt: </dt>\n",
       "  <dd>\n",
       "    <details>\n",
       "      <summary>Prompt</summary>\n",
       "      <p>You are a highly intelligent and accurate <div style='color:red'>Travel</div> domain Named-entity recognition(NER) system. You take Passage as input and your task is to recognize and extract specific types of <div style='color:red'>Travel</div> domain named entities in that given passage and classify into a set of following predefined entity types:<br><br><br>* City<br><br><br>Your output format is only [{\"T\": type of entity from predefined entity types, \"E\": entity in the input text}] form, no other form.<br><br>Input: <br>Output:</p>\n",
       "    </details>\n",
       "  </dd>\n",
       "\n",
       "  <dt> Response: </dt>\n",
       "  <dd>\n",
       "    [{\"T\": \"City\", \"E\": \"New York\"}]\n",
       "  </dd>\n",
       "\n",
       "  <dt>Value:</dt>\n",
       "  <dd>\n",
       "<div class=\"highlight\"><pre><span></span><span class=\"p\">[{</span><span class=\"s1\">&#39;T&#39;</span><span class=\"p\">:</span> <span class=\"s1\">&#39;City&#39;</span><span class=\"p\">,</span> <span class=\"s1\">&#39;E&#39;</span><span class=\"p\">:</span> <span class=\"s1\">&#39;New York&#39;</span><span class=\"p\">}]</span>\n",
       "</pre></div>\n",
       "\n",
       "  </dd>\n",
       "</main>\n"
      ],
      "text/plain": [
       "HTML(html='\\n<!-- <link rel=\"stylesheet\" href=\"https://cdn.rawgit.com/Chalarangelo/mini.css/v3.0.1/dist/mini-default.min.css\"> -->\\n <main class=\"container\">\\n\\n<h3>NERPrompt</h3>\\n\\n<dl>\\n  <dt>Input:</dt>\\n  <dd>\\n<div class=\"highlight\"><pre><span></span><span class=\"p\">{</span><span class=\"s1\">&#39;input&#39;</span><span class=\"p\">:</span> <span class=\"s1\">&#39;I went to New York&#39;</span><span class=\"p\">,</span> <span class=\"s1\">&#39;domain&#39;</span><span class=\"p\">:</span> <span class=\"s1\">&#39;Travel&#39;</span><span class=\"p\">,</span> <span class=\"s1\">&#39;labels&#39;</span><span class=\"p\">:</span> <span class=\"p\">[</span><span class=\"s1\">&#39;City&#39;</span><span class=\"p\">]}</span>\\n</pre></div>\\n\\n\\n  </dd>\\n\\n  <dt> Full Prompt: </dt>\\n  <dd>\\n    <details>\\n      <summary>Prompt</summary>\\n      <p>You are a highly intelligent and accurate <div style=\\'color:red\\'>Travel</div> domain Named-entity recognition(NER) system. You take Passage as input and your task is to recognize and extract specific types of <div style=\\'color:red\\'>Travel</div> domain named entities in that given passage and classify into a set of following predefined entity types:<br><br><br>* City<br><br><br>Your output format is only [{\"T\": type of entity from predefined entity types, \"E\": entity in the input text}] form, no other form.<br><br>Input: <br>Output:</p>\\n    </details>\\n  </dd>\\n\\n  <dt> Response: </dt>\\n  <dd>\\n    [{\"T\": \"City\", \"E\": \"New York\"}]\\n  </dd>\\n\\n  <dt>Value:</dt>\\n  <dd>\\n<div class=\"highlight\"><pre><span></span><span class=\"p\">[{</span><span class=\"s1\">&#39;T&#39;</span><span class=\"p\">:</span> <span class=\"s1\">&#39;City&#39;</span><span class=\"p\">,</span> <span class=\"s1\">&#39;E&#39;</span><span class=\"p\">:</span> <span class=\"s1\">&#39;New York&#39;</span><span class=\"p\">}]</span>\\n</pre></div>\\n\\n  </dd>\\n</main>\\n')"
      ]
     },
     "execution_count": 4,
     "metadata": {},
     "output_type": "execute_result"
    }
   ],
   "source": [
    "NERPrompt().show(\n",
    "    {\n",
    "        \"input\": \"I went to New York\",\n",
    "        \"domain\": \"Travel\",\n",
    "        \"labels\": [\"City\"]\n",
    "    },\n",
    "    '[{\"T\": \"City\", \"E\": \"New York\"}]',\n",
    ")"
   ]
  },
  {
   "cell_type": "markdown",
   "id": "e79f0d9a",
   "metadata": {},
   "source": [
    "View log."
   ]
  },
  {
   "cell_type": "code",
   "execution_count": 5,
   "id": "1cb498b4",
   "metadata": {
    "execution": {
     "iopub.execute_input": "2023-02-27T14:50:46.733388Z",
     "iopub.status.busy": "2023-02-27T14:50:46.733200Z",
     "iopub.status.idle": "2023-02-27T14:50:46.747298Z",
     "shell.execute_reply": "2023-02-27T14:50:46.746683Z"
    }
   },
   "outputs": [
    {
     "name": "stderr",
     "output_type": "stream",
     "text": [
      "\u001b[38;5;15m6d30733f-a7ba-4202-8a27-46a316f78ba7\u001b[1m\u001b[0m\n",
      "└── \u001b[38;5;5m<class '__main__.NERPrompt'>\u001b[0m/1\u001b[0m ⇒ \u001b[38;5;2mstarted\u001b[0m \u001b[38;5;15m2023-02-27 14:50:44Z\u001b[2m\u001b[0m ⧖ \u001b[38;5;4m2.575s\u001b[2m\u001b[0m\n",
      "    ├── \u001b[38;5;5mInput Function\u001b[0m/2/1\u001b[0m ⇒ \u001b[38;5;2mstarted\u001b[0m \u001b[38;5;15m2023-02-27 14:50:44Z\u001b[2m\u001b[0m ⧖ \u001b[38;5;4m0.004s\u001b[2m\u001b[0m\n",
      "    │   ├── \u001b[38;5;4minput\u001b[0m: \u001b[0m\n",
      "    │   │   ├── \u001b[38;5;4mdomain\u001b[0m: Sports\u001b[0m\n",
      "    │   │   ├── \u001b[38;5;4mlabels\u001b[0m: \u001b[0m\n",
      "    │   │   │   ├── \u001b[38;5;4m0\u001b[0m: Team\u001b[0m\n",
      "    │   │   │   └── \u001b[38;5;4m1\u001b[0m: Date\u001b[0m\n",
      "    │   │   └── \u001b[38;5;4mtext_input\u001b[0m: An NBA playoff pairing a year ago, the 76ers (39-20) meet the Miami Heat (32-29) for the first time this season on Monday night at home.\u001b[0m\n",
      "    │   └── \u001b[38;5;5mInput Function\u001b[0m/2/2\u001b[0m ⇒ \u001b[38;5;2msucceeded\u001b[0m \u001b[38;5;15m2023-02-27 14:50:44Z\u001b[2m\u001b[0m\n",
      "    ├── \u001b[38;5;5mPrompted\u001b[0m/3/1\u001b[0m ⇒ \u001b[38;5;2mstarted\u001b[0m \u001b[38;5;15m2023-02-27 14:50:44Z\u001b[2m\u001b[0m ⧖ \u001b[38;5;4m2.571s\u001b[2m\u001b[0m\n",
      "    │   ├── \u001b[38;5;4mprompt\u001b[0m: You are a highly intelligent and accurate Sports domain Named-entity recognition(NER) system. You take Passage as input and your task is to recognize and extract specific types of Sports domain named entities in that given passage and classify into a set of following predefined entity types:⏎\n",
      "    │   │   ⏎\n",
      "    │   │   ⏎\n",
      "    │   │   * Team⏎\n",
      "    │   │   ⏎\n",
      "    │   │   * Date⏎\n",
      "    │   │   ⏎\n",
      "    │   │   ⏎\n",
      "    │   │   Your output format is only [{\"T\": type of entity from predefined entity types, \"E\": entity in the input text}] form, no other form.⏎\n",
      "    │   │   ⏎\n",
      "    │   │   Input: An NBA playoff pairing a year ago, the 76ers (39-20) meet the Miami Heat (32-29) for the first time this season on Monday night at home.⏎\n",
      "    │   │   Output:\u001b[0m\n",
      "    │   └── \u001b[38;5;5mPrompted\u001b[0m/3/2\u001b[0m ⇒ \u001b[38;5;2msucceeded\u001b[0m \u001b[38;5;15m2023-02-27 14:50:46Z\u001b[2m\u001b[0m\n",
      "    ├── \u001b[38;5;5mResult\u001b[0m/4/1\u001b[0m ⇒ \u001b[38;5;2mstarted\u001b[0m \u001b[38;5;15m2023-02-27 14:50:46Z\u001b[2m\u001b[0m ⧖ \u001b[38;5;4m0.000s\u001b[2m\u001b[0m\n",
      "    │   ├── \u001b[38;5;4mresult\u001b[0m:  [{\"T\": \"Team\", \"E\": \"76ers\"}, {\"T\": \"Team\", \"E\": \"Miami Heat\"}, {\"T\": \"Date\", \"E\": \"Monday night\"}]\u001b[0m\n",
      "    │   └── \u001b[38;5;5mResult\u001b[0m/4/2\u001b[0m ⇒ \u001b[38;5;2msucceeded\u001b[0m \u001b[38;5;15m2023-02-27 14:50:46Z\u001b[2m\u001b[0m\n",
      "    └── \u001b[38;5;5m<class '__main__.NERPrompt'>\u001b[0m/5\u001b[0m ⇒ \u001b[38;5;2msucceeded\u001b[0m \u001b[38;5;15m2023-02-27 14:50:46Z\u001b[2m\u001b[0m\n",
      "\n",
      "\u001b[38;5;15m6ee1ea61-83e4-43b1-ab62-4cdc40429717\u001b[1m\u001b[0m\n",
      "└── \u001b[38;5;5mner\u001b[0m/1\u001b[0m ⇒ \u001b[38;5;2mstarted\u001b[0m \u001b[38;5;15m2023-02-27 14:50:43Z\u001b[2m\u001b[0m ⧖ \u001b[38;5;4m2.884s\u001b[2m\u001b[0m\n",
      "    └── \u001b[38;5;5mner\u001b[0m/2\u001b[0m ⇒ \u001b[38;5;2msucceeded\u001b[0m \u001b[38;5;15m2023-02-27 14:50:46Z\u001b[2m\u001b[0m\n",
      "\n"
     ]
    }
   ],
   "source": [
    "minichain.show_log(\"ner.log\")"
   ]
  }
 ],
 "metadata": {
  "jupytext": {
   "cell_metadata_filter": "tags,-all"
  },
  "kernelspec": {
   "display_name": "minichain",
   "language": "python",
   "name": "minichain"
  },
  "language_info": {
   "codemirror_mode": {
    "name": "ipython",
    "version": 3
   },
   "file_extension": ".py",
   "mimetype": "text/x-python",
   "name": "python",
   "nbconvert_exporter": "python",
   "pygments_lexer": "ipython3",
   "version": "3.10.6"
  }
 },
 "nbformat": 4,
 "nbformat_minor": 5
}
