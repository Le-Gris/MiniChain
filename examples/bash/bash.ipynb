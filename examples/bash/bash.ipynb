{
 "cells": [
  {
   "cell_type": "markdown",
   "id": "0bd4fd45",
   "metadata": {},
   "source": [
    "Generate and run a bash command.\n",
    "Adapted from LangChain\n",
    "[BashChain](https://langchain.readthedocs.io/en/latest/modules/chains/examples/llm_bash.html)"
   ]
  },
  {
   "cell_type": "code",
   "execution_count": 1,
   "id": "9cddadcb",
   "metadata": {
    "execution": {
     "iopub.execute_input": "2023-02-26T23:49:38.474179Z",
     "iopub.status.busy": "2023-02-26T23:49:38.473510Z",
     "iopub.status.idle": "2023-02-26T23:49:38.494041Z",
     "shell.execute_reply": "2023-02-26T23:49:38.491780Z"
    }
   },
   "outputs": [],
   "source": [
    "from typing import List"
   ]
  },
  {
   "cell_type": "code",
   "execution_count": 2,
   "id": "6d33faa1",
   "metadata": {
    "execution": {
     "iopub.execute_input": "2023-02-26T23:49:38.503049Z",
     "iopub.status.busy": "2023-02-26T23:49:38.502357Z",
     "iopub.status.idle": "2023-02-26T23:49:38.703982Z",
     "shell.execute_reply": "2023-02-26T23:49:38.703278Z"
    }
   },
   "outputs": [],
   "source": [
    "from minichain import Prompt, TemplatePrompt, show_log, start_chain"
   ]
  },
  {
   "cell_type": "markdown",
   "id": "7df5f8dd",
   "metadata": {
    "lines_to_next_cell": 2
   },
   "source": [
    "Prompt that asks LLM to produce a bash command."
   ]
  },
  {
   "cell_type": "code",
   "execution_count": 3,
   "id": "5531d69f",
   "metadata": {
    "execution": {
     "iopub.execute_input": "2023-02-26T23:49:38.708698Z",
     "iopub.status.busy": "2023-02-26T23:49:38.707475Z",
     "iopub.status.idle": "2023-02-26T23:49:38.713924Z",
     "shell.execute_reply": "2023-02-26T23:49:38.713286Z"
    },
    "lines_to_next_cell": 2
   },
   "outputs": [],
   "source": [
    "class CLIPrompt(TemplatePrompt[List[str]]):\n",
    "    template_file = \"bash.pmpt.tpl\"\n",
    "\n",
    "    def parse(self, out: str, inp: TemplatePrompt.IN) -> List[str]:\n",
    "        out = out.strip()\n",
    "        assert out.startswith(\"```bash\")\n",
    "        return out.split(\"\\n\")[1:-1]"
   ]
  },
  {
   "cell_type": "markdown",
   "id": "d0c3d185",
   "metadata": {
    "lines_to_next_cell": 2
   },
   "source": [
    "Prompt that runs the bash command."
   ]
  },
  {
   "cell_type": "code",
   "execution_count": 4,
   "id": "dc226e34",
   "metadata": {
    "execution": {
     "iopub.execute_input": "2023-02-26T23:49:38.719154Z",
     "iopub.status.busy": "2023-02-26T23:49:38.717876Z",
     "iopub.status.idle": "2023-02-26T23:49:38.724127Z",
     "shell.execute_reply": "2023-02-26T23:49:38.723460Z"
    }
   },
   "outputs": [],
   "source": [
    "class BashPrompt(Prompt[List[str], str]):\n",
    "    def prompt(self, inp: List[str]) -> str:\n",
    "        return \";\".join(inp).replace(\"\\n\", \"\")\n",
    "\n",
    "    def parse(self, out: str, inp: List[str]) -> str:\n",
    "        return out"
   ]
  },
  {
   "cell_type": "code",
   "execution_count": 5,
   "id": "ac96e642",
   "metadata": {
    "execution": {
     "iopub.execute_input": "2023-02-26T23:49:38.728813Z",
     "iopub.status.busy": "2023-02-26T23:49:38.727668Z",
     "iopub.status.idle": "2023-02-26T23:49:40.822046Z",
     "shell.execute_reply": "2023-02-26T23:49:40.821043Z"
    }
   },
   "outputs": [
    {
     "name": "stdout",
     "output_type": "stream",
     "text": [
      "backend.py\n",
      "base.py\n",
      "__init__.py\n",
      "lang.py\n",
      "prompts.py\n",
      "__pycache__\n",
      "templates\n",
      "\n"
     ]
    }
   ],
   "source": [
    "with start_chain(\"bash\") as backend:\n",
    "    question = (\n",
    "        '\"go up one directory, and then into the minichain directory,'\n",
    "        'and list the files in the directory\"'\n",
    "    )\n",
    "    prompt = CLIPrompt(backend.OpenAI()).chain(BashPrompt(backend.BashProcess()))\n",
    "    result = prompt({\"question\": question})\n",
    "    print(result)"
   ]
  },
  {
   "cell_type": "code",
   "execution_count": 6,
   "id": "6f09ca41",
   "metadata": {
    "execution": {
     "iopub.execute_input": "2023-02-26T23:49:40.825328Z",
     "iopub.status.busy": "2023-02-26T23:49:40.824978Z",
     "iopub.status.idle": "2023-02-26T23:49:40.870439Z",
     "shell.execute_reply": "2023-02-26T23:49:40.869805Z"
    },
    "tags": [
     "hide_inp"
    ]
   },
   "outputs": [
    {
     "data": {
      "text/html": [
       "\n",
       "<!-- <link rel=\"stylesheet\" href=\"https://cdn.rawgit.com/Chalarangelo/mini.css/v3.0.1/dist/mini-default.min.css\"> -->\n",
       " <main class=\"container\">\n",
       "\n",
       "<h3>CLIPrompt</h3>\n",
       "\n",
       "<dl>\n",
       "  <dt>Input:</dt>\n",
       "  <dd>\n",
       "<div class=\"highlight\"><pre><span></span><span class=\"p\">{</span><span class=\"s1\">&#39;question&#39;</span><span class=\"p\">:</span> <span class=\"s1\">&#39;list the files in the directory&#39;</span><span class=\"p\">}</span>\n",
       "</pre></div>\n",
       "\n",
       "\n",
       "  </dd>\n",
       "\n",
       "  <dt> Full Prompt: </dt>\n",
       "  <dd>\n",
       "    <details>\n",
       "      <summary>Prompt</summary>\n",
       "      <p>If someone asks you to perform a task, your job is to come up with a series of bash commands that will perform the task. There is no need to put \"#!/bin/bash\" in your answer. Make sure to reason step by step, using this format:<br><br>Question: \"copy the files in the directory named 'target' into a new directory at the same level as target called 'myNewDirectory'\"<br><br>I need to take the following actions:<br>- List all files in the directory<br>- Create a new directory<br>- Copy the files from the first directory into the second directory<br>```bash<br>ls<br>mkdir myNewDirectory<br>cp -r target/* myNewDirectory<br>```<br><br>That is the format. Begin!<br><br>Question: <div style='color:red'>list the files in the directory</div></p>\n",
       "    </details>\n",
       "  </dd>\n",
       "\n",
       "  <dt> Response: </dt>\n",
       "  <dd>\n",
       "    ```bash<br>ls<br>```\n",
       "  </dd>\n",
       "\n",
       "  <dt>Value:</dt>\n",
       "  <dd>\n",
       "<div class=\"highlight\"><pre><span></span><span class=\"p\">[</span><span class=\"s1\">&#39;ls&#39;</span><span class=\"p\">]</span>\n",
       "</pre></div>\n",
       "\n",
       "  </dd>\n",
       "</main>\n"
      ],
      "text/plain": [
       "HTML(html='\\n<!-- <link rel=\"stylesheet\" href=\"https://cdn.rawgit.com/Chalarangelo/mini.css/v3.0.1/dist/mini-default.min.css\"> -->\\n <main class=\"container\">\\n\\n<h3>CLIPrompt</h3>\\n\\n<dl>\\n  <dt>Input:</dt>\\n  <dd>\\n<div class=\"highlight\"><pre><span></span><span class=\"p\">{</span><span class=\"s1\">&#39;question&#39;</span><span class=\"p\">:</span> <span class=\"s1\">&#39;list the files in the directory&#39;</span><span class=\"p\">}</span>\\n</pre></div>\\n\\n\\n  </dd>\\n\\n  <dt> Full Prompt: </dt>\\n  <dd>\\n    <details>\\n      <summary>Prompt</summary>\\n      <p>If someone asks you to perform a task, your job is to come up with a series of bash commands that will perform the task. There is no need to put \"#!/bin/bash\" in your answer. Make sure to reason step by step, using this format:<br><br>Question: \"copy the files in the directory named \\'target\\' into a new directory at the same level as target called \\'myNewDirectory\\'\"<br><br>I need to take the following actions:<br>- List all files in the directory<br>- Create a new directory<br>- Copy the files from the first directory into the second directory<br>```bash<br>ls<br>mkdir myNewDirectory<br>cp -r target/* myNewDirectory<br>```<br><br>That is the format. Begin!<br><br>Question: <div style=\\'color:red\\'>list the files in the directory</div></p>\\n    </details>\\n  </dd>\\n\\n  <dt> Response: </dt>\\n  <dd>\\n    ```bash<br>ls<br>```\\n  </dd>\\n\\n  <dt>Value:</dt>\\n  <dd>\\n<div class=\"highlight\"><pre><span></span><span class=\"p\">[</span><span class=\"s1\">&#39;ls&#39;</span><span class=\"p\">]</span>\\n</pre></div>\\n\\n  </dd>\\n</main>\\n')"
      ]
     },
     "execution_count": 6,
     "metadata": {},
     "output_type": "execute_result"
    }
   ],
   "source": [
    "CLIPrompt().show(\n",
    "    {\"question\": \"list the files in the directory\"}, \"\"\"```bash\\nls\\n```\"\"\"\n",
    ")"
   ]
  },
  {
   "cell_type": "code",
   "execution_count": 7,
   "id": "40dc177c",
   "metadata": {
    "execution": {
     "iopub.execute_input": "2023-02-26T23:49:40.872673Z",
     "iopub.status.busy": "2023-02-26T23:49:40.872490Z",
     "iopub.status.idle": "2023-02-26T23:49:40.877456Z",
     "shell.execute_reply": "2023-02-26T23:49:40.876921Z"
    },
    "tags": [
     "hide_inp"
    ]
   },
   "outputs": [
    {
     "data": {
      "text/html": [
       "\n",
       "<!-- <link rel=\"stylesheet\" href=\"https://cdn.rawgit.com/Chalarangelo/mini.css/v3.0.1/dist/mini-default.min.css\"> -->\n",
       " <main class=\"container\">\n",
       "\n",
       "<h3>BashPrompt</h3>\n",
       "\n",
       "<dl>\n",
       "  <dt>Input:</dt>\n",
       "  <dd>\n",
       "<div class=\"highlight\"><pre><span></span><span class=\"p\">[</span><span class=\"s1\">&#39;ls&#39;</span><span class=\"p\">,</span> <span class=\"s1\">&#39;cat file.txt&#39;</span><span class=\"p\">]</span>\n",
       "</pre></div>\n",
       "\n",
       "\n",
       "  </dd>\n",
       "\n",
       "  <dt> Full Prompt: </dt>\n",
       "  <dd>\n",
       "    <details>\n",
       "      <summary>Prompt</summary>\n",
       "      <p>ls;cat file.txt</p>\n",
       "    </details>\n",
       "  </dd>\n",
       "\n",
       "  <dt> Response: </dt>\n",
       "  <dd>\n",
       "    hello\n",
       "  </dd>\n",
       "\n",
       "  <dt>Value:</dt>\n",
       "  <dd>\n",
       "<div class=\"highlight\"><pre><span></span><span class=\"n\">hello</span>\n",
       "</pre></div>\n",
       "\n",
       "  </dd>\n",
       "</main>\n"
      ],
      "text/plain": [
       "HTML(html='\\n<!-- <link rel=\"stylesheet\" href=\"https://cdn.rawgit.com/Chalarangelo/mini.css/v3.0.1/dist/mini-default.min.css\"> -->\\n <main class=\"container\">\\n\\n<h3>BashPrompt</h3>\\n\\n<dl>\\n  <dt>Input:</dt>\\n  <dd>\\n<div class=\"highlight\"><pre><span></span><span class=\"p\">[</span><span class=\"s1\">&#39;ls&#39;</span><span class=\"p\">,</span> <span class=\"s1\">&#39;cat file.txt&#39;</span><span class=\"p\">]</span>\\n</pre></div>\\n\\n\\n  </dd>\\n\\n  <dt> Full Prompt: </dt>\\n  <dd>\\n    <details>\\n      <summary>Prompt</summary>\\n      <p>ls;cat file.txt</p>\\n    </details>\\n  </dd>\\n\\n  <dt> Response: </dt>\\n  <dd>\\n    hello\\n  </dd>\\n\\n  <dt>Value:</dt>\\n  <dd>\\n<div class=\"highlight\"><pre><span></span><span class=\"n\">hello</span>\\n</pre></div>\\n\\n  </dd>\\n</main>\\n')"
      ]
     },
     "execution_count": 7,
     "metadata": {},
     "output_type": "execute_result"
    }
   ],
   "source": [
    "BashPrompt().show([\"ls\", \"cat file.txt\"], \"hello\")"
   ]
  },
  {
   "cell_type": "code",
   "execution_count": 8,
   "id": "68d288c4",
   "metadata": {
    "execution": {
     "iopub.execute_input": "2023-02-26T23:49:40.879845Z",
     "iopub.status.busy": "2023-02-26T23:49:40.879431Z",
     "iopub.status.idle": "2023-02-26T23:49:40.900291Z",
     "shell.execute_reply": "2023-02-26T23:49:40.899620Z"
    }
   },
   "outputs": [
    {
     "name": "stderr",
     "output_type": "stream",
     "text": [
      "\u001b[38;5;15m03519ff5-0e6f-4cf0-94eb-7ac8c4120410\u001b[1m\u001b[0m\n",
      "└── \u001b[38;5;5m<class '__main__.CLIPrompt'>\u001b[0m/1\u001b[0m ⇒ \u001b[38;5;2mstarted\u001b[0m \u001b[38;5;15m2023-02-26 23:49:39Z\u001b[2m\u001b[0m ⧖ \u001b[38;5;4m1.780s\u001b[2m\u001b[0m\n",
      "    ├── \u001b[38;5;5mInput Function\u001b[0m/2/1\u001b[0m ⇒ \u001b[38;5;2mstarted\u001b[0m \u001b[38;5;15m2023-02-26 23:49:39Z\u001b[2m\u001b[0m ⧖ \u001b[38;5;4m0.003s\u001b[2m\u001b[0m\n",
      "    │   ├── \u001b[38;5;4minput\u001b[0m: \u001b[0m\n",
      "    │   │   └── \u001b[38;5;4mquestion\u001b[0m: \"go up one directory, and then into the minichain directory,and list the files in the directory\"\u001b[0m\n",
      "    │   └── \u001b[38;5;5mInput Function\u001b[0m/2/2\u001b[0m ⇒ \u001b[38;5;2msucceeded\u001b[0m \u001b[38;5;15m2023-02-26 23:49:39Z\u001b[2m\u001b[0m\n",
      "    ├── \u001b[38;5;5mPrompted\u001b[0m/3/1\u001b[0m ⇒ \u001b[38;5;2mstarted\u001b[0m \u001b[38;5;15m2023-02-26 23:49:39Z\u001b[2m\u001b[0m ⧖ \u001b[38;5;4m1.777s\u001b[2m\u001b[0m\n",
      "    │   ├── \u001b[38;5;4mprompt\u001b[0m: If someone asks you to perform a task, your job is to come up with a series of bash commands that will perform the task. There is no need to put \"#!/bin/bash\" in your answer. Make sure to reason step by step, using this format:⏎\n",
      "    │   │   ⏎\n",
      "    │   │   Question: \"copy the files in the directory named 'target' into a new directory at the same level as target called 'myNewDirectory'\"⏎\n",
      "    │   │   ⏎\n",
      "    │   │   I need to take the following actions:⏎\n",
      "    │   │   - List all files in the directory⏎\n",
      "    │   │   - Create a new directory⏎\n",
      "    │   │   - Copy the files from the first directory into the second directory⏎\n",
      "    │   │   ```bash⏎\n",
      "    │   │   ls⏎\n",
      "    │   │   mkdir myNewDirectory⏎\n",
      "    │   │   cp -r target/* myNewDirectory⏎\n",
      "    │   │   ```⏎\n",
      "    │   │   ⏎\n",
      "    │   │   That is the format. Begin!⏎\n",
      "    │   │   ⏎\n",
      "    │   │   Question: \"go up one directory, and then into the minichain directory,and list the files in the directory\"\u001b[0m\n",
      "    │   └── \u001b[38;5;5mPrompted\u001b[0m/3/2\u001b[0m ⇒ \u001b[38;5;2msucceeded\u001b[0m \u001b[38;5;15m2023-02-26 23:49:40Z\u001b[2m\u001b[0m\n",
      "    ├── \u001b[38;5;5mResult\u001b[0m/4/1\u001b[0m ⇒ \u001b[38;5;2mstarted\u001b[0m \u001b[38;5;15m2023-02-26 23:49:40Z\u001b[2m\u001b[0m ⧖ \u001b[38;5;4m0.000s\u001b[2m\u001b[0m\n",
      "    │   ├── \u001b[38;5;4mresult\u001b[0m: ⏎\n",
      "    │   │   ⏎\n",
      "    │   │   ```bash⏎\n",
      "    │   │   cd ..⏎\n",
      "    │   │   cd minichain⏎\n",
      "    │   │   ls⏎\n",
      "    │   │   ```\u001b[0m\n",
      "    │   └── \u001b[38;5;5mResult\u001b[0m/4/2\u001b[0m ⇒ \u001b[38;5;2msucceeded\u001b[0m \u001b[38;5;15m2023-02-26 23:49:40Z\u001b[2m\u001b[0m\n",
      "    └── \u001b[38;5;5m<class '__main__.CLIPrompt'>\u001b[0m/5\u001b[0m ⇒ \u001b[38;5;2msucceeded\u001b[0m \u001b[38;5;15m2023-02-26 23:49:40Z\u001b[2m\u001b[0m\n",
      "\n",
      "\u001b[38;5;15mbcf2bc09-73ab-41a4-9142-d896da3810ba\u001b[1m\u001b[0m\n",
      "└── \u001b[38;5;5m<class '__main__.BashPrompt'>\u001b[0m/1\u001b[0m ⇒ \u001b[38;5;2mstarted\u001b[0m \u001b[38;5;15m2023-02-26 23:49:40Z\u001b[2m\u001b[0m ⧖ \u001b[38;5;4m0.002s\u001b[2m\u001b[0m\n",
      "    ├── \u001b[38;5;5mInput Function\u001b[0m/2/1\u001b[0m ⇒ \u001b[38;5;2mstarted\u001b[0m \u001b[38;5;15m2023-02-26 23:49:40Z\u001b[2m\u001b[0m ⧖ \u001b[38;5;4m0.000s\u001b[2m\u001b[0m\n",
      "    │   ├── \u001b[38;5;4minput\u001b[0m: \u001b[0m\n",
      "    │   │   ├── \u001b[38;5;4m0\u001b[0m: cd ..\u001b[0m\n",
      "    │   │   ├── \u001b[38;5;4m1\u001b[0m: cd minichain\u001b[0m\n",
      "    │   │   └── \u001b[38;5;4m2\u001b[0m: ls\u001b[0m\n",
      "    │   └── \u001b[38;5;5mInput Function\u001b[0m/2/2\u001b[0m ⇒ \u001b[38;5;2msucceeded\u001b[0m \u001b[38;5;15m2023-02-26 23:49:40Z\u001b[2m\u001b[0m\n",
      "    ├── \u001b[38;5;5mPrompted\u001b[0m/3/1\u001b[0m ⇒ \u001b[38;5;2mstarted\u001b[0m \u001b[38;5;15m2023-02-26 23:49:40Z\u001b[2m\u001b[0m ⧖ \u001b[38;5;4m0.002s\u001b[2m\u001b[0m\n",
      "    │   ├── \u001b[38;5;4mprompt\u001b[0m: cd ..;cd minichain;ls\u001b[0m\n",
      "    │   └── \u001b[38;5;5mPrompted\u001b[0m/3/2\u001b[0m ⇒ \u001b[38;5;2msucceeded\u001b[0m \u001b[38;5;15m2023-02-26 23:49:40Z\u001b[2m\u001b[0m\n",
      "    ├── \u001b[38;5;5mResult\u001b[0m/4/1\u001b[0m ⇒ \u001b[38;5;2mstarted\u001b[0m \u001b[38;5;15m2023-02-26 23:49:40Z\u001b[2m\u001b[0m ⧖ \u001b[38;5;4m0.000s\u001b[2m\u001b[0m\n",
      "    │   ├── \u001b[38;5;4mresult\u001b[0m: backend.py⏎\n",
      "    │   │   base.py⏎\n",
      "    │   │   __init__.py⏎\n",
      "    │   │   lang.py⏎\n",
      "    │   │   prompts.py⏎\n",
      "    │   │   __pycache__⏎\n",
      "    │   │   templates⏎\n",
      "    │   │   \u001b[0m\n",
      "    │   └── \u001b[38;5;5mResult\u001b[0m/4/2\u001b[0m ⇒ \u001b[38;5;2msucceeded\u001b[0m \u001b[38;5;15m2023-02-26 23:49:40Z\u001b[2m\u001b[0m\n",
      "    └── \u001b[38;5;5m<class '__main__.BashPrompt'>\u001b[0m/5\u001b[0m ⇒ \u001b[38;5;2msucceeded\u001b[0m \u001b[38;5;15m2023-02-26 23:49:40Z\u001b[2m\u001b[0m\n",
      "\n",
      "\u001b[38;5;15m46f2dffe-4471-4870-99f7-4692f2027823\u001b[1m\u001b[0m\n",
      "└── \u001b[38;5;5mbash\u001b[0m/1\u001b[0m ⇒ \u001b[38;5;2mstarted\u001b[0m \u001b[38;5;15m2023-02-26 23:49:38Z\u001b[2m\u001b[0m ⧖ \u001b[38;5;4m2.087s\u001b[2m\u001b[0m\n",
      "    └── \u001b[38;5;5mbash\u001b[0m/2\u001b[0m ⇒ \u001b[38;5;2msucceeded\u001b[0m \u001b[38;5;15m2023-02-26 23:49:40Z\u001b[2m\u001b[0m\n",
      "\n"
     ]
    }
   ],
   "source": [
    "show_log(\"bash.log\")"
   ]
  }
 ],
 "metadata": {
  "jupytext": {
   "cell_metadata_filter": "tags,-all"
  },
  "kernelspec": {
   "display_name": "minichain",
   "language": "python",
   "name": "minichain"
  },
  "language_info": {
   "codemirror_mode": {
    "name": "ipython",
    "version": 3
   },
   "file_extension": ".py",
   "mimetype": "text/x-python",
   "name": "python",
   "nbconvert_exporter": "python",
   "pygments_lexer": "ipython3",
   "version": "3.10.6"
  }
 },
 "nbformat": 4,
 "nbformat_minor": 5
}
