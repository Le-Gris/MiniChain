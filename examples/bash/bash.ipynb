{
 "cells": [
  {
   "cell_type": "code",
   "execution_count": 1,
   "id": "110e96cf",
   "metadata": {
    "execution": {
     "iopub.execute_input": "2023-02-23T22:30:33.030232Z",
     "iopub.status.busy": "2023-02-23T22:30:33.029602Z",
     "iopub.status.idle": "2023-02-23T22:30:33.069392Z",
     "shell.execute_reply": "2023-02-23T22:30:33.068812Z"
    }
   },
   "outputs": [],
   "source": [
    "from typing import List\n",
    "from minichain import Backend, JinjaPrompt, Prompt, start_chain"
   ]
  },
  {
   "cell_type": "code",
   "execution_count": null,
   "id": "722d10ba",
   "metadata": {},
   "outputs": [],
   "source": []
  },
  {
   "cell_type": "markdown",
   "id": "75c7c131",
   "metadata": {},
   "source": [
    "Prompt that asks LLM to produce a bash command."
   ]
  },
  {
   "cell_type": "code",
   "execution_count": 2,
   "id": "e9048415",
   "metadata": {
    "execution": {
     "iopub.execute_input": "2023-02-23T22:30:33.072173Z",
     "iopub.status.busy": "2023-02-23T22:30:33.071958Z",
     "iopub.status.idle": "2023-02-23T22:30:33.075836Z",
     "shell.execute_reply": "2023-02-23T22:30:33.075251Z"
    },
    "lines_to_next_cell": 1
   },
   "outputs": [],
   "source": [
    "class CLIPrompt(JinjaPrompt[List[str]]):\n",
    "    template_file = \"bash.pmpt.tpl\"\n",
    "    def parse(self, result: str) -> List[str]:\n",
    "        assert result.startswith(\"```bash\")\n",
    "        return result.split(\"\\n\")[1:-1]"
   ]
  },
  {
   "cell_type": "code",
   "execution_count": 3,
   "id": "a1c5254c",
   "metadata": {
    "execution": {
     "iopub.execute_input": "2023-02-23T22:30:33.078385Z",
     "iopub.status.busy": "2023-02-23T22:30:33.077821Z",
     "iopub.status.idle": "2023-02-23T22:30:33.122631Z",
     "shell.execute_reply": "2023-02-23T22:30:33.121949Z"
    }
   },
   "outputs": [
    {
     "data": {
      "text/html": [
       "\n",
       "<!-- <link rel=\"stylesheet\" href=\"https://cdn.rawgit.com/Chalarangelo/mini.css/v3.0.1/dist/mini-default.min.css\"> -->\n",
       " <main class=\"container\">\n",
       "\n",
       "<h3>CLIPrompt</h3>\n",
       "\n",
       "<dl>\n",
       "  <dt>Input:</dt>\n",
       "  <dd>\n",
       "<div class=\"highlight\"><pre><span></span><span class=\"p\">{</span><span class=\"s1\">&#39;question&#39;</span><span class=\"p\">:</span> <span class=\"s1\">&#39;list the files in the directory&#39;</span><span class=\"p\">}</span>\n",
       "</pre></div>\n",
       "\n",
       "\n",
       "  </dd>\n",
       "\n",
       "  <dt> Full Prompt: </dt>\n",
       "  <dd>\n",
       "    <details>\n",
       "      <summary></summary>\n",
       "      <p>If someone asks you to perform a task, your job is to come up with a series of bash commands that will perform the task. There is no need to put \"#!/bin/bash\" in your answer. Make sure to reason step by step, using this format:<br><br>Question: \"copy the files in the directory named 'target' into a new directory at the same level as target called 'myNewDirectory'\"<br><br>I need to take the following actions:<br>- List all files in the directory<br>- Create a new directory<br>- Copy the files from the first directory into the second directory<br>```bash<br>ls<br>mkdir myNewDirectory<br>cp -r target/* myNewDirectory<br>```<br><br>That is the format. Begin!<br><br>Question: <div style='color:red'>list the files in the directory</div></p>\n",
       "    </details>\n",
       "  </dd>\n",
       "  \n",
       "  <dt> Response: </dt>\n",
       "  <dd>     \n",
       "    ```bash<br>ls<br>```\n",
       "  </dd>\n",
       "\n",
       "  <dt>Value:</dt>\n",
       "  <dd>\n",
       "<div class=\"highlight\"><pre><span></span><span class=\"p\">[</span><span class=\"s1\">&#39;ls&#39;</span><span class=\"p\">]</span>\n",
       "</pre></div>\n",
       "\n",
       "  </dd>\n",
       "</main>\n"
      ],
      "text/plain": [
       "HTML(html='\\n<!-- <link rel=\"stylesheet\" href=\"https://cdn.rawgit.com/Chalarangelo/mini.css/v3.0.1/dist/mini-default.min.css\"> -->\\n <main class=\"container\">\\n\\n<h3>CLIPrompt</h3>\\n\\n<dl>\\n  <dt>Input:</dt>\\n  <dd>\\n<div class=\"highlight\"><pre><span></span><span class=\"p\">{</span><span class=\"s1\">&#39;question&#39;</span><span class=\"p\">:</span> <span class=\"s1\">&#39;list the files in the directory&#39;</span><span class=\"p\">}</span>\\n</pre></div>\\n\\n\\n  </dd>\\n\\n  <dt> Full Prompt: </dt>\\n  <dd>\\n    <details>\\n      <summary></summary>\\n      <p>If someone asks you to perform a task, your job is to come up with a series of bash commands that will perform the task. There is no need to put \"#!/bin/bash\" in your answer. Make sure to reason step by step, using this format:<br><br>Question: \"copy the files in the directory named \\'target\\' into a new directory at the same level as target called \\'myNewDirectory\\'\"<br><br>I need to take the following actions:<br>- List all files in the directory<br>- Create a new directory<br>- Copy the files from the first directory into the second directory<br>```bash<br>ls<br>mkdir myNewDirectory<br>cp -r target/* myNewDirectory<br>```<br><br>That is the format. Begin!<br><br>Question: <div style=\\'color:red\\'>list the files in the directory</div></p>\\n    </details>\\n  </dd>\\n  \\n  <dt> Response: </dt>\\n  <dd>     \\n    ```bash<br>ls<br>```\\n  </dd>\\n\\n  <dt>Value:</dt>\\n  <dd>\\n<div class=\"highlight\"><pre><span></span><span class=\"p\">[</span><span class=\"s1\">&#39;ls&#39;</span><span class=\"p\">]</span>\\n</pre></div>\\n\\n  </dd>\\n</main>\\n')"
      ]
     },
     "execution_count": 3,
     "metadata": {},
     "output_type": "execute_result"
    }
   ],
   "source": [
    "CLIPrompt().show(\n",
    "    {\"question\": \"list the files in the directory\"},\n",
    "    \"\"\"```bash\\nls\\n```\"\"\")"
   ]
  },
  {
   "cell_type": "markdown",
   "id": "6953ef8c",
   "metadata": {},
   "source": [
    "Prompt that runs the bash command."
   ]
  },
  {
   "cell_type": "code",
   "execution_count": 4,
   "id": "3688197b",
   "metadata": {
    "execution": {
     "iopub.execute_input": "2023-02-23T22:30:33.125083Z",
     "iopub.status.busy": "2023-02-23T22:30:33.124906Z",
     "iopub.status.idle": "2023-02-23T22:30:33.128917Z",
     "shell.execute_reply": "2023-02-23T22:30:33.128323Z"
    },
    "lines_to_next_cell": 1
   },
   "outputs": [],
   "source": [
    "class BashPrompt(Prompt[List[str], str]):\n",
    "    def prompt(self, inp: List[str]) -> str:\n",
    "        return \";\".join(inp).replace(\"\\n\", \"\")\n",
    "\n",
    "    def parse(self, out: str) -> str:\n",
    "        return out"
   ]
  },
  {
   "cell_type": "code",
   "execution_count": 5,
   "id": "39dfbffd",
   "metadata": {
    "execution": {
     "iopub.execute_input": "2023-02-23T22:30:33.131343Z",
     "iopub.status.busy": "2023-02-23T22:30:33.130967Z",
     "iopub.status.idle": "2023-02-23T22:30:33.136057Z",
     "shell.execute_reply": "2023-02-23T22:30:33.135642Z"
    },
    "lines_to_next_cell": 2
   },
   "outputs": [
    {
     "data": {
      "text/html": [
       "\n",
       "<!-- <link rel=\"stylesheet\" href=\"https://cdn.rawgit.com/Chalarangelo/mini.css/v3.0.1/dist/mini-default.min.css\"> -->\n",
       " <main class=\"container\">\n",
       "\n",
       "<h3>BashPrompt</h3>\n",
       "\n",
       "<dl>\n",
       "  <dt>Input:</dt>\n",
       "  <dd>\n",
       "<div class=\"highlight\"><pre><span></span><span class=\"p\">[</span><span class=\"s1\">&#39;ls&#39;</span><span class=\"p\">,</span> <span class=\"s1\">&#39;cat file.txt&#39;</span><span class=\"p\">]</span>\n",
       "</pre></div>\n",
       "\n",
       "\n",
       "  </dd>\n",
       "\n",
       "  <dt> Full Prompt: </dt>\n",
       "  <dd>\n",
       "    <details>\n",
       "      <summary></summary>\n",
       "      <p>ls;cat file.txt</p>\n",
       "    </details>\n",
       "  </dd>\n",
       "  \n",
       "  <dt> Response: </dt>\n",
       "  <dd>     \n",
       "    hello\n",
       "  </dd>\n",
       "\n",
       "  <dt>Value:</dt>\n",
       "  <dd>\n",
       "<div class=\"highlight\"><pre><span></span><span class=\"n\">hello</span>\n",
       "</pre></div>\n",
       "\n",
       "  </dd>\n",
       "</main>\n"
      ],
      "text/plain": [
       "HTML(html='\\n<!-- <link rel=\"stylesheet\" href=\"https://cdn.rawgit.com/Chalarangelo/mini.css/v3.0.1/dist/mini-default.min.css\"> -->\\n <main class=\"container\">\\n\\n<h3>BashPrompt</h3>\\n\\n<dl>\\n  <dt>Input:</dt>\\n  <dd>\\n<div class=\"highlight\"><pre><span></span><span class=\"p\">[</span><span class=\"s1\">&#39;ls&#39;</span><span class=\"p\">,</span> <span class=\"s1\">&#39;cat file.txt&#39;</span><span class=\"p\">]</span>\\n</pre></div>\\n\\n\\n  </dd>\\n\\n  <dt> Full Prompt: </dt>\\n  <dd>\\n    <details>\\n      <summary></summary>\\n      <p>ls;cat file.txt</p>\\n    </details>\\n  </dd>\\n  \\n  <dt> Response: </dt>\\n  <dd>     \\n    hello\\n  </dd>\\n\\n  <dt>Value:</dt>\\n  <dd>\\n<div class=\"highlight\"><pre><span></span><span class=\"n\">hello</span>\\n</pre></div>\\n\\n  </dd>\\n</main>\\n')"
      ]
     },
     "execution_count": 5,
     "metadata": {},
     "output_type": "execute_result"
    }
   ],
   "source": [
    "BashPrompt().show([\"ls\", \"cat file.txt\"], \"hello\")"
   ]
  },
  {
   "cell_type": "code",
   "execution_count": 6,
   "id": "6671d465",
   "metadata": {
    "execution": {
     "iopub.execute_input": "2023-02-23T22:30:33.138378Z",
     "iopub.status.busy": "2023-02-23T22:30:33.137995Z",
     "iopub.status.idle": "2023-02-23T22:30:33.146351Z",
     "shell.execute_reply": "2023-02-23T22:30:33.145886Z"
    }
   },
   "outputs": [
    {
     "name": "stdout",
     "output_type": "stream",
     "text": [
      "base.py\n",
      "bash.html\n",
      "bash.ipynb\n",
      "bash.log\n",
      "bash.pmpt.tpl\n",
      "bash.pmpt.tpl~\n",
      "bash.py\n",
      "bash.py~\n",
      "#parallel.py#\n",
      "parallel.py\n",
      "parallel.py~\n",
      "selfask\n",
      "selfask.html\n",
      "selfask.ipynb\n",
      "selfask.log\n",
      "selfask.pmpt.tpl\n",
      "selfask.py\n",
      "story.py\n",
      "story.py~\n",
      "base.py\n",
      "bash.html\n",
      "bash.ipynb\n",
      "bash.log\n",
      "bash.pmpt.tpl\n",
      "bash.pmpt.tpl~\n",
      "bash.py\n",
      "bash.py~\n",
      "#parallel.py#\n",
      "parallel.py\n",
      "parallel.py~\n",
      "selfask\n",
      "selfask.html\n",
      "selfask.ipynb\n",
      "selfask.log\n",
      "selfask.pmpt.tpl\n",
      "selfask.py\n",
      "story.py\n",
      "story.py~\n",
      "base.py\n",
      "bash.html\n",
      "bash.ipynb\n",
      "bash.log\n",
      "bash.pmpt.tpl\n",
      "bash.pmpt.tpl~\n",
      "bash.py\n",
      "bash.py~\n",
      "#parallel.py#\n",
      "parallel.py\n",
      "parallel.py~\n",
      "selfask\n",
      "selfask.html\n",
      "selfask.ipynb\n",
      "selfask.log\n",
      "selfask.pmpt.tpl\n",
      "selfask.py\n",
      "story.py\n",
      "story.py~\n",
      "\n"
     ]
    }
   ],
   "source": [
    "with start_chain(\"bash\") as backend:\n",
    "    mock = backend.Mock(\n",
    "        [\n",
    "                \"\"\"```bash\n",
    "ls\n",
    "ls\n",
    "ls\n",
    "```\"\"\"\n",
    "        ]\n",
    "    )\n",
    "    # openai = backend.OpenAI()\n",
    "    question = '\"go up one directory and list the files in the directory\"'\n",
    "    prompt = CLIPrompt(mock).chain(BashPrompt(backend.BashProcess()))\n",
    "    result = prompt({\"question\": question})\n",
    "    print(result.val)"
   ]
  },
  {
   "cell_type": "code",
   "execution_count": null,
   "id": "ce7e85be",
   "metadata": {},
   "outputs": [],
   "source": [
    "    "
   ]
  },
  {
   "cell_type": "code",
   "execution_count": 7,
   "id": "f6768ccc",
   "metadata": {
    "execution": {
     "iopub.execute_input": "2023-02-23T22:30:33.148483Z",
     "iopub.status.busy": "2023-02-23T22:30:33.148304Z",
     "iopub.status.idle": "2023-02-23T22:30:33.352014Z",
     "shell.execute_reply": "2023-02-23T22:30:33.349761Z"
    }
   },
   "outputs": [
    {
     "name": "stdout",
     "output_type": "stream",
     "text": [
      "f1d34948-3c10-43b1-993c-d3c55d3255b5\r\n",
      "\r\n",
      "b4113480-2253-4c08-be66-b4d54acd0911\r\n",
      "    │   ├── input: \r\n",
      "    │   │   └── question: \"go up one directory and list the files in the directory\"\r\n",
      "    │   ├── prompt: If someone asks you to perform a task, your job is to come up with a series of bash commands that will perform the task. There is no need to put \"#!/bin/bash\" in your answer. Make sure to reason step by step, using this format:⏎\r\n",
      "    │   │   ⏎\r\n",
      "    │   │   Question: \"copy the files in the directory named 'target' into a new directory at the same level as target called 'myNewDirectory'\"⏎\r\n",
      "    │   │   ⏎\r\n",
      "    │   │   I need to take the following actions:⏎\r\n",
      "    │   │   - List all files in the directory⏎\r\n",
      "    │   │   - Create a new directory⏎\r\n",
      "    │   │   - Copy the files from the first directory into the second directory⏎\r\n",
      "    │   │   ```bash⏎\r\n",
      "    │   │   ls⏎\r\n",
      "    │   │   mkdir myNewDirectory⏎\r\n",
      "    │   │   cp -r target/* myNewDirectory⏎\r\n",
      "    │   │   ```⏎\r\n",
      "    │   │   ⏎\r\n",
      "    │   │   That is the format. Begin!⏎\r\n",
      "    │   │   ⏎\r\n",
      "    │   │   Question: \"go up one directory and list the files in the directory\"\r\n",
      "    │   ├── result: ```bash⏎\r\n",
      "    │   │   ls⏎\r\n",
      "    │   │   ls⏎\r\n",
      "    │   │   ls⏎\r\n",
      "    │   │   ```\r\n",
      "    │   │   └── returned: \r\n",
      "    │   │       ├── 0: ls\r\n",
      "    │   │       ├── 1: ls\r\n",
      "    │   │       └── 2: ls\r\n",
      "\r\n",
      "bbfa93a2-07f9-4c2f-880e-8b4ea8cd5d66\r\n",
      "    │   ├── input: \r\n",
      "    │   │   ├── 0: ls\r\n",
      "    │   │   ├── 1: ls\r\n",
      "    │   │   └── 2: ls\r\n",
      "    │   ├── prompt: ls;ls;ls\r\n",
      "    │   ├── result: base.py⏎\r\n",
      "    │   │   bash.html⏎\r\n",
      "    │   │   bash.ipynb⏎\r\n",
      "    │   │   bash.log⏎\r\n",
      "    │   │   bash.pmpt.tpl⏎\r\n",
      "    │   │   bash.pmpt.tpl~⏎\r\n",
      "    │   │   bash.py⏎\r\n",
      "    │   │   bash.py~⏎\r\n",
      "    │   │   #parallel.py#⏎\r\n",
      "    │   │   parallel.py⏎\r\n",
      "    │   │   parallel.py~⏎\r\n",
      "    │   │   selfask⏎\r\n",
      "    │   │   selfask.html⏎\r\n",
      "    │   │   selfask.ipynb⏎\r\n",
      "    │   │   selfask.log⏎\r\n",
      "    │   │   selfask.pmpt.tpl⏎\r\n",
      "    │   │   selfask.py⏎\r\n",
      "    │   │   story.py⏎\r\n",
      "    │   │   story.py~⏎\r\n",
      "    │   │   base.py⏎\r\n",
      "    │   │   bash.html⏎\r\n",
      "    │   │   bash.ipynb⏎\r\n",
      "    │   │   bash.log⏎\r\n",
      "    │   │   bash.pmpt.tpl⏎\r\n",
      "    │   │   bash.pmpt.tpl~⏎\r\n",
      "    │   │   bash.py⏎\r\n",
      "    │   │   bash.py~⏎\r\n",
      "    │   │   #parallel.py#⏎\r\n",
      "    │   │   parallel.py⏎\r\n",
      "    │   │   parallel.py~⏎\r\n",
      "    │   │   selfask⏎\r\n",
      "    │   │   selfask.html⏎\r\n",
      "    │   │   selfask.ipynb⏎\r\n",
      "    │   │   selfask.log⏎\r\n",
      "    │   │   selfask.pmpt.tpl⏎\r\n",
      "    │   │   selfask.py⏎\r\n",
      "    │   │   story.py⏎\r\n",
      "    │   │   story.py~⏎\r\n",
      "    │   │   base.py⏎\r\n",
      "    │   │   bash.html⏎\r\n",
      "    │   │   bash.ipynb⏎\r\n",
      "    │   │   bash.log⏎\r\n",
      "    │   │   bash.pmpt.tpl⏎\r\n",
      "    │   │   bash.pmpt.tpl~⏎\r\n",
      "    │   │   bash.py⏎\r\n",
      "    │   │   bash.py~⏎\r\n",
      "    │   │   #parallel.py#⏎\r\n",
      "    │   │   parallel.py⏎\r\n",
      "    │   │   parallel.py~⏎\r\n",
      "    │   │   selfask⏎\r\n",
      "    │   │   selfask.html⏎\r\n",
      "    │   │   selfask.ipynb⏎\r\n",
      "    │   │   selfask.log⏎\r\n",
      "    │   │   selfask.pmpt.tpl⏎\r\n",
      "    │   │   selfask.py⏎\r\n",
      "    │   │   story.py⏎\r\n",
      "    │   │   story.py~⏎\r\n",
      "    │   │   \r\n",
      "    │   │   └── returned: base.py⏎\r\n",
      "    │   │       bash.html⏎\r\n",
      "    │   │       bash.ipynb⏎\r\n",
      "    │   │       bash.log⏎\r\n",
      "    │   │       bash.pmpt.tpl⏎\r\n",
      "    │   │       bash.pmpt.tpl~⏎\r\n",
      "    │   │       bash.py⏎\r\n",
      "    │   │       bash.py~⏎\r\n",
      "    │   │       #parallel.py#⏎\r\n",
      "    │   │       parallel.py⏎\r\n",
      "    │   │       parallel.py~⏎\r\n",
      "    │   │       selfask⏎\r\n",
      "    │   │       selfask.html⏎\r\n",
      "    │   │       selfask.ipynb⏎\r\n",
      "    │   │       selfask.log⏎\r\n",
      "    │   │       selfask.pmpt.tpl⏎\r\n",
      "    │   │       selfask.py⏎\r\n",
      "    │   │       story.py⏎\r\n",
      "    │   │       story.py~⏎\r\n",
      "    │   │       base.py⏎\r\n",
      "    │   │       bash.html⏎\r\n",
      "    │   │       bash.ipynb⏎\r\n",
      "    │   │       bash.log⏎\r\n",
      "    │   │       bash.pmpt.tpl⏎\r\n",
      "    │   │       bash.pmpt.tpl~⏎\r\n",
      "    │   │       bash.py⏎\r\n",
      "    │   │       bash.py~⏎\r\n",
      "    │   │       #parallel.py#⏎\r\n",
      "    │   │       parallel.py⏎\r\n",
      "    │   │       parallel.py~⏎\r\n",
      "    │   │       selfask⏎\r\n",
      "    │   │       selfask.html⏎\r\n",
      "    │   │       selfask.ipynb⏎\r\n",
      "    │   │       selfask.log⏎\r\n",
      "    │   │       selfask.pmpt.tpl⏎\r\n",
      "    │   │       selfask.py⏎\r\n",
      "    │   │       story.py⏎\r\n",
      "    │   │       story.py~⏎\r\n",
      "    │   │       base.py⏎\r\n",
      "    │   │       bash.html⏎\r\n",
      "    │   │       bash.ipynb⏎\r\n",
      "    │   │       bash.log⏎\r\n",
      "    │   │       bash.pmpt.tpl⏎\r\n",
      "    │   │       bash.pmpt.tpl~⏎\r\n",
      "    │   │       bash.py⏎\r\n",
      "    │   │       bash.py~⏎\r\n",
      "    │   │       #parallel.py#⏎\r\n",
      "    │   │       parallel.py⏎\r\n",
      "    │   │       parallel.py~⏎\r\n",
      "    │   │       selfask⏎\r\n",
      "    │   │       selfask.html⏎\r\n",
      "    │   │       selfask.ipynb⏎\r\n",
      "    │   │       selfask.log⏎\r\n",
      "    │   │       selfask.pmpt.tpl⏎\r\n",
      "    │   │       selfask.py⏎\r\n",
      "    │   │       story.py⏎\r\n",
      "    │   │       story.py~⏎\r\n",
      "    │   │       \r\n",
      "\r\n"
     ]
    }
   ],
   "source": [
    "!eliot-tree -l 0 bash.log | grep -v \"succeeded\" | grep -v \"started\""
   ]
  }
 ],
 "metadata": {
  "jupytext": {
   "cell_metadata_filter": "-all"
  },
  "kernelspec": {
   "display_name": "minichain",
   "language": "python",
   "name": "minichain"
  },
  "language_info": {
   "codemirror_mode": {
    "name": "ipython",
    "version": 3
   },
   "file_extension": ".py",
   "mimetype": "text/x-python",
   "name": "python",
   "nbconvert_exporter": "python",
   "pygments_lexer": "ipython3",
   "version": "3.10.6"
  }
 },
 "nbformat": 4,
 "nbformat_minor": 5
}
