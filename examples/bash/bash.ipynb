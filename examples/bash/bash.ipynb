{
 "cells": [
  {
   "cell_type": "markdown",
   "id": "fa62dbd2",
   "metadata": {},
   "source": [
    "Generate and run a bash command.\n",
    "Adapted from LangChain\n",
    "[BashChain](https://langchain.readthedocs.io/en/latest/modules/chains/examples/llm_bash.html)"
   ]
  },
  {
   "cell_type": "code",
   "execution_count": 1,
   "id": "ca0012b4",
   "metadata": {
    "execution": {
     "iopub.execute_input": "2023-02-26T01:46:55.275878Z",
     "iopub.status.busy": "2023-02-26T01:46:55.275653Z",
     "iopub.status.idle": "2023-02-26T01:46:55.389425Z",
     "shell.execute_reply": "2023-02-26T01:46:55.388792Z"
    },
    "lines_to_next_cell": 1
   },
   "outputs": [],
   "source": [
    "from typing import List\n",
    "from minichain import TemplatePrompt, Prompt, show_log, start_chain"
   ]
  },
  {
   "cell_type": "markdown",
   "id": "a6c1ea55",
   "metadata": {},
   "source": [
    "Prompt that asks LLM to produce a bash command."
   ]
  },
  {
   "cell_type": "code",
   "execution_count": 2,
   "id": "61f541b1",
   "metadata": {
    "execution": {
     "iopub.execute_input": "2023-02-26T01:46:55.392258Z",
     "iopub.status.busy": "2023-02-26T01:46:55.391922Z",
     "iopub.status.idle": "2023-02-26T01:46:55.395773Z",
     "shell.execute_reply": "2023-02-26T01:46:55.395168Z"
    },
    "lines_to_next_cell": 1
   },
   "outputs": [],
   "source": [
    "class CLIPrompt(TemplatePrompt[List[str]]):\n",
    "    template_file = \"bash.pmpt.tpl\"\n",
    "\n",
    "    def parse(self, out: str, inp: TemplatePrompt.IN) -> List[str]:\n",
    "        out = out.strip()\n",
    "        assert out.startswith(\"```bash\")\n",
    "        return out.split(\"\\n\")[1:-1]"
   ]
  },
  {
   "cell_type": "markdown",
   "id": "3f3203c9",
   "metadata": {},
   "source": [
    "Prompt that runs the bash command."
   ]
  },
  {
   "cell_type": "code",
   "execution_count": 3,
   "id": "58d9573a",
   "metadata": {
    "execution": {
     "iopub.execute_input": "2023-02-26T01:46:55.397936Z",
     "iopub.status.busy": "2023-02-26T01:46:55.397760Z",
     "iopub.status.idle": "2023-02-26T01:46:55.401752Z",
     "shell.execute_reply": "2023-02-26T01:46:55.401292Z"
    },
    "lines_to_next_cell": 1
   },
   "outputs": [],
   "source": [
    "class BashPrompt(Prompt[List[str], str]):\n",
    "    def prompt(self, inp: List[str]) -> str:\n",
    "        return \";\".join(inp).replace(\"\\n\", \"\")\n",
    "\n",
    "    def parse(self, out: str, inp: List[str]) -> str:\n",
    "        return out"
   ]
  },
  {
   "cell_type": "code",
   "execution_count": 4,
   "id": "42c33954",
   "metadata": {
    "execution": {
     "iopub.execute_input": "2023-02-26T01:46:55.403758Z",
     "iopub.status.busy": "2023-02-26T01:46:55.403582Z",
     "iopub.status.idle": "2023-02-26T01:46:56.996451Z",
     "shell.execute_reply": "2023-02-26T01:46:56.995466Z"
    }
   },
   "outputs": [
    {
     "name": "stdout",
     "output_type": "stream",
     "text": [
      "backend.py\n",
      "base.py\n",
      "__init__.py\n",
      "lang.py\n",
      "prompts.py\n",
      "__pycache__\n",
      "templates\n",
      "\n"
     ]
    }
   ],
   "source": [
    "with start_chain(\"bash\") as backend:\n",
    "    question = '\"go up one directory, and then into the minichain directory, and list the files in the directory\"'\n",
    "    prompt = CLIPrompt(backend.OpenAI()).chain(BashPrompt(backend.BashProcess()))\n",
    "    result = prompt({\"question\": question})\n",
    "    print(result)"
   ]
  },
  {
   "cell_type": "code",
   "execution_count": 5,
   "id": "d532be53",
   "metadata": {
    "execution": {
     "iopub.execute_input": "2023-02-26T01:46:56.999773Z",
     "iopub.status.busy": "2023-02-26T01:46:56.999411Z",
     "iopub.status.idle": "2023-02-26T01:46:57.045525Z",
     "shell.execute_reply": "2023-02-26T01:46:57.044864Z"
    },
    "tags": [
     "hide_inp"
    ]
   },
   "outputs": [
    {
     "data": {
      "text/html": [
       "\n",
       "<!-- <link rel=\"stylesheet\" href=\"https://cdn.rawgit.com/Chalarangelo/mini.css/v3.0.1/dist/mini-default.min.css\"> -->\n",
       " <main class=\"container\">\n",
       "\n",
       "<h3>CLIPrompt</h3>\n",
       "\n",
       "<dl>\n",
       "  <dt>Input:</dt>\n",
       "  <dd>\n",
       "<div class=\"highlight\"><pre><span></span><span class=\"p\">{</span><span class=\"s1\">&#39;question&#39;</span><span class=\"p\">:</span> <span class=\"s1\">&#39;list the files in the directory&#39;</span><span class=\"p\">}</span>\n",
       "</pre></div>\n",
       "\n",
       "\n",
       "  </dd>\n",
       "\n",
       "  <dt> Full Prompt: </dt>\n",
       "  <dd>\n",
       "    <details>\n",
       "      <summary>Prompt</summary>\n",
       "      <p>If someone asks you to perform a task, your job is to come up with a series of bash commands that will perform the task. There is no need to put \"#!/bin/bash\" in your answer. Make sure to reason step by step, using this format:<br><br>Question: \"copy the files in the directory named 'target' into a new directory at the same level as target called 'myNewDirectory'\"<br><br>I need to take the following actions:<br>- List all files in the directory<br>- Create a new directory<br>- Copy the files from the first directory into the second directory<br>```bash<br>ls<br>mkdir myNewDirectory<br>cp -r target/* myNewDirectory<br>```<br><br>That is the format. Begin!<br><br>Question: <div style='color:red'>list the files in the directory</div></p>\n",
       "    </details>\n",
       "  </dd>\n",
       "\n",
       "  <dt> Response: </dt>\n",
       "  <dd>\n",
       "    ```bash<br>ls<br>```\n",
       "  </dd>\n",
       "\n",
       "  <dt>Value:</dt>\n",
       "  <dd>\n",
       "<div class=\"highlight\"><pre><span></span><span class=\"p\">[</span><span class=\"s1\">&#39;ls&#39;</span><span class=\"p\">]</span>\n",
       "</pre></div>\n",
       "\n",
       "  </dd>\n",
       "</main>\n"
      ],
      "text/plain": [
       "HTML(html='\\n<!-- <link rel=\"stylesheet\" href=\"https://cdn.rawgit.com/Chalarangelo/mini.css/v3.0.1/dist/mini-default.min.css\"> -->\\n <main class=\"container\">\\n\\n<h3>CLIPrompt</h3>\\n\\n<dl>\\n  <dt>Input:</dt>\\n  <dd>\\n<div class=\"highlight\"><pre><span></span><span class=\"p\">{</span><span class=\"s1\">&#39;question&#39;</span><span class=\"p\">:</span> <span class=\"s1\">&#39;list the files in the directory&#39;</span><span class=\"p\">}</span>\\n</pre></div>\\n\\n\\n  </dd>\\n\\n  <dt> Full Prompt: </dt>\\n  <dd>\\n    <details>\\n      <summary>Prompt</summary>\\n      <p>If someone asks you to perform a task, your job is to come up with a series of bash commands that will perform the task. There is no need to put \"#!/bin/bash\" in your answer. Make sure to reason step by step, using this format:<br><br>Question: \"copy the files in the directory named \\'target\\' into a new directory at the same level as target called \\'myNewDirectory\\'\"<br><br>I need to take the following actions:<br>- List all files in the directory<br>- Create a new directory<br>- Copy the files from the first directory into the second directory<br>```bash<br>ls<br>mkdir myNewDirectory<br>cp -r target/* myNewDirectory<br>```<br><br>That is the format. Begin!<br><br>Question: <div style=\\'color:red\\'>list the files in the directory</div></p>\\n    </details>\\n  </dd>\\n\\n  <dt> Response: </dt>\\n  <dd>\\n    ```bash<br>ls<br>```\\n  </dd>\\n\\n  <dt>Value:</dt>\\n  <dd>\\n<div class=\"highlight\"><pre><span></span><span class=\"p\">[</span><span class=\"s1\">&#39;ls&#39;</span><span class=\"p\">]</span>\\n</pre></div>\\n\\n  </dd>\\n</main>\\n')"
      ]
     },
     "execution_count": 5,
     "metadata": {},
     "output_type": "execute_result"
    }
   ],
   "source": [
    "CLIPrompt().show(\n",
    "    {\"question\": \"list the files in the directory\"}, \"\"\"```bash\\nls\\n```\"\"\"\n",
    ")"
   ]
  },
  {
   "cell_type": "code",
   "execution_count": 6,
   "id": "0b914cf7",
   "metadata": {
    "execution": {
     "iopub.execute_input": "2023-02-26T01:46:57.047777Z",
     "iopub.status.busy": "2023-02-26T01:46:57.047591Z",
     "iopub.status.idle": "2023-02-26T01:46:57.052776Z",
     "shell.execute_reply": "2023-02-26T01:46:57.052116Z"
    },
    "tags": [
     "hide_inp"
    ]
   },
   "outputs": [
    {
     "data": {
      "text/html": [
       "\n",
       "<!-- <link rel=\"stylesheet\" href=\"https://cdn.rawgit.com/Chalarangelo/mini.css/v3.0.1/dist/mini-default.min.css\"> -->\n",
       " <main class=\"container\">\n",
       "\n",
       "<h3>BashPrompt</h3>\n",
       "\n",
       "<dl>\n",
       "  <dt>Input:</dt>\n",
       "  <dd>\n",
       "<div class=\"highlight\"><pre><span></span><span class=\"p\">[</span><span class=\"s1\">&#39;ls&#39;</span><span class=\"p\">,</span> <span class=\"s1\">&#39;cat file.txt&#39;</span><span class=\"p\">]</span>\n",
       "</pre></div>\n",
       "\n",
       "\n",
       "  </dd>\n",
       "\n",
       "  <dt> Full Prompt: </dt>\n",
       "  <dd>\n",
       "    <details>\n",
       "      <summary>Prompt</summary>\n",
       "      <p>ls;cat file.txt</p>\n",
       "    </details>\n",
       "  </dd>\n",
       "\n",
       "  <dt> Response: </dt>\n",
       "  <dd>\n",
       "    hello\n",
       "  </dd>\n",
       "\n",
       "  <dt>Value:</dt>\n",
       "  <dd>\n",
       "<div class=\"highlight\"><pre><span></span><span class=\"n\">hello</span>\n",
       "</pre></div>\n",
       "\n",
       "  </dd>\n",
       "</main>\n"
      ],
      "text/plain": [
       "HTML(html='\\n<!-- <link rel=\"stylesheet\" href=\"https://cdn.rawgit.com/Chalarangelo/mini.css/v3.0.1/dist/mini-default.min.css\"> -->\\n <main class=\"container\">\\n\\n<h3>BashPrompt</h3>\\n\\n<dl>\\n  <dt>Input:</dt>\\n  <dd>\\n<div class=\"highlight\"><pre><span></span><span class=\"p\">[</span><span class=\"s1\">&#39;ls&#39;</span><span class=\"p\">,</span> <span class=\"s1\">&#39;cat file.txt&#39;</span><span class=\"p\">]</span>\\n</pre></div>\\n\\n\\n  </dd>\\n\\n  <dt> Full Prompt: </dt>\\n  <dd>\\n    <details>\\n      <summary>Prompt</summary>\\n      <p>ls;cat file.txt</p>\\n    </details>\\n  </dd>\\n\\n  <dt> Response: </dt>\\n  <dd>\\n    hello\\n  </dd>\\n\\n  <dt>Value:</dt>\\n  <dd>\\n<div class=\"highlight\"><pre><span></span><span class=\"n\">hello</span>\\n</pre></div>\\n\\n  </dd>\\n</main>\\n')"
      ]
     },
     "execution_count": 6,
     "metadata": {},
     "output_type": "execute_result"
    }
   ],
   "source": [
    "BashPrompt().show([\"ls\", \"cat file.txt\"], \"hello\")"
   ]
  },
  {
   "cell_type": "code",
   "execution_count": 7,
   "id": "583c17b1",
   "metadata": {
    "execution": {
     "iopub.execute_input": "2023-02-26T01:46:57.055107Z",
     "iopub.status.busy": "2023-02-26T01:46:57.054678Z",
     "iopub.status.idle": "2023-02-26T01:46:57.075819Z",
     "shell.execute_reply": "2023-02-26T01:46:57.075212Z"
    }
   },
   "outputs": [
    {
     "name": "stderr",
     "output_type": "stream",
     "text": [
      "\u001b[38;5;15mbb64a4ed-6713-48bc-9d3b-4561445e2295\u001b[1m\u001b[0m\n",
      "└── \u001b[38;5;5m<class '__main__.CLIPrompt'>\u001b[0m/1\u001b[0m ⇒ \u001b[38;5;2mstarted\u001b[0m \u001b[38;5;15m2023-02-26 01:46:55Z\u001b[2m\u001b[0m ⧖ \u001b[38;5;4m1.188s\u001b[2m\u001b[0m\n",
      "    ├── \u001b[38;5;5mInput Function\u001b[0m/2/1\u001b[0m ⇒ \u001b[38;5;2mstarted\u001b[0m \u001b[38;5;15m2023-02-26 01:46:55Z\u001b[2m\u001b[0m ⧖ \u001b[38;5;4m0.002s\u001b[2m\u001b[0m\n",
      "    │   ├── \u001b[38;5;4minput\u001b[0m: \u001b[0m\n",
      "    │   │   └── \u001b[38;5;4mquestion\u001b[0m: \"go up one directory, and then into the minichain directory, and list the files in the directory\"\u001b[0m\n",
      "    │   └── \u001b[38;5;5mInput Function\u001b[0m/2/2\u001b[0m ⇒ \u001b[38;5;2msucceeded\u001b[0m \u001b[38;5;15m2023-02-26 01:46:55Z\u001b[2m\u001b[0m\n",
      "    ├── \u001b[38;5;5mPrompted\u001b[0m/3/1\u001b[0m ⇒ \u001b[38;5;2mstarted\u001b[0m \u001b[38;5;15m2023-02-26 01:46:55Z\u001b[2m\u001b[0m ⧖ \u001b[38;5;4m1.185s\u001b[2m\u001b[0m\n",
      "    │   ├── \u001b[38;5;4mprompt\u001b[0m: If someone asks you to perform a task, your job is to come up with a series of bash commands that will perform the task. There is no need to put \"#!/bin/bash\" in your answer. Make sure to reason step by step, using this format:⏎\n",
      "    │   │   ⏎\n",
      "    │   │   Question: \"copy the files in the directory named 'target' into a new directory at the same level as target called 'myNewDirectory'\"⏎\n",
      "    │   │   ⏎\n",
      "    │   │   I need to take the following actions:⏎\n",
      "    │   │   - List all files in the directory⏎\n",
      "    │   │   - Create a new directory⏎\n",
      "    │   │   - Copy the files from the first directory into the second directory⏎\n",
      "    │   │   ```bash⏎\n",
      "    │   │   ls⏎\n",
      "    │   │   mkdir myNewDirectory⏎\n",
      "    │   │   cp -r target/* myNewDirectory⏎\n",
      "    │   │   ```⏎\n",
      "    │   │   ⏎\n",
      "    │   │   That is the format. Begin!⏎\n",
      "    │   │   ⏎\n",
      "    │   │   Question: \"go up one directory, and then into the minichain directory, and list the files in the directory\"\u001b[0m\n",
      "    │   └── \u001b[38;5;5mPrompted\u001b[0m/3/2\u001b[0m ⇒ \u001b[38;5;2msucceeded\u001b[0m \u001b[38;5;15m2023-02-26 01:46:56Z\u001b[2m\u001b[0m\n",
      "    ├── \u001b[38;5;5mResult\u001b[0m/4/1\u001b[0m ⇒ \u001b[38;5;2mstarted\u001b[0m \u001b[38;5;15m2023-02-26 01:46:56Z\u001b[2m\u001b[0m ⧖ \u001b[38;5;4m0.000s\u001b[2m\u001b[0m\n",
      "    │   ├── \u001b[38;5;4mresult\u001b[0m: ⏎\n",
      "    │   │   ⏎\n",
      "    │   │   ```bash⏎\n",
      "    │   │   cd ..⏎\n",
      "    │   │   cd minichain⏎\n",
      "    │   │   ls⏎\n",
      "    │   │   ```\u001b[0m\n",
      "    │   └── \u001b[38;5;5mResult\u001b[0m/4/2\u001b[0m ⇒ \u001b[38;5;2msucceeded\u001b[0m \u001b[38;5;15m2023-02-26 01:46:56Z\u001b[2m\u001b[0m\n",
      "    └── \u001b[38;5;5m<class '__main__.CLIPrompt'>\u001b[0m/5\u001b[0m ⇒ \u001b[38;5;2msucceeded\u001b[0m \u001b[38;5;15m2023-02-26 01:46:56Z\u001b[2m\u001b[0m\n",
      "\n",
      "\u001b[38;5;15mbb72e4ef-c2f3-4288-a372-13d36483a28b\u001b[1m\u001b[0m\n",
      "└── \u001b[38;5;5m<class '__main__.BashPrompt'>\u001b[0m/1\u001b[0m ⇒ \u001b[38;5;2mstarted\u001b[0m \u001b[38;5;15m2023-02-26 01:46:56Z\u001b[2m\u001b[0m ⧖ \u001b[38;5;4m0.002s\u001b[2m\u001b[0m\n",
      "    ├── \u001b[38;5;5mInput Function\u001b[0m/2/1\u001b[0m ⇒ \u001b[38;5;2mstarted\u001b[0m \u001b[38;5;15m2023-02-26 01:46:56Z\u001b[2m\u001b[0m ⧖ \u001b[38;5;4m0.000s\u001b[2m\u001b[0m\n",
      "    │   ├── \u001b[38;5;4minput\u001b[0m: \u001b[0m\n",
      "    │   │   ├── \u001b[38;5;4m0\u001b[0m: cd ..\u001b[0m\n",
      "    │   │   ├── \u001b[38;5;4m1\u001b[0m: cd minichain\u001b[0m\n",
      "    │   │   └── \u001b[38;5;4m2\u001b[0m: ls\u001b[0m\n",
      "    │   └── \u001b[38;5;5mInput Function\u001b[0m/2/2\u001b[0m ⇒ \u001b[38;5;2msucceeded\u001b[0m \u001b[38;5;15m2023-02-26 01:46:56Z\u001b[2m\u001b[0m\n",
      "    ├── \u001b[38;5;5mPrompted\u001b[0m/3/1\u001b[0m ⇒ \u001b[38;5;2mstarted\u001b[0m \u001b[38;5;15m2023-02-26 01:46:56Z\u001b[2m\u001b[0m ⧖ \u001b[38;5;4m0.002s\u001b[2m\u001b[0m\n",
      "    │   ├── \u001b[38;5;4mprompt\u001b[0m: cd ..;cd minichain;ls\u001b[0m\n",
      "    │   └── \u001b[38;5;5mPrompted\u001b[0m/3/2\u001b[0m ⇒ \u001b[38;5;2msucceeded\u001b[0m \u001b[38;5;15m2023-02-26 01:46:56Z\u001b[2m\u001b[0m\n",
      "    ├── \u001b[38;5;5mResult\u001b[0m/4/1\u001b[0m ⇒ \u001b[38;5;2mstarted\u001b[0m \u001b[38;5;15m2023-02-26 01:46:56Z\u001b[2m\u001b[0m ⧖ \u001b[38;5;4m0.000s\u001b[2m\u001b[0m\n",
      "    │   ├── \u001b[38;5;4mresult\u001b[0m: backend.py⏎\n",
      "    │   │   base.py⏎\n",
      "    │   │   __init__.py⏎\n",
      "    │   │   lang.py⏎\n",
      "    │   │   prompts.py⏎\n",
      "    │   │   __pycache__⏎\n",
      "    │   │   templates⏎\n",
      "    │   │   \u001b[0m\n",
      "    │   └── \u001b[38;5;5mResult\u001b[0m/4/2\u001b[0m ⇒ \u001b[38;5;2msucceeded\u001b[0m \u001b[38;5;15m2023-02-26 01:46:56Z\u001b[2m\u001b[0m\n",
      "    └── \u001b[38;5;5m<class '__main__.BashPrompt'>\u001b[0m/5\u001b[0m ⇒ \u001b[38;5;2msucceeded\u001b[0m \u001b[38;5;15m2023-02-26 01:46:56Z\u001b[2m\u001b[0m\n",
      "\n",
      "\u001b[38;5;15med2328f3-f87f-4771-b117-53409c5fdedf\u001b[1m\u001b[0m\n",
      "└── \u001b[38;5;5mbash\u001b[0m/1\u001b[0m ⇒ \u001b[38;5;2mstarted\u001b[0m \u001b[38;5;15m2023-02-26 01:46:55Z\u001b[2m\u001b[0m ⧖ \u001b[38;5;4m1.588s\u001b[2m\u001b[0m\n",
      "    └── \u001b[38;5;5mbash\u001b[0m/2\u001b[0m ⇒ \u001b[38;5;2msucceeded\u001b[0m \u001b[38;5;15m2023-02-26 01:46:56Z\u001b[2m\u001b[0m\n",
      "\n"
     ]
    }
   ],
   "source": [
    "show_log(\"bash.log\")"
   ]
  }
 ],
 "metadata": {
  "jupytext": {
   "cell_metadata_filter": "tags,-all"
  },
  "kernelspec": {
   "display_name": "minichain",
   "language": "python",
   "name": "minichain"
  },
  "language_info": {
   "codemirror_mode": {
    "name": "ipython",
    "version": 3
   },
   "file_extension": ".py",
   "mimetype": "text/x-python",
   "name": "python",
   "nbconvert_exporter": "python",
   "pygments_lexer": "ipython3",
   "version": "3.10.6"
  }
 },
 "nbformat": 4,
 "nbformat_minor": 5
}
