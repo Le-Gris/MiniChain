{
 "cells": [
  {
   "cell_type": "code",
   "execution_count": 1,
   "id": "c38ce0f6",
   "metadata": {
    "execution": {
     "iopub.execute_input": "2023-03-22T17:00:50.962288Z",
     "iopub.status.busy": "2023-03-22T17:00:50.961690Z",
     "iopub.status.idle": "2023-03-22T17:00:50.980672Z",
     "shell.execute_reply": "2023-03-22T17:00:50.978710Z"
    }
   },
   "outputs": [],
   "source": [
    "desc = \"\"\"\n",
    "### Prompt-aided Language Models\n",
    "\n",
    "Chain for answering complex problems by code generation and execution. [[Code](https://github.com/srush/MiniChain/blob/main/examples/pal.py)]\n",
    "\n",
    "(Adapted from Prompt-aided Language Models [PAL](https://arxiv.org/pdf/2211.10435.pdf)).\n",
    "\"\"\""
   ]
  },
  {
   "cell_type": "markdown",
   "id": "feae8a53",
   "metadata": {},
   "source": [
    "$"
   ]
  },
  {
   "cell_type": "code",
   "execution_count": 2,
   "id": "50b61935",
   "metadata": {
    "execution": {
     "iopub.execute_input": "2023-03-22T17:00:50.988390Z",
     "iopub.status.busy": "2023-03-22T17:00:50.987754Z",
     "iopub.status.idle": "2023-03-22T17:00:52.281141Z",
     "shell.execute_reply": "2023-03-22T17:00:52.280472Z"
    },
    "lines_to_next_cell": 1
   },
   "outputs": [],
   "source": [
    "from minichain import prompt, show, OpenAI, Python"
   ]
  },
  {
   "cell_type": "code",
   "execution_count": 3,
   "id": "a924b4d1",
   "metadata": {
    "execution": {
     "iopub.execute_input": "2023-03-22T17:00:52.283783Z",
     "iopub.status.busy": "2023-03-22T17:00:52.283453Z",
     "iopub.status.idle": "2023-03-22T17:00:52.286846Z",
     "shell.execute_reply": "2023-03-22T17:00:52.286410Z"
    },
    "lines_to_next_cell": 1
   },
   "outputs": [],
   "source": [
    "@prompt(OpenAI(), template_file=\"pal.pmpt.tpl\")\n",
    "def pal_prompt(model, question):\n",
    "    return model(dict(question=question))"
   ]
  },
  {
   "cell_type": "code",
   "execution_count": 4,
   "id": "0033b792",
   "metadata": {
    "execution": {
     "iopub.execute_input": "2023-03-22T17:00:52.288978Z",
     "iopub.status.busy": "2023-03-22T17:00:52.288707Z",
     "iopub.status.idle": "2023-03-22T17:00:52.291754Z",
     "shell.execute_reply": "2023-03-22T17:00:52.291315Z"
    },
    "lines_to_next_cell": 1
   },
   "outputs": [],
   "source": [
    "@prompt(Python())\n",
    "def python(model, inp):\n",
    "    return int(model(inp + \"\\nprint(solution())\"))"
   ]
  },
  {
   "cell_type": "code",
   "execution_count": 5,
   "id": "60a5ddf7",
   "metadata": {
    "execution": {
     "iopub.execute_input": "2023-03-22T17:00:52.294112Z",
     "iopub.status.busy": "2023-03-22T17:00:52.293670Z",
     "iopub.status.idle": "2023-03-22T17:00:52.296744Z",
     "shell.execute_reply": "2023-03-22T17:00:52.296171Z"
    },
    "lines_to_next_cell": 1
   },
   "outputs": [],
   "source": [
    "def pal(question):\n",
    "    return python(pal_prompt(question))"
   ]
  },
  {
   "cell_type": "markdown",
   "id": "c75fead5",
   "metadata": {},
   "source": [
    "$"
   ]
  },
  {
   "cell_type": "code",
   "execution_count": 6,
   "id": "b0d40bd2",
   "metadata": {
    "execution": {
     "iopub.execute_input": "2023-03-22T17:00:52.298984Z",
     "iopub.status.busy": "2023-03-22T17:00:52.298796Z",
     "iopub.status.idle": "2023-03-22T17:00:52.301777Z",
     "shell.execute_reply": "2023-03-22T17:00:52.301305Z"
    }
   },
   "outputs": [],
   "source": [
    "question = \"Melanie is a door-to-door saleswoman. She sold a third of her \" \\\n",
    "    \"vacuum cleaners at the green house, 2 more to the red house, and half of \" \\\n",
    "    \"what was left at the orange house. If Melanie has 5 vacuum cleaners left, \" \\\n",
    "    \"how many did she start with?\""
   ]
  },
  {
   "cell_type": "code",
   "execution_count": 7,
   "id": "3c4485a4",
   "metadata": {
    "execution": {
     "iopub.execute_input": "2023-03-22T17:00:52.304005Z",
     "iopub.status.busy": "2023-03-22T17:00:52.303713Z",
     "iopub.status.idle": "2023-03-22T17:00:52.573239Z",
     "shell.execute_reply": "2023-03-22T17:00:52.572557Z"
    }
   },
   "outputs": [],
   "source": [
    "gradio = show(pal,\n",
    "              examples=[question],\n",
    "              subprompts=[pal_prompt, python],\n",
    "              description=desc,\n",
    "              code=open(\"pal.py\", \"r\").read().split(\"$\")[1].strip().strip(\"#\").strip(),\n",
    "              )"
   ]
  },
  {
   "cell_type": "code",
   "execution_count": 8,
   "id": "a5bebdcc",
   "metadata": {
    "execution": {
     "iopub.execute_input": "2023-03-22T17:00:52.575840Z",
     "iopub.status.busy": "2023-03-22T17:00:52.575635Z",
     "iopub.status.idle": "2023-03-22T17:00:52.646986Z",
     "shell.execute_reply": "2023-03-22T17:00:52.646403Z"
    }
   },
   "outputs": [
    {
     "name": "stdout",
     "output_type": "stream",
     "text": [
      "Running on local URL:  http://127.0.0.1:7861\n",
      "\n",
      "To create a public link, set `share=True` in `launch()`.\n"
     ]
    },
    {
     "data": {
      "text/html": [
       "<div><iframe src=\"http://127.0.0.1:7861/\" width=\"100%\" height=\"500\" allow=\"autoplay; camera; microphone; clipboard-read; clipboard-write;\" frameborder=\"0\" allowfullscreen></iframe></div>"
      ],
      "text/plain": [
       "<IPython.core.display.HTML object>"
      ]
     },
     "metadata": {},
     "output_type": "display_data"
    }
   ],
   "source": [
    "if __name__ == \"__main__\":\n",
    "    gradio.launch()"
   ]
  }
 ],
 "metadata": {
  "jupytext": {
   "cell_metadata_filter": "-all"
  },
  "kernelspec": {
   "display_name": "minichain",
   "language": "python",
   "name": "minichain"
  },
  "language_info": {
   "codemirror_mode": {
    "name": "ipython",
    "version": 3
   },
   "file_extension": ".py",
   "mimetype": "text/x-python",
   "name": "python",
   "nbconvert_exporter": "python",
   "pygments_lexer": "ipython3",
   "version": "3.10.6"
  }
 },
 "nbformat": 4,
 "nbformat_minor": 5
}
