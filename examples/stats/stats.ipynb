{
 "cells": [
  {
   "cell_type": "markdown",
   "id": "adb7c462",
   "metadata": {},
   "source": [
    "Information extraction from a typed data specification."
   ]
  },
  {
   "cell_type": "code",
   "execution_count": 1,
   "id": "013da8bb",
   "metadata": {
    "execution": {
     "iopub.execute_input": "2023-03-02T13:49:11.969530Z",
     "iopub.status.busy": "2023-03-02T13:49:11.968653Z",
     "iopub.status.idle": "2023-03-02T13:49:12.209671Z",
     "shell.execute_reply": "2023-03-02T13:49:12.208851Z"
    },
    "lines_to_next_cell": 1
   },
   "outputs": [],
   "source": [
    "import minichain\n",
    "from dataclasses import dataclass\n",
    "from typing import List\n",
    "from enum import Enum"
   ]
  },
  {
   "cell_type": "markdown",
   "id": "ed22e904",
   "metadata": {},
   "source": [
    "Data specification"
   ]
  },
  {
   "cell_type": "code",
   "execution_count": 2,
   "id": "40e72890",
   "metadata": {
    "execution": {
     "iopub.execute_input": "2023-03-02T13:49:12.215802Z",
     "iopub.status.busy": "2023-03-02T13:49:12.214364Z",
     "iopub.status.idle": "2023-03-02T13:49:12.220612Z",
     "shell.execute_reply": "2023-03-02T13:49:12.219906Z"
    },
    "lines_to_next_cell": 1
   },
   "outputs": [],
   "source": [
    "class StatType(Enum):\n",
    "    POINTS = 1\n",
    "    REBOUNDS = 2\n",
    "    ASSISTS = 3"
   ]
  },
  {
   "cell_type": "code",
   "execution_count": 3,
   "id": "74544ddb",
   "metadata": {
    "execution": {
     "iopub.execute_input": "2023-03-02T13:49:12.226033Z",
     "iopub.status.busy": "2023-03-02T13:49:12.224602Z",
     "iopub.status.idle": "2023-03-02T13:49:12.231201Z",
     "shell.execute_reply": "2023-03-02T13:49:12.230463Z"
    },
    "lines_to_next_cell": 1
   },
   "outputs": [],
   "source": [
    "@dataclass\n",
    "class Stat:\n",
    "    value: int\n",
    "    stat: StatType"
   ]
  },
  {
   "cell_type": "code",
   "execution_count": 4,
   "id": "1e16ff7e",
   "metadata": {
    "execution": {
     "iopub.execute_input": "2023-03-02T13:49:12.237061Z",
     "iopub.status.busy": "2023-03-02T13:49:12.235472Z",
     "iopub.status.idle": "2023-03-02T13:49:12.240625Z",
     "shell.execute_reply": "2023-03-02T13:49:12.240167Z"
    },
    "lines_to_next_cell": 1
   },
   "outputs": [],
   "source": [
    "@dataclass\n",
    "class Player:\n",
    "    player: str\n",
    "    stats: List[Stat]"
   ]
  },
  {
   "cell_type": "markdown",
   "id": "951c81c7",
   "metadata": {},
   "source": [
    "Code"
   ]
  },
  {
   "cell_type": "code",
   "execution_count": 5,
   "id": "a85a27a2",
   "metadata": {
    "execution": {
     "iopub.execute_input": "2023-03-02T13:49:12.242878Z",
     "iopub.status.busy": "2023-03-02T13:49:12.242692Z",
     "iopub.status.idle": "2023-03-02T13:49:12.246076Z",
     "shell.execute_reply": "2023-03-02T13:49:12.245559Z"
    }
   },
   "outputs": [],
   "source": [
    "class ExtractionPrompt(minichain.TypedTemplatePrompt):\n",
    "    template_file = \"stats.pmpt.tpl\"\n",
    "    Out = Player"
   ]
  },
  {
   "cell_type": "code",
   "execution_count": 6,
   "id": "523a3cab",
   "metadata": {
    "execution": {
     "iopub.execute_input": "2023-03-02T13:49:12.248170Z",
     "iopub.status.busy": "2023-03-02T13:49:12.247991Z",
     "iopub.status.idle": "2023-03-02T13:49:19.510898Z",
     "shell.execute_reply": "2023-03-02T13:49:19.509641Z"
    }
   },
   "outputs": [
    {
     "name": "stdout",
     "output_type": "stream",
     "text": [
      "{'player': 'str', 'stats': {'_t_': 'list', 't': {'value': 'int', 'stat': {'POINTS': 1, 'REBOUNDS': 2, 'ASSISTS': 3}}}}\n"
     ]
    },
    {
     "name": "stdout",
     "output_type": "stream",
     "text": [
      "[Player(player='Joel Embiid', stats=[{'value': '35', 'stat': 'POINTS'}, {'value': '8', 'stat': 'REBOUNDS'}]), Player(player='James Harden', stats=[{'value': '29', 'stat': 'POINTS'}, {'value': '13', 'stat': 'ASSISTS'}]), Player(player='Georges Niang', stats=[{'value': '16', 'stat': 'POINTS'}]), Player(player='Julius Randle', stats=[{'value': '35', 'stat': 'POINTS'}])]\n"
     ]
    }
   ],
   "source": [
    "with minichain.start_chain(\"stats\") as backend:\n",
    "    p = ExtractionPrompt(backend.OpenAI(max_tokens=512))\n",
    "    article = open(\"sixers.txt\").read()\n",
    "    print(p({\"passage\": article}))"
   ]
  },
  {
   "cell_type": "code",
   "execution_count": 7,
   "id": "dc580669",
   "metadata": {
    "execution": {
     "iopub.execute_input": "2023-03-02T13:49:19.516245Z",
     "iopub.status.busy": "2023-03-02T13:49:19.515619Z",
     "iopub.status.idle": "2023-03-02T13:49:19.590060Z",
     "shell.execute_reply": "2023-03-02T13:49:19.589407Z"
    },
    "lines_to_next_cell": 2
   },
   "outputs": [
    {
     "name": "stdout",
     "output_type": "stream",
     "text": [
      "{'player': 'str', 'stats': {'_t_': 'list', 't': {'value': 'int', 'stat': {'POINTS': 1, 'REBOUNDS': 2, 'ASSISTS': 3}}}}\n",
      "{'player': 'str', 'stats': {'_t_': 'list', 't': {'value': 'int', 'stat': {'POINTS': 1, 'REBOUNDS': 2, 'ASSISTS': 3}}}}\n"
     ]
    },
    {
     "data": {
      "text/html": [
       "\n",
       "<!-- <link rel=\"stylesheet\" href=\"https://cdn.rawgit.com/Chalarangelo/mini.css/v3.0.1/dist/mini-default.min.css\"> -->\n",
       " <main class=\"container\">\n",
       "\n",
       "<h3>ExtractionPrompt</h3>\n",
       "\n",
       "<dl>\n",
       "  <dt>Input:</dt>\n",
       "  <dd>\n",
       "<div class=\"highlight\"><pre><span></span><span class=\"p\">{</span><span class=\"s1\">&#39;passage&#39;</span><span class=\"p\">:</span> <span class=\"s1\">&#39;Harden had 10 rebounds.&#39;</span><span class=\"p\">}</span>\n",
       "</pre></div>\n",
       "\n",
       "\n",
       "  </dd>\n",
       "\n",
       "  <dt> Full Prompt: </dt>\n",
       "  <dd>\n",
       "    <details>\n",
       "      <summary>Prompt</summary>\n",
       "      <p>You are a highly intelligent and accurate information extraction system. You take passage as input and your task is to find parts of the passage to answer questions.<br>You need to output a list of JSON encoded values<br><br><br>You need to classify in to the following types for key: \"player\":<br><br>String<br><br><br>You need to classify in to the following types for key: \"stats\":<br><br><br><br>You need to classify in to the following types for key: \"value\":<br><br>Int <br><br>You need to classify in to the following types for key: \"stat\":<br><br><br><br>POINTS<br>REBOUNDS<br>ASSISTS<br><br><br>Only select from the above list, or \"Other\".<br><br><br><br><br><br><br><br><br>[{ \"player\" : \"player\" ,   \"stats\" : [{ \"value\" : \"value\" ,  \"stat\" : \"stat\"  <br> }]  <br> }, ...]<br><br><br><br>Make sure every output is exactly seen in the document. Find as many as you can.<br><br><div style='color:red'>Harden had 10 rebounds.</div></p>\n",
       "    </details>\n",
       "  </dd>\n",
       "\n",
       "  <dt> Response: </dt>\n",
       "  <dd>\n",
       "    [{\"player\": \"Harden\", \"stats\": {\"value\": 10, \"stat\": 2}}]\n",
       "  </dd>\n",
       "\n",
       "  <dt>Value:</dt>\n",
       "  <dd>\n",
       "<div class=\"highlight\"><pre><span></span><span class=\"p\">[</span><span class=\"n\">Player</span><span class=\"p\">(</span><span class=\"n\">player</span><span class=\"o\">=</span><span class=\"s1\">&#39;Harden&#39;</span><span class=\"p\">,</span> <span class=\"n\">stats</span><span class=\"o\">=</span><span class=\"p\">{</span><span class=\"s1\">&#39;value&#39;</span><span class=\"p\">:</span> <span class=\"mi\">10</span><span class=\"p\">,</span> <span class=\"s1\">&#39;stat&#39;</span><span class=\"p\">:</span> <span class=\"mi\">2</span><span class=\"p\">})]</span>\n",
       "</pre></div>\n",
       "\n",
       "  </dd>\n",
       "</main>\n"
      ],
      "text/plain": [
       "HTML(html='\\n<!-- <link rel=\"stylesheet\" href=\"https://cdn.rawgit.com/Chalarangelo/mini.css/v3.0.1/dist/mini-default.min.css\"> -->\\n <main class=\"container\">\\n\\n<h3>ExtractionPrompt</h3>\\n\\n<dl>\\n  <dt>Input:</dt>\\n  <dd>\\n<div class=\"highlight\"><pre><span></span><span class=\"p\">{</span><span class=\"s1\">&#39;passage&#39;</span><span class=\"p\">:</span> <span class=\"s1\">&#39;Harden had 10 rebounds.&#39;</span><span class=\"p\">}</span>\\n</pre></div>\\n\\n\\n  </dd>\\n\\n  <dt> Full Prompt: </dt>\\n  <dd>\\n    <details>\\n      <summary>Prompt</summary>\\n      <p>You are a highly intelligent and accurate information extraction system. You take passage as input and your task is to find parts of the passage to answer questions.<br>You need to output a list of JSON encoded values<br><br><br>You need to classify in to the following types for key: \"player\":<br><br>String<br><br><br>You need to classify in to the following types for key: \"stats\":<br><br><br><br>You need to classify in to the following types for key: \"value\":<br><br>Int <br><br>You need to classify in to the following types for key: \"stat\":<br><br><br><br>POINTS<br>REBOUNDS<br>ASSISTS<br><br><br>Only select from the above list, or \"Other\".<br><br><br><br><br><br><br><br><br>[{ \"player\" : \"player\" ,   \"stats\" : [{ \"value\" : \"value\" ,  \"stat\" : \"stat\"  <br> }]  <br> }, ...]<br><br><br><br>Make sure every output is exactly seen in the document. Find as many as you can.<br><br><div style=\\'color:red\\'>Harden had 10 rebounds.</div></p>\\n    </details>\\n  </dd>\\n\\n  <dt> Response: </dt>\\n  <dd>\\n    [{\"player\": \"Harden\", \"stats\": {\"value\": 10, \"stat\": 2}}]\\n  </dd>\\n\\n  <dt>Value:</dt>\\n  <dd>\\n<div class=\"highlight\"><pre><span></span><span class=\"p\">[</span><span class=\"n\">Player</span><span class=\"p\">(</span><span class=\"n\">player</span><span class=\"o\">=</span><span class=\"s1\">&#39;Harden&#39;</span><span class=\"p\">,</span> <span class=\"n\">stats</span><span class=\"o\">=</span><span class=\"p\">{</span><span class=\"s1\">&#39;value&#39;</span><span class=\"p\">:</span> <span class=\"mi\">10</span><span class=\"p\">,</span> <span class=\"s1\">&#39;stat&#39;</span><span class=\"p\">:</span> <span class=\"mi\">2</span><span class=\"p\">})]</span>\\n</pre></div>\\n\\n  </dd>\\n</main>\\n')"
      ]
     },
     "execution_count": 7,
     "metadata": {},
     "output_type": "execute_result"
    }
   ],
   "source": [
    "ExtractionPrompt().show({\"passage\": \"Harden had 10 rebounds.\"},\n",
    "                        '[{\"player\": \"Harden\", \"stats\": {\"value\": 10, \"stat\": 2}}]')"
   ]
  }
 ],
 "metadata": {
  "jupytext": {
   "cell_metadata_filter": "-all"
  },
  "kernelspec": {
   "display_name": "minichain",
   "language": "python",
   "name": "minichain"
  },
  "language_info": {
   "codemirror_mode": {
    "name": "ipython",
    "version": 3
   },
   "file_extension": ".py",
   "mimetype": "text/x-python",
   "name": "python",
   "nbconvert_exporter": "python",
   "pygments_lexer": "ipython3",
   "version": "3.10.6"
  }
 },
 "nbformat": 4,
 "nbformat_minor": 5
}
