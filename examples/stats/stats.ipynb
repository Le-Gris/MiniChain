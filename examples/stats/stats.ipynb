{
 "cells": [
  {
   "cell_type": "markdown",
   "id": "8be3866d",
   "metadata": {},
   "source": [
    "Information extraction from a typed data specification."
   ]
  },
  {
   "cell_type": "code",
   "execution_count": 1,
   "id": "af64b444",
   "metadata": {
    "execution": {
     "iopub.execute_input": "2023-03-02T14:09:08.980682Z",
     "iopub.status.busy": "2023-03-02T14:09:08.979966Z",
     "iopub.status.idle": "2023-03-02T14:09:09.206359Z",
     "shell.execute_reply": "2023-03-02T14:09:09.205531Z"
    },
    "lines_to_next_cell": 1
   },
   "outputs": [],
   "source": [
    "import minichain\n",
    "from dataclasses import dataclass\n",
    "from typing import List\n",
    "from enum import Enum"
   ]
  },
  {
   "cell_type": "markdown",
   "id": "52cba51b",
   "metadata": {},
   "source": [
    "Data specification"
   ]
  },
  {
   "cell_type": "code",
   "execution_count": 2,
   "id": "59752b43",
   "metadata": {
    "execution": {
     "iopub.execute_input": "2023-03-02T14:09:09.212541Z",
     "iopub.status.busy": "2023-03-02T14:09:09.211097Z",
     "iopub.status.idle": "2023-03-02T14:09:09.219859Z",
     "shell.execute_reply": "2023-03-02T14:09:09.218928Z"
    }
   },
   "outputs": [],
   "source": [
    "class StatType(Enum):\n",
    "    POINTS = 1\n",
    "    REBOUNDS = 2\n",
    "    ASSISTS = 3\n",
    "    \n",
    "@dataclass\n",
    "class Stat:\n",
    "    value: int\n",
    "    stat: StatType\n",
    "    \n",
    "@dataclass\n",
    "class Player:\n",
    "    player: str\n",
    "    stats: List[Stat]"
   ]
  },
  {
   "cell_type": "markdown",
   "id": "e48e7a4e",
   "metadata": {},
   "source": [
    "Code"
   ]
  },
  {
   "cell_type": "code",
   "execution_count": 3,
   "id": "b9811cc3",
   "metadata": {
    "execution": {
     "iopub.execute_input": "2023-03-02T14:09:09.225693Z",
     "iopub.status.busy": "2023-03-02T14:09:09.224305Z",
     "iopub.status.idle": "2023-03-02T14:09:09.230582Z",
     "shell.execute_reply": "2023-03-02T14:09:09.229674Z"
    }
   },
   "outputs": [],
   "source": [
    "class ExtractionPrompt(minichain.TypedTemplatePrompt):\n",
    "    template_file = \"stats.pmpt.tpl\"\n",
    "    Out = Player"
   ]
  },
  {
   "cell_type": "code",
   "execution_count": 4,
   "id": "362b4300",
   "metadata": {
    "execution": {
     "iopub.execute_input": "2023-03-02T14:09:09.235808Z",
     "iopub.status.busy": "2023-03-02T14:09:09.234998Z",
     "iopub.status.idle": "2023-03-02T14:09:17.159798Z",
     "shell.execute_reply": "2023-03-02T14:09:17.159033Z"
    }
   },
   "outputs": [
    {
     "name": "stdout",
     "output_type": "stream",
     "text": [
      "Player(player='Joel Embiid', stats=[{'value': 35, 'stat': 'POINTS'}, {'value': 8, 'stat': 'REBOUNDS'}])\n",
      "Player(player='James Harden', stats=[{'value': 29, 'stat': 'POINTS'}, {'value': 13, 'stat': 'ASSISTS'}])\n",
      "Player(player='Georges Niang', stats=[{'value': 16, 'stat': 'POINTS'}])\n",
      "Player(player='Julius Randle', stats=[{'value': 35, 'stat': 'POINTS'}])\n"
     ]
    }
   ],
   "source": [
    "with minichain.start_chain(\"stats\") as backend:\n",
    "    p = ExtractionPrompt(backend.OpenAI(max_tokens=512))\n",
    "    article = open(\"sixers.txt\").read()\n",
    "    for player in p({\"passage\": article}):\n",
    "        print(player)"
   ]
  },
  {
   "cell_type": "code",
   "execution_count": 5,
   "id": "2f3bb05e",
   "metadata": {
    "execution": {
     "iopub.execute_input": "2023-03-02T14:09:17.162945Z",
     "iopub.status.busy": "2023-03-02T14:09:17.162624Z",
     "iopub.status.idle": "2023-03-02T14:09:17.214627Z",
     "shell.execute_reply": "2023-03-02T14:09:17.214089Z"
    }
   },
   "outputs": [
    {
     "data": {
      "text/html": [
       "\n",
       "<!-- <link rel=\"stylesheet\" href=\"https://cdn.rawgit.com/Chalarangelo/mini.css/v3.0.1/dist/mini-default.min.css\"> -->\n",
       " <main class=\"container\">\n",
       "\n",
       "<h3>ExtractionPrompt</h3>\n",
       "\n",
       "<dl>\n",
       "  <dt>Input:</dt>\n",
       "  <dd>\n",
       "<div class=\"highlight\"><pre><span></span><span class=\"p\">{</span><span class=\"s1\">&#39;passage&#39;</span><span class=\"p\">:</span> <span class=\"s1\">&#39;Harden had 10 rebounds.&#39;</span><span class=\"p\">}</span>\n",
       "</pre></div>\n",
       "\n",
       "\n",
       "  </dd>\n",
       "\n",
       "  <dt> Full Prompt: </dt>\n",
       "  <dd>\n",
       "    <details>\n",
       "      <summary>Prompt</summary>\n",
       "      <p>You are a highly intelligent and accurate information extraction system. You take passage as input and your task is to find parts of the passage to answer questions.<br>You need to output a list of JSON encoded values<br><br><br>You need to classify in to the following types for key: \"player\":<br><br>String<br><br><br>You need to classify in to the following types for key: \"stats\":<br><br><br><br>You need to classify in to the following types for key: \"value\":<br><br>Int <br><br>You need to classify in to the following types for key: \"stat\":<br><br><br><br>POINTS<br>REBOUNDS<br>ASSISTS<br><br><br>Only select from the above list, or \"Other\".<br><br><br><br><br><br><br><br><br>[{ \"player\" : \"player\" ,   \"stats\" : [{ \"value\" : \"value\" ,  \"stat\" : \"stat\"  <br> }]  <br> }, ...]<br><br><br><br>Make sure every output is exactly seen in the document. Find as many as you can.<br><br><div style='color:red'>Harden had 10 rebounds.</div></p>\n",
       "    </details>\n",
       "  </dd>\n",
       "\n",
       "  <dt> Response: </dt>\n",
       "  <dd>\n",
       "    [{\"player\": \"Harden\", \"stats\": {\"value\": 10, \"stat\": 2}}]\n",
       "  </dd>\n",
       "\n",
       "  <dt>Value:</dt>\n",
       "  <dd>\n",
       "<div class=\"highlight\"><pre><span></span><span class=\"p\">[</span><span class=\"n\">Player</span><span class=\"p\">(</span><span class=\"n\">player</span><span class=\"o\">=</span><span class=\"s1\">&#39;Harden&#39;</span><span class=\"p\">,</span> <span class=\"n\">stats</span><span class=\"o\">=</span><span class=\"p\">{</span><span class=\"s1\">&#39;value&#39;</span><span class=\"p\">:</span> <span class=\"mi\">10</span><span class=\"p\">,</span> <span class=\"s1\">&#39;stat&#39;</span><span class=\"p\">:</span> <span class=\"mi\">2</span><span class=\"p\">})]</span>\n",
       "</pre></div>\n",
       "\n",
       "  </dd>\n",
       "</main>\n"
      ],
      "text/plain": [
       "HTML(html='\\n<!-- <link rel=\"stylesheet\" href=\"https://cdn.rawgit.com/Chalarangelo/mini.css/v3.0.1/dist/mini-default.min.css\"> -->\\n <main class=\"container\">\\n\\n<h3>ExtractionPrompt</h3>\\n\\n<dl>\\n  <dt>Input:</dt>\\n  <dd>\\n<div class=\"highlight\"><pre><span></span><span class=\"p\">{</span><span class=\"s1\">&#39;passage&#39;</span><span class=\"p\">:</span> <span class=\"s1\">&#39;Harden had 10 rebounds.&#39;</span><span class=\"p\">}</span>\\n</pre></div>\\n\\n\\n  </dd>\\n\\n  <dt> Full Prompt: </dt>\\n  <dd>\\n    <details>\\n      <summary>Prompt</summary>\\n      <p>You are a highly intelligent and accurate information extraction system. You take passage as input and your task is to find parts of the passage to answer questions.<br>You need to output a list of JSON encoded values<br><br><br>You need to classify in to the following types for key: \"player\":<br><br>String<br><br><br>You need to classify in to the following types for key: \"stats\":<br><br><br><br>You need to classify in to the following types for key: \"value\":<br><br>Int <br><br>You need to classify in to the following types for key: \"stat\":<br><br><br><br>POINTS<br>REBOUNDS<br>ASSISTS<br><br><br>Only select from the above list, or \"Other\".<br><br><br><br><br><br><br><br><br>[{ \"player\" : \"player\" ,   \"stats\" : [{ \"value\" : \"value\" ,  \"stat\" : \"stat\"  <br> }]  <br> }, ...]<br><br><br><br>Make sure every output is exactly seen in the document. Find as many as you can.<br><br><div style=\\'color:red\\'>Harden had 10 rebounds.</div></p>\\n    </details>\\n  </dd>\\n\\n  <dt> Response: </dt>\\n  <dd>\\n    [{\"player\": \"Harden\", \"stats\": {\"value\": 10, \"stat\": 2}}]\\n  </dd>\\n\\n  <dt>Value:</dt>\\n  <dd>\\n<div class=\"highlight\"><pre><span></span><span class=\"p\">[</span><span class=\"n\">Player</span><span class=\"p\">(</span><span class=\"n\">player</span><span class=\"o\">=</span><span class=\"s1\">&#39;Harden&#39;</span><span class=\"p\">,</span> <span class=\"n\">stats</span><span class=\"o\">=</span><span class=\"p\">{</span><span class=\"s1\">&#39;value&#39;</span><span class=\"p\">:</span> <span class=\"mi\">10</span><span class=\"p\">,</span> <span class=\"s1\">&#39;stat&#39;</span><span class=\"p\">:</span> <span class=\"mi\">2</span><span class=\"p\">})]</span>\\n</pre></div>\\n\\n  </dd>\\n</main>\\n')"
      ]
     },
     "execution_count": 5,
     "metadata": {},
     "output_type": "execute_result"
    }
   ],
   "source": [
    "ExtractionPrompt().show({\"passage\": \"Harden had 10 rebounds.\"},\n",
    "                        '[{\"player\": \"Harden\", \"stats\": {\"value\": 10, \"stat\": 2}}]')"
   ]
  },
  {
   "cell_type": "markdown",
   "id": "a503c018",
   "metadata": {},
   "source": [
    "View the run log."
   ]
  },
  {
   "cell_type": "code",
   "execution_count": 6,
   "id": "3f6948d2",
   "metadata": {
    "execution": {
     "iopub.execute_input": "2023-03-02T14:09:17.217041Z",
     "iopub.status.busy": "2023-03-02T14:09:17.216844Z",
     "iopub.status.idle": "2023-03-02T14:09:17.238137Z",
     "shell.execute_reply": "2023-03-02T14:09:17.237595Z"
    }
   },
   "outputs": [
    {
     "name": "stderr",
     "output_type": "stream",
     "text": [
      "\u001b[38;5;15mfc682a98-f50a-4837-8b6d-87e843c19732\u001b[1m\u001b[0m\n",
      "└── \u001b[38;5;5m<class '__main__.CLIPrompt'>\u001b[0m/1\u001b[0m ⇒ \u001b[38;5;2mstarted\u001b[0m \u001b[38;5;15m2023-02-27 14:12:18Z\u001b[2m\u001b[0m ⧖ \u001b[38;5;4m1.531s\u001b[2m\u001b[0m\n",
      "    ├── \u001b[38;5;5mInput Function\u001b[0m/2/1\u001b[0m ⇒ \u001b[38;5;2mstarted\u001b[0m \u001b[38;5;15m2023-02-27 14:12:18Z\u001b[2m\u001b[0m ⧖ \u001b[38;5;4m0.003s\u001b[2m\u001b[0m\n",
      "    │   ├── \u001b[38;5;4minput\u001b[0m: \u001b[0m\n",
      "    │   │   └── \u001b[38;5;4mquestion\u001b[0m: \"go up one directory, and then into the minichain directory,and list the files in the directory\"\u001b[0m\n",
      "    │   └── \u001b[38;5;5mInput Function\u001b[0m/2/2\u001b[0m ⇒ \u001b[38;5;2msucceeded\u001b[0m \u001b[38;5;15m2023-02-27 14:12:18Z\u001b[2m\u001b[0m\n",
      "    ├── \u001b[38;5;5mPrompted\u001b[0m/3/1\u001b[0m ⇒ \u001b[38;5;2mstarted\u001b[0m \u001b[38;5;15m2023-02-27 14:12:18Z\u001b[2m\u001b[0m ⧖ \u001b[38;5;4m1.528s\u001b[2m\u001b[0m\n",
      "    │   ├── \u001b[38;5;4mprompt\u001b[0m: If someone asks you to perform a task, your job is to come up with a series of bash commands that will perform the task. There is no need to put \"#!/bin/bash\" in your answer. Make sure to reason step by step, using this format:⏎\n",
      "    │   │   ⏎\n",
      "    │   │   Question: \"copy the files in the directory named 'target' into a new directory at the same level as target called 'myNewDirectory'\"⏎\n",
      "    │   │   ⏎\n",
      "    │   │   I need to take the following actions:⏎\n",
      "    │   │   - List all files in the directory⏎\n",
      "    │   │   - Create a new directory⏎\n",
      "    │   │   - Copy the files from the first directory into the second directory⏎\n",
      "    │   │   ```bash⏎\n",
      "    │   │   ls⏎\n",
      "    │   │   mkdir myNewDirectory⏎\n",
      "    │   │   cp -r target/* myNewDirectory⏎\n",
      "    │   │   ```⏎\n",
      "    │   │   ⏎\n",
      "    │   │   That is the format. Begin!⏎\n",
      "    │   │   ⏎\n",
      "    │   │   Question: \"go up one directory, and then into the minichain directory,and list the files in the directory\"\u001b[0m\n",
      "    │   └── \u001b[38;5;5mPrompted\u001b[0m/3/2\u001b[0m ⇒ \u001b[38;5;2msucceeded\u001b[0m \u001b[38;5;15m2023-02-27 14:12:19Z\u001b[2m\u001b[0m\n",
      "    ├── \u001b[38;5;5mResult\u001b[0m/4/1\u001b[0m ⇒ \u001b[38;5;2mstarted\u001b[0m \u001b[38;5;15m2023-02-27 14:12:19Z\u001b[2m\u001b[0m ⧖ \u001b[38;5;4m0.000s\u001b[2m\u001b[0m\n",
      "    │   ├── \u001b[38;5;4mresult\u001b[0m: ⏎\n",
      "    │   │   ⏎\n",
      "    │   │   ```bash⏎\n",
      "    │   │   cd ..⏎\n",
      "    │   │   cd minichain⏎\n",
      "    │   │   ls⏎\n",
      "    │   │   ```\u001b[0m\n",
      "    │   └── \u001b[38;5;5mResult\u001b[0m/4/2\u001b[0m ⇒ \u001b[38;5;2msucceeded\u001b[0m \u001b[38;5;15m2023-02-27 14:12:19Z\u001b[2m\u001b[0m\n",
      "    └── \u001b[38;5;5m<class '__main__.CLIPrompt'>\u001b[0m/5\u001b[0m ⇒ \u001b[38;5;2msucceeded\u001b[0m \u001b[38;5;15m2023-02-27 14:12:19Z\u001b[2m\u001b[0m\n",
      "\n",
      "\u001b[38;5;15m328e2368-6c0f-4a03-ae78-26aa43a517e3\u001b[1m\u001b[0m\n",
      "└── \u001b[38;5;5m<class '__main__.BashPrompt'>\u001b[0m/1\u001b[0m ⇒ \u001b[38;5;2mstarted\u001b[0m \u001b[38;5;15m2023-02-27 14:12:19Z\u001b[2m\u001b[0m ⧖ \u001b[38;5;4m0.006s\u001b[2m\u001b[0m\n",
      "    ├── \u001b[38;5;5mInput Function\u001b[0m/2/1\u001b[0m ⇒ \u001b[38;5;2mstarted\u001b[0m \u001b[38;5;15m2023-02-27 14:12:19Z\u001b[2m\u001b[0m ⧖ \u001b[38;5;4m0.000s\u001b[2m\u001b[0m\n",
      "    │   ├── \u001b[38;5;4minput\u001b[0m: \u001b[0m\n",
      "    │   │   ├── \u001b[38;5;4m0\u001b[0m: cd ..\u001b[0m\n",
      "    │   │   ├── \u001b[38;5;4m1\u001b[0m: cd minichain\u001b[0m\n",
      "    │   │   └── \u001b[38;5;4m2\u001b[0m: ls\u001b[0m\n",
      "    │   └── \u001b[38;5;5mInput Function\u001b[0m/2/2\u001b[0m ⇒ \u001b[38;5;2msucceeded\u001b[0m \u001b[38;5;15m2023-02-27 14:12:19Z\u001b[2m\u001b[0m\n",
      "    ├── \u001b[38;5;5mPrompted\u001b[0m/3/1\u001b[0m ⇒ \u001b[38;5;2mstarted\u001b[0m \u001b[38;5;15m2023-02-27 14:12:19Z\u001b[2m\u001b[0m ⧖ \u001b[38;5;4m0.005s\u001b[2m\u001b[0m\n",
      "    │   ├── \u001b[38;5;4mprompt\u001b[0m: cd ..;cd minichain;ls\u001b[0m\n",
      "    │   └── \u001b[38;5;5mPrompted\u001b[0m/3/2\u001b[0m ⇒ \u001b[38;5;2msucceeded\u001b[0m \u001b[38;5;15m2023-02-27 14:12:19Z\u001b[2m\u001b[0m\n",
      "    ├── \u001b[38;5;5mResult\u001b[0m/4/1\u001b[0m ⇒ \u001b[38;5;2mstarted\u001b[0m \u001b[38;5;15m2023-02-27 14:12:19Z\u001b[2m\u001b[0m ⧖ \u001b[38;5;4m0.000s\u001b[2m\u001b[0m\n",
      "    │   ├── \u001b[38;5;4mresult\u001b[0m: #backend.py#⏎\n",
      "    │   │   backend.py⏎\n",
      "    │   │   base.py⏎\n",
      "    │   │   __init__.py⏎\n",
      "    │   │   lang.py⏎\n",
      "    │   │   prompts.py⏎\n",
      "    │   │   __pycache__⏎\n",
      "    │   │   templates⏎\n",
      "    │   │   \u001b[0m\n",
      "    │   └── \u001b[38;5;5mResult\u001b[0m/4/2\u001b[0m ⇒ \u001b[38;5;2msucceeded\u001b[0m \u001b[38;5;15m2023-02-27 14:12:19Z\u001b[2m\u001b[0m\n",
      "    └── \u001b[38;5;5m<class '__main__.BashPrompt'>\u001b[0m/5\u001b[0m ⇒ \u001b[38;5;2msucceeded\u001b[0m \u001b[38;5;15m2023-02-27 14:12:19Z\u001b[2m\u001b[0m\n",
      "\n",
      "\u001b[38;5;15mca5f4b25-55ca-441d-a0d2-f39ad0bca2d0\u001b[1m\u001b[0m\n",
      "└── \u001b[38;5;5mbash\u001b[0m/1\u001b[0m ⇒ \u001b[38;5;2mstarted\u001b[0m \u001b[38;5;15m2023-02-27 14:12:17Z\u001b[2m\u001b[0m ⧖ \u001b[38;5;4m1.850s\u001b[2m\u001b[0m\n",
      "    └── \u001b[38;5;5mbash\u001b[0m/2\u001b[0m ⇒ \u001b[38;5;2msucceeded\u001b[0m \u001b[38;5;15m2023-02-27 14:12:19Z\u001b[2m\u001b[0m\n",
      "\n"
     ]
    }
   ],
   "source": [
    "minichain.show_log(\"bash.log\")"
   ]
  }
 ],
 "metadata": {
  "jupytext": {
   "cell_metadata_filter": "-all"
  },
  "kernelspec": {
   "display_name": "minichain",
   "language": "python",
   "name": "minichain"
  },
  "language_info": {
   "codemirror_mode": {
    "name": "ipython",
    "version": 3
   },
   "file_extension": ".py",
   "mimetype": "text/x-python",
   "name": "python",
   "nbconvert_exporter": "python",
   "pygments_lexer": "ipython3",
   "version": "3.10.6"
  }
 },
 "nbformat": 4,
 "nbformat_minor": 5
}
