{
 "cells": [
  {
   "cell_type": "code",
   "execution_count": null,
   "id": "f34e932d",
   "metadata": {
    "lines_to_next_cell": 0
   },
   "outputs": [],
   "source": []
  },
  {
   "cell_type": "code",
   "execution_count": 1,
   "id": "12c38ff0",
   "metadata": {
    "execution": {
     "iopub.execute_input": "2023-03-22T17:01:04.041687Z",
     "iopub.status.busy": "2023-03-22T17:01:04.040967Z",
     "iopub.status.idle": "2023-03-22T17:01:04.062830Z",
     "shell.execute_reply": "2023-03-22T17:01:04.060675Z"
    }
   },
   "outputs": [],
   "source": [
    "desc = \"\"\"\n",
    "### Typed Extraction\n",
    "\n",
    "Information extraction that is automatically generated from a typed specification. [[Code](https://github.com/srush/MiniChain/blob/main/examples/stats.py)]\n",
    "\n",
    "(Novel to MiniChain)\n",
    "\"\"\""
   ]
  },
  {
   "cell_type": "markdown",
   "id": "7c3125d1",
   "metadata": {},
   "source": [
    "$"
   ]
  },
  {
   "cell_type": "code",
   "execution_count": 2,
   "id": "fafef296",
   "metadata": {
    "execution": {
     "iopub.execute_input": "2023-03-22T17:01:04.071923Z",
     "iopub.status.busy": "2023-03-22T17:01:04.071227Z",
     "iopub.status.idle": "2023-03-22T17:01:05.411226Z",
     "shell.execute_reply": "2023-03-22T17:01:05.410575Z"
    },
    "lines_to_next_cell": 1
   },
   "outputs": [],
   "source": [
    "from minichain import prompt, show, type_to_prompt, OpenAI\n",
    "from dataclasses import dataclass\n",
    "from typing import List\n",
    "from enum import Enum"
   ]
  },
  {
   "cell_type": "markdown",
   "id": "defad07f",
   "metadata": {},
   "source": [
    "Data specification"
   ]
  },
  {
   "cell_type": "code",
   "execution_count": 3,
   "id": "b28d3bef",
   "metadata": {
    "execution": {
     "iopub.execute_input": "2023-03-22T17:01:05.414380Z",
     "iopub.status.busy": "2023-03-22T17:01:05.413863Z",
     "iopub.status.idle": "2023-03-22T17:01:05.418873Z",
     "shell.execute_reply": "2023-03-22T17:01:05.418413Z"
    }
   },
   "outputs": [],
   "source": [
    "class StatType(Enum):\n",
    "    POINTS = 1\n",
    "    REBOUNDS = 2\n",
    "    ASSISTS = 3\n",
    "\n",
    "@dataclass\n",
    "class Stat:\n",
    "    value: int\n",
    "    stat: StatType\n",
    "\n",
    "@dataclass\n",
    "class Player:\n",
    "    player: str\n",
    "    stats: List[Stat]"
   ]
  },
  {
   "cell_type": "code",
   "execution_count": 4,
   "id": "7e79dbb5",
   "metadata": {
    "execution": {
     "iopub.execute_input": "2023-03-22T17:01:05.420896Z",
     "iopub.status.busy": "2023-03-22T17:01:05.420709Z",
     "iopub.status.idle": "2023-03-22T17:01:05.423985Z",
     "shell.execute_reply": "2023-03-22T17:01:05.423565Z"
    },
    "lines_to_next_cell": 1
   },
   "outputs": [],
   "source": [
    "@prompt(OpenAI(), template_file=\"stats.pmpt.tpl\", parser=\"json\")\n",
    "def stats(model, passage):\n",
    "    out = model(dict(passage=passage, typ=type_to_prompt(Player)))\n",
    "    return [Player(**j) for j in out]  "
   ]
  },
  {
   "cell_type": "markdown",
   "id": "ecc90cb1",
   "metadata": {},
   "source": [
    "$"
   ]
  },
  {
   "cell_type": "code",
   "execution_count": 5,
   "id": "73cfa15f",
   "metadata": {
    "execution": {
     "iopub.execute_input": "2023-03-22T17:01:05.426096Z",
     "iopub.status.busy": "2023-03-22T17:01:05.425913Z",
     "iopub.status.idle": "2023-03-22T17:01:05.738646Z",
     "shell.execute_reply": "2023-03-22T17:01:05.737900Z"
    },
    "lines_to_next_cell": 2
   },
   "outputs": [
    {
     "name": "stdout",
     "output_type": "stream",
     "text": [
      "Running on local URL:  http://127.0.0.1:7861\n",
      "\n",
      "To create a public link, set `share=True` in `launch()`.\n"
     ]
    },
    {
     "data": {
      "text/html": [
       "<div><iframe src=\"http://127.0.0.1:7861/\" width=\"100%\" height=\"500\" allow=\"autoplay; camera; microphone; clipboard-read; clipboard-write;\" frameborder=\"0\" allowfullscreen></iframe></div>"
      ],
      "text/plain": [
       "<IPython.core.display.HTML object>"
      ]
     },
     "metadata": {},
     "output_type": "display_data"
    }
   ],
   "source": [
    "article = open(\"sixers.txt\").read()\n",
    "gradio = show(lambda passage: stats(passage),\n",
    "              examples=[article],\n",
    "              subprompts=[stats],\n",
    "              out_type=\"json\",\n",
    "              description=desc,\n",
    "              code=open(\"stats.py\", \"r\").read().split(\"$\")[1].strip().strip(\"#\").strip(),\n",
    ")\n",
    "if __name__ == \"__main__\":\n",
    "    gradio.launch()"
   ]
  },
  {
   "cell_type": "markdown",
   "id": "c2c3c29a",
   "metadata": {},
   "source": [
    "ExtractionPrompt().show({\"passage\": \"Harden had 10 rebounds.\"},\n",
    "                        '[{\"player\": \"Harden\", \"stats\": {\"value\": 10, \"stat\": 2}}]')"
   ]
  },
  {
   "cell_type": "markdown",
   "id": "d6453878",
   "metadata": {},
   "source": [
    "# View the run log."
   ]
  },
  {
   "cell_type": "markdown",
   "id": "4439426d",
   "metadata": {},
   "source": [
    "minichain.show_log(\"bash.log\")"
   ]
  }
 ],
 "metadata": {
  "jupytext": {
   "cell_metadata_filter": "-all"
  },
  "kernelspec": {
   "display_name": "minichain",
   "language": "python",
   "name": "minichain"
  },
  "language_info": {
   "codemirror_mode": {
    "name": "ipython",
    "version": 3
   },
   "file_extension": ".py",
   "mimetype": "text/x-python",
   "name": "python",
   "nbconvert_exporter": "python",
   "pygments_lexer": "ipython3",
   "version": "3.10.6"
  }
 },
 "nbformat": 4,
 "nbformat_minor": 5
}
