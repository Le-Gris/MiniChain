{
 "cells": [
  {
   "cell_type": "code",
   "execution_count": 1,
   "id": "f865c4cd",
   "metadata": {
    "execution": {
     "iopub.execute_input": "2023-02-23T22:29:49.716664Z",
     "iopub.status.busy": "2023-02-23T22:29:49.715990Z",
     "iopub.status.idle": "2023-02-23T22:29:49.735985Z",
     "shell.execute_reply": "2023-02-23T22:29:49.733786Z"
    }
   },
   "outputs": [],
   "source": [
    "# Prompt from ...\n",
    "#\n",
    "from dataclasses import dataclass"
   ]
  },
  {
   "cell_type": "code",
   "execution_count": 2,
   "id": "46b4b948",
   "metadata": {
    "execution": {
     "iopub.execute_input": "2023-02-23T22:29:49.744515Z",
     "iopub.status.busy": "2023-02-23T22:29:49.743831Z",
     "iopub.status.idle": "2023-02-23T22:29:49.751269Z",
     "shell.execute_reply": "2023-02-23T22:29:49.750844Z"
    }
   },
   "outputs": [],
   "source": [
    "from parsita import TextParsers, lit, reg"
   ]
  },
  {
   "cell_type": "code",
   "execution_count": 3,
   "id": "feffc7f7",
   "metadata": {
    "execution": {
     "iopub.execute_input": "2023-02-23T22:29:49.753511Z",
     "iopub.status.busy": "2023-02-23T22:29:49.753307Z",
     "iopub.status.idle": "2023-02-23T22:29:49.790429Z",
     "shell.execute_reply": "2023-02-23T22:29:49.789798Z"
    }
   },
   "outputs": [],
   "source": [
    "from minichain import Backend, JinjaPrompt, SimplePrompt, start_chain"
   ]
  },
  {
   "cell_type": "code",
   "execution_count": 4,
   "id": "39f475ed",
   "metadata": {
    "execution": {
     "iopub.execute_input": "2023-02-23T22:29:49.792879Z",
     "iopub.status.busy": "2023-02-23T22:29:49.792651Z",
     "iopub.status.idle": "2023-02-23T22:29:49.796372Z",
     "shell.execute_reply": "2023-02-23T22:29:49.795951Z"
    }
   },
   "outputs": [],
   "source": [
    "# Define the states of the bot.\n",
    "@dataclass\n",
    "class IntermediateState:\n",
    "    s: str\n",
    "@dataclass\n",
    "class FinalState:\n",
    "    s: str\n",
    "States = FinalState | IntermediateState"
   ]
  },
  {
   "cell_type": "code",
   "execution_count": 5,
   "id": "f5ef865b",
   "metadata": {
    "execution": {
     "iopub.execute_input": "2023-02-23T22:29:49.798736Z",
     "iopub.status.busy": "2023-02-23T22:29:49.798370Z",
     "iopub.status.idle": "2023-02-23T22:29:49.802204Z",
     "shell.execute_reply": "2023-02-23T22:29:49.801766Z"
    },
    "lines_to_next_cell": 1
   },
   "outputs": [],
   "source": [
    "class SelfAsk(JinjaPrompt[States]):\n",
    "    template_file = \"selfask.pmpt.tpl\"\n",
    "    stop_template = \"\\nIntermediate answer:\"\n",
    "\n",
    "    class SelfAskParser(TextParsers):  # type: ignore\n",
    "        follow = (lit(\"Follow up:\") >> reg(r\".*\")) > IntermediateState\n",
    "        finish = (lit(\"So the final answer is: \") >> reg(r\".*\")) > FinalState\n",
    "        response = follow | finish\n",
    "\n",
    "    def parse(self, inp: str) -> States:\n",
    "        return self.SelfAskParser.response.parse(inp).or_die()  # type: ignore"
   ]
  },
  {
   "cell_type": "code",
   "execution_count": 6,
   "id": "2d49b433",
   "metadata": {
    "execution": {
     "iopub.execute_input": "2023-02-23T22:29:49.804310Z",
     "iopub.status.busy": "2023-02-23T22:29:49.804129Z",
     "iopub.status.idle": "2023-02-23T22:29:49.849569Z",
     "shell.execute_reply": "2023-02-23T22:29:49.848947Z"
    }
   },
   "outputs": [
    {
     "data": {
      "text/html": [
       "\n",
       "<!-- <link rel=\"stylesheet\" href=\"https://cdn.rawgit.com/Chalarangelo/mini.css/v3.0.1/dist/mini-default.min.css\"> -->\n",
       " <main class=\"container\">\n",
       "\n",
       "<h3>SelfAsk</h3>\n",
       "\n",
       "<dl>\n",
       "  <dt>Input:</dt>\n",
       "  <dd>\n",
       "<div class=\"highlight\"><pre><span></span><span class=\"p\">{</span><span class=\"s1\">&#39;input&#39;</span><span class=\"p\">:</span> <span class=\"s1\">&#39;What is the zip code of the city where George Washington was born?&#39;</span><span class=\"p\">,</span> <span class=\"s1\">&#39;agent_scratchpad&#39;</span><span class=\"p\">:</span> <span class=\"kc\">True</span><span class=\"p\">}</span>\n",
       "</pre></div>\n",
       "\n",
       "\n",
       "  </dd>\n",
       "\n",
       "  <dt> Full Prompt: </dt>\n",
       "  <dd>\n",
       "    <details>\n",
       "      <summary></summary>\n",
       "      <p>Question: Who lived longer, Muhammad Ali or Alan Turing?<br>Are follow up questions needed here: Yes.<br>Follow up: How old was Muhammad Ali when he died?<br>Intermediate answer: Muhammad Ali was 74 years old when he died.<br>Follow up: How old was Alan Turing when he died?<br>Intermediate answer: Alan Turing was 41 years old when he died.<br>So the final answer is: Muhammad Ali<br><br>Question: When was the founder of craigslist born?<br>Are follow up questions needed here: Yes.<br>Follow up: Who was the founder of craigslist?<br>Intermediate answer: Craigslist was founded by Craig Newmark.<br>Follow up: When was Craig Newmark born?<br>Intermediate answer: Craig Newmark was born on December 6, 1952.<br>So the final answer is: December 6, 1952<br><br>Question: Who was the maternal grandfather of George Washington?<br>Are follow up questions needed here: Yes.<br>Follow up: Who was the mother of George Washington?<br>Intermediate answer: The mother of George Washington was Mary Ball Washington.<br>Follow up: Who was the father of Mary Ball Washington?<br>Intermediate answer: The father of Mary Ball Washington was Joseph Ball.<br>So the final answer is: Joseph Ball<br><br>Question: Are both the directors of Jaws and Casino Royale from the same country?<br>Are follow up questions needed here: Yes.<br>Follow up: Who is the director of Jaws?<br>Intermediate answer: The director of Jaws is Steven Spielberg.<br>Follow up: Where is Steven Spielberg from?<br>Intermediate answer: The United States.<br>Follow up: Who is the director of Casino Royale?<br>Intermediate answer: The director of Casino Royale is Martin Campbell.<br>Follow up: Where is Martin Campbell from?<br>Intermediate answer: New Zealand.<br>So the final answer is: No<br><br>Question: <div style='color:red'>What is the zip code of the city where George Washington was born?</div><br>Are followup questions needed here: Yes.<br></p>\n",
       "    </details>\n",
       "  </dd>\n",
       "  \n",
       "  <dt> Response: </dt>\n",
       "  <dd>     \n",
       "    Follow up: Where was George Washington born?\n",
       "  </dd>\n",
       "\n",
       "  <dt>Value:</dt>\n",
       "  <dd>\n",
       "<div class=\"highlight\"><pre><span></span><span class=\"n\">IntermediateState</span><span class=\"p\">(</span><span class=\"n\">s</span><span class=\"o\">=</span><span class=\"s1\">&#39;Where was George Washington born?&#39;</span><span class=\"p\">)</span>\n",
       "</pre></div>\n",
       "\n",
       "  </dd>\n",
       "</main>\n"
      ],
      "text/plain": [
       "HTML(html='\\n<!-- <link rel=\"stylesheet\" href=\"https://cdn.rawgit.com/Chalarangelo/mini.css/v3.0.1/dist/mini-default.min.css\"> -->\\n <main class=\"container\">\\n\\n<h3>SelfAsk</h3>\\n\\n<dl>\\n  <dt>Input:</dt>\\n  <dd>\\n<div class=\"highlight\"><pre><span></span><span class=\"p\">{</span><span class=\"s1\">&#39;input&#39;</span><span class=\"p\">:</span> <span class=\"s1\">&#39;What is the zip code of the city where George Washington was born?&#39;</span><span class=\"p\">,</span> <span class=\"s1\">&#39;agent_scratchpad&#39;</span><span class=\"p\">:</span> <span class=\"kc\">True</span><span class=\"p\">}</span>\\n</pre></div>\\n\\n\\n  </dd>\\n\\n  <dt> Full Prompt: </dt>\\n  <dd>\\n    <details>\\n      <summary></summary>\\n      <p>Question: Who lived longer, Muhammad Ali or Alan Turing?<br>Are follow up questions needed here: Yes.<br>Follow up: How old was Muhammad Ali when he died?<br>Intermediate answer: Muhammad Ali was 74 years old when he died.<br>Follow up: How old was Alan Turing when he died?<br>Intermediate answer: Alan Turing was 41 years old when he died.<br>So the final answer is: Muhammad Ali<br><br>Question: When was the founder of craigslist born?<br>Are follow up questions needed here: Yes.<br>Follow up: Who was the founder of craigslist?<br>Intermediate answer: Craigslist was founded by Craig Newmark.<br>Follow up: When was Craig Newmark born?<br>Intermediate answer: Craig Newmark was born on December 6, 1952.<br>So the final answer is: December 6, 1952<br><br>Question: Who was the maternal grandfather of George Washington?<br>Are follow up questions needed here: Yes.<br>Follow up: Who was the mother of George Washington?<br>Intermediate answer: The mother of George Washington was Mary Ball Washington.<br>Follow up: Who was the father of Mary Ball Washington?<br>Intermediate answer: The father of Mary Ball Washington was Joseph Ball.<br>So the final answer is: Joseph Ball<br><br>Question: Are both the directors of Jaws and Casino Royale from the same country?<br>Are follow up questions needed here: Yes.<br>Follow up: Who is the director of Jaws?<br>Intermediate answer: The director of Jaws is Steven Spielberg.<br>Follow up: Where is Steven Spielberg from?<br>Intermediate answer: The United States.<br>Follow up: Who is the director of Casino Royale?<br>Intermediate answer: The director of Casino Royale is Martin Campbell.<br>Follow up: Where is Martin Campbell from?<br>Intermediate answer: New Zealand.<br>So the final answer is: No<br><br>Question: <div style=\\'color:red\\'>What is the zip code of the city where George Washington was born?</div><br>Are followup questions needed here: Yes.<br></p>\\n    </details>\\n  </dd>\\n  \\n  <dt> Response: </dt>\\n  <dd>     \\n    Follow up: Where was George Washington born?\\n  </dd>\\n\\n  <dt>Value:</dt>\\n  <dd>\\n<div class=\"highlight\"><pre><span></span><span class=\"n\">IntermediateState</span><span class=\"p\">(</span><span class=\"n\">s</span><span class=\"o\">=</span><span class=\"s1\">&#39;Where was George Washington born?&#39;</span><span class=\"p\">)</span>\\n</pre></div>\\n\\n  </dd>\\n</main>\\n')"
      ]
     },
     "execution_count": 6,
     "metadata": {},
     "output_type": "execute_result"
    }
   ],
   "source": [
    "SelfAsk().show({\"input\": \"What is the zip code of the city where George Washington was born?\",\n",
    "                \"agent_scratchpad\":True},\n",
    "               \"Follow up: Where was George Washington born?\")"
   ]
  },
  {
   "cell_type": "code",
   "execution_count": null,
   "id": "b66e07f6",
   "metadata": {},
   "outputs": [],
   "source": [
    "    "
   ]
  },
  {
   "cell_type": "code",
   "execution_count": 7,
   "id": "b0a65a18",
   "metadata": {
    "execution": {
     "iopub.execute_input": "2023-02-23T22:29:49.851869Z",
     "iopub.status.busy": "2023-02-23T22:29:49.851690Z",
     "iopub.status.idle": "2023-02-23T22:29:49.855700Z",
     "shell.execute_reply": "2023-02-23T22:29:49.855256Z"
    }
   },
   "outputs": [],
   "source": [
    "def selfask(inp: str, openai: Backend, google: Backend) -> str:\n",
    "    prompt1 = SelfAsk(openai)\n",
    "    prompt2 = SimplePrompt(google)\n",
    "    suffix = \"\"\n",
    "    for i in range(3):\n",
    "        r1 = prompt1(\n",
    "            dict(input=inp, suffix=suffix, agent_scratchpad=True), name=f\"Chat {i}\"\n",
    "        )\n",
    "        if isinstance(r1.val, FinalState):\n",
    "            break\n",
    "        out = prompt2(r1.val.s, name=f\"Google{i}\")\n",
    "        suffix += \"\\nIntermediate answer:\" + out.echo\n",
    "    return r1.val.s"
   ]
  },
  {
   "cell_type": "code",
   "execution_count": 8,
   "id": "37eb3b5d",
   "metadata": {
    "execution": {
     "iopub.execute_input": "2023-02-23T22:29:49.857993Z",
     "iopub.status.busy": "2023-02-23T22:29:49.857711Z",
     "iopub.status.idle": "2023-02-23T22:29:49.867412Z",
     "shell.execute_reply": "2023-02-23T22:29:49.866812Z"
    }
   },
   "outputs": [
    {
     "name": "stdout",
     "output_type": "stream",
     "text": [
      "12312\n"
     ]
    }
   ],
   "source": [
    "with start_chain(\"selfask\") as backend:\n",
    "    result = selfask(\n",
    "        \"What is the zip code of the city where George Washington was born?\",\n",
    "        backend.Mock(\n",
    "            [\n",
    "                \"Follow up: Where was George Washington born?\",\n",
    "                \"Follow up: What is the zip code of Virginia?\",\n",
    "                \"So the final answer is: 12312\",\n",
    "            ]\n",
    "        ),\n",
    "        # OpenAI(\"\")\n",
    "        backend.Mock([\"Virginia\", \"12312\"]),\n",
    "    )\n",
    "print(result)"
   ]
  },
  {
   "cell_type": "code",
   "execution_count": 9,
   "id": "84bbe6fb",
   "metadata": {
    "execution": {
     "iopub.execute_input": "2023-02-23T22:29:49.869550Z",
     "iopub.status.busy": "2023-02-23T22:29:49.869368Z",
     "iopub.status.idle": "2023-02-23T22:29:50.092816Z",
     "shell.execute_reply": "2023-02-23T22:29:50.090250Z"
    },
    "lines_to_next_cell": 2
   },
   "outputs": [
    {
     "name": "stdout",
     "output_type": "stream",
     "text": [
      "7ddbd0c1-8097-4462-be99-111df5d2d298\r\n",
      "\r\n",
      "64d9f8ad-084a-4216-987a-4c74e4162cb8\r\n",
      "    │   ├── input: What is the zip code of Virginia?\r\n",
      "    │   ├── prompt: What is the zip code of Virginia?\r\n",
      "    │   ├── result: 12312\r\n",
      "    │   │   └── returned: 12312\r\n",
      "\r\n",
      "e9d4f97d-0b3f-4303-9c98-d904c1aa8f24\r\n",
      "    │   ├── input: \r\n",
      "    │   │   ├── agent_scratchpad: True\r\n",
      "    │   │   ├── input: What is the zip code of the city where George Washington was born?\r\n",
      "    │   │   └── suffix: ⏎\r\n",
      "    │   │       Intermediate answer:Where was George Washington born?Virginia⏎\r\n",
      "    │   │       Intermediate answer:What is the zip code of Virginia?12312\r\n",
      "    │   ├── prompt: Question: Who lived longer, Muhammad Ali or Alan Turing?⏎\r\n",
      "    │   │   Are follow up questions needed here: Yes.⏎\r\n",
      "    │   │   Follow up: How old was Muhammad Ali when he died?⏎\r\n",
      "    │   │   Intermediate answer: Muhammad Ali was 74 years old when he died.⏎\r\n",
      "    │   │   Follow up: How old was Alan Turing when he died?⏎\r\n",
      "    │   │   Intermediate answer: Alan Turing was 41 years old when he died.⏎\r\n",
      "    │   │   So the final answer is: Muhammad Ali⏎\r\n",
      "    │   │   ⏎\r\n",
      "    │   │   Question: When was the founder of craigslist born?⏎\r\n",
      "    │   │   Are follow up questions needed here: Yes.⏎\r\n",
      "    │   │   Follow up: Who was the founder of craigslist?⏎\r\n",
      "    │   │   Intermediate answer: Craigslist was founded by Craig Newmark.⏎\r\n",
      "    │   │   Follow up: When was Craig Newmark born?⏎\r\n",
      "    │   │   Intermediate answer: Craig Newmark was born on December 6, 1952.⏎\r\n",
      "    │   │   So the final answer is: December 6, 1952⏎\r\n",
      "    │   │   ⏎\r\n",
      "    │   │   Question: Who was the maternal grandfather of George Washington?⏎\r\n",
      "    │   │   Are follow up questions needed here: Yes.⏎\r\n",
      "    │   │   Follow up: Who was the mother of George Washington?⏎\r\n",
      "    │   │   Intermediate answer: The mother of George Washington was Mary Ball Washington.⏎\r\n",
      "    │   │   Follow up: Who was the father of Mary Ball Washington?⏎\r\n",
      "    │   │   Intermediate answer: The father of Mary Ball Washington was Joseph Ball.⏎\r\n",
      "    │   │   So the final answer is: Joseph Ball⏎\r\n",
      "    │   │   ⏎\r\n",
      "    │   │   Question: Are both the directors of Jaws and Casino Royale from the same country?⏎\r\n",
      "    │   │   Are follow up questions needed here: Yes.⏎\r\n",
      "    │   │   Follow up: Who is the director of Jaws?⏎\r\n",
      "    │   │   Intermediate answer: The director of Jaws is Steven Spielberg.⏎\r\n",
      "    │   │   Follow up: Where is Steven Spielberg from?⏎\r\n",
      "    │   │   Intermediate answer: The United States.⏎\r\n",
      "    │   │   Follow up: Who is the director of Casino Royale?⏎\r\n",
      "    │   │   Intermediate answer: The director of Casino Royale is Martin Campbell.⏎\r\n",
      "    │   │   Follow up: Where is Martin Campbell from?⏎\r\n",
      "    │   │   Intermediate answer: New Zealand.⏎\r\n",
      "    │   │   So the final answer is: No⏎\r\n",
      "    │   │   ⏎\r\n",
      "    │   │   Question: What is the zip code of the city where George Washington was born?⏎\r\n",
      "    │   │   Are followup questions needed here: Yes.⏎\r\n",
      "    │   │   ⏎\r\n",
      "    │   │   Intermediate answer:Where was George Washington born?Virginia⏎\r\n",
      "    │   │   Intermediate answer:What is the zip code of Virginia?12312\r\n",
      "    │   ├── result: So the final answer is: 12312\r\n",
      "    │   ├── eliot:destination_failure/4/3 2023-02-23 22:29:49Z\r\n",
      "    │   │   ├── exception: builtins.TypeError\r\n",
      "    │   │   └── reason: Object of type FinalState is not JSON serializable\r\n",
      "\r\n",
      "4a574952-6198-446a-a637-7697eede2043\r\n",
      "    │   ├── input: \r\n",
      "    │   │   ├── agent_scratchpad: True\r\n",
      "    │   │   ├── input: What is the zip code of the city where George Washington was born?\r\n",
      "    │   │   └── suffix: \r\n",
      "    │   ├── prompt: Question: Who lived longer, Muhammad Ali or Alan Turing?⏎\r\n",
      "    │   │   Are follow up questions needed here: Yes.⏎\r\n",
      "    │   │   Follow up: How old was Muhammad Ali when he died?⏎\r\n",
      "    │   │   Intermediate answer: Muhammad Ali was 74 years old when he died.⏎\r\n",
      "    │   │   Follow up: How old was Alan Turing when he died?⏎\r\n",
      "    │   │   Intermediate answer: Alan Turing was 41 years old when he died.⏎\r\n",
      "    │   │   So the final answer is: Muhammad Ali⏎\r\n",
      "    │   │   ⏎\r\n",
      "    │   │   Question: When was the founder of craigslist born?⏎\r\n",
      "    │   │   Are follow up questions needed here: Yes.⏎\r\n",
      "    │   │   Follow up: Who was the founder of craigslist?⏎\r\n",
      "    │   │   Intermediate answer: Craigslist was founded by Craig Newmark.⏎\r\n",
      "    │   │   Follow up: When was Craig Newmark born?⏎\r\n",
      "    │   │   Intermediate answer: Craig Newmark was born on December 6, 1952.⏎\r\n",
      "    │   │   So the final answer is: December 6, 1952⏎\r\n",
      "    │   │   ⏎\r\n",
      "    │   │   Question: Who was the maternal grandfather of George Washington?⏎\r\n",
      "    │   │   Are follow up questions needed here: Yes.⏎\r\n",
      "    │   │   Follow up: Who was the mother of George Washington?⏎\r\n",
      "    │   │   Intermediate answer: The mother of George Washington was Mary Ball Washington.⏎\r\n",
      "    │   │   Follow up: Who was the father of Mary Ball Washington?⏎\r\n",
      "    │   │   Intermediate answer: The father of Mary Ball Washington was Joseph Ball.⏎\r\n",
      "    │   │   So the final answer is: Joseph Ball⏎\r\n",
      "    │   │   ⏎\r\n",
      "    │   │   Question: Are both the directors of Jaws and Casino Royale from the same country?⏎\r\n",
      "    │   │   Are follow up questions needed here: Yes.⏎\r\n",
      "    │   │   Follow up: Who is the director of Jaws?⏎\r\n",
      "    │   │   Intermediate answer: The director of Jaws is Steven Spielberg.⏎\r\n",
      "    │   │   Follow up: Where is Steven Spielberg from?⏎\r\n",
      "    │   │   Intermediate answer: The United States.⏎\r\n",
      "    │   │   Follow up: Who is the director of Casino Royale?⏎\r\n",
      "    │   │   Intermediate answer: The director of Casino Royale is Martin Campbell.⏎\r\n",
      "    │   │   Follow up: Where is Martin Campbell from?⏎\r\n",
      "    │   │   Intermediate answer: New Zealand.⏎\r\n",
      "    │   │   So the final answer is: No⏎\r\n",
      "    │   │   ⏎\r\n",
      "    │   │   Question: What is the zip code of the city where George Washington was born?⏎\r\n",
      "    │   │   Are followup questions needed here: Yes.⏎\r\n",
      "    │   │   \r\n",
      "    │   ├── result: Follow up: Where was George Washington born?\r\n",
      "    │   ├── eliot:destination_failure/4/3 2023-02-23 22:29:49Z\r\n",
      "    │   │   ├── exception: builtins.TypeError\r\n",
      "    │   │   └── reason: Object of type IntermediateState is not JSON serializable\r\n",
      "\r\n",
      "d364fca6-fe3e-40df-8996-b5b24ca32c75\r\n",
      "    │   ├── input: \r\n",
      "    │   │   ├── agent_scratchpad: True\r\n",
      "    │   │   ├── input: What is the zip code of the city where George Washington was born?\r\n",
      "    │   │   └── suffix: ⏎\r\n",
      "    │   │       Intermediate answer:Where was George Washington born?Virginia\r\n",
      "    │   ├── prompt: Question: Who lived longer, Muhammad Ali or Alan Turing?⏎\r\n",
      "    │   │   Are follow up questions needed here: Yes.⏎\r\n",
      "    │   │   Follow up: How old was Muhammad Ali when he died?⏎\r\n",
      "    │   │   Intermediate answer: Muhammad Ali was 74 years old when he died.⏎\r\n",
      "    │   │   Follow up: How old was Alan Turing when he died?⏎\r\n",
      "    │   │   Intermediate answer: Alan Turing was 41 years old when he died.⏎\r\n",
      "    │   │   So the final answer is: Muhammad Ali⏎\r\n",
      "    │   │   ⏎\r\n",
      "    │   │   Question: When was the founder of craigslist born?⏎\r\n",
      "    │   │   Are follow up questions needed here: Yes.⏎\r\n",
      "    │   │   Follow up: Who was the founder of craigslist?⏎\r\n",
      "    │   │   Intermediate answer: Craigslist was founded by Craig Newmark.⏎\r\n",
      "    │   │   Follow up: When was Craig Newmark born?⏎\r\n",
      "    │   │   Intermediate answer: Craig Newmark was born on December 6, 1952.⏎\r\n",
      "    │   │   So the final answer is: December 6, 1952⏎\r\n",
      "    │   │   ⏎\r\n",
      "    │   │   Question: Who was the maternal grandfather of George Washington?⏎\r\n",
      "    │   │   Are follow up questions needed here: Yes.⏎\r\n",
      "    │   │   Follow up: Who was the mother of George Washington?⏎\r\n",
      "    │   │   Intermediate answer: The mother of George Washington was Mary Ball Washington.⏎\r\n",
      "    │   │   Follow up: Who was the father of Mary Ball Washington?⏎\r\n",
      "    │   │   Intermediate answer: The father of Mary Ball Washington was Joseph Ball.⏎\r\n",
      "    │   │   So the final answer is: Joseph Ball⏎\r\n",
      "    │   │   ⏎\r\n",
      "    │   │   Question: Are both the directors of Jaws and Casino Royale from the same country?⏎\r\n",
      "    │   │   Are follow up questions needed here: Yes.⏎\r\n",
      "    │   │   Follow up: Who is the director of Jaws?⏎\r\n",
      "    │   │   Intermediate answer: The director of Jaws is Steven Spielberg.⏎\r\n",
      "    │   │   Follow up: Where is Steven Spielberg from?⏎\r\n",
      "    │   │   Intermediate answer: The United States.⏎\r\n",
      "    │   │   Follow up: Who is the director of Casino Royale?⏎\r\n",
      "    │   │   Intermediate answer: The director of Casino Royale is Martin Campbell.⏎\r\n",
      "    │   │   Follow up: Where is Martin Campbell from?⏎\r\n",
      "    │   │   Intermediate answer: New Zealand.⏎\r\n",
      "    │   │   So the final answer is: No⏎\r\n",
      "    │   │   ⏎\r\n",
      "    │   │   Question: What is the zip code of the city where George Washington was born?⏎\r\n",
      "    │   │   Are followup questions needed here: Yes.⏎\r\n",
      "    │   │   ⏎\r\n",
      "    │   │   Intermediate answer:Where was George Washington born?Virginia\r\n",
      "    │   ├── result: Follow up: What is the zip code of Virginia?\r\n",
      "    │   ├── eliot:destination_failure/4/3 2023-02-23 22:29:49Z\r\n",
      "    │   │   ├── exception: builtins.TypeError\r\n",
      "    │   │   └── reason: Object of type IntermediateState is not JSON serializable\r\n",
      "\r\n",
      "09dba4ca-0839-4cd8-a9da-f5815e126bb7\r\n"
     ]
    },
    {
     "name": "stdout",
     "output_type": "stream",
     "text": [
      "    │   ├── input: Where was George Washington born?\r\n",
      "    │   ├── prompt: Where was George Washington born?\r\n",
      "    │   ├── result: Virginia\r\n",
      "    │   │   └── returned: Virginia\r\n",
      "\r\n"
     ]
    }
   ],
   "source": [
    "!eliot-tree -l 0 selfask.log | grep -v \"succeeded\" | grep -v \"started\"\n",
    "    \n",
    "    # Google(\"593a073fa4c730efe918e592a538b36e80841bc8f8dd4070c1566920f75ba140\")))"
   ]
  }
 ],
 "metadata": {
  "jupytext": {
   "cell_metadata_filter": "-all"
  },
  "kernelspec": {
   "display_name": "minichain",
   "language": "python",
   "name": "minichain"
  },
  "language_info": {
   "codemirror_mode": {
    "name": "ipython",
    "version": 3
   },
   "file_extension": ".py",
   "mimetype": "text/x-python",
   "name": "python",
   "nbconvert_exporter": "python",
   "pygments_lexer": "ipython3",
   "version": "3.10.6"
  }
 },
 "nbformat": 4,
 "nbformat_minor": 5
}
