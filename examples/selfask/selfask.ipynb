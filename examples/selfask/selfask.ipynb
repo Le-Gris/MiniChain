{
 "cells": [
  {
   "cell_type": "code",
   "execution_count": null,
   "id": "12eeb7f2",
   "metadata": {
    "lines_to_next_cell": 0
   },
   "outputs": [],
   "source": []
  },
  {
   "cell_type": "code",
   "execution_count": 1,
   "id": "0290a7f2",
   "metadata": {
    "execution": {
     "iopub.execute_input": "2023-03-22T17:00:59.828303Z",
     "iopub.status.busy": "2023-03-22T17:00:59.827586Z",
     "iopub.status.idle": "2023-03-22T17:00:59.836907Z",
     "shell.execute_reply": "2023-03-22T17:00:59.836357Z"
    }
   },
   "outputs": [],
   "source": [
    "desc = \"\"\"\n",
    "### Self-Ask\n",
    "\n",
    " Notebook implementation of the self-ask + Google tool use prompt.\n",
    "\n",
    " (Adapted from [Self-Ask repo](https://github.com/ofirpress/self-ask))\n",
    "\"\"\""
   ]
  },
  {
   "cell_type": "markdown",
   "id": "29b0fe2a",
   "metadata": {},
   "source": [
    "$"
   ]
  },
  {
   "cell_type": "code",
   "execution_count": 2,
   "id": "f3544dba",
   "metadata": {
    "execution": {
     "iopub.execute_input": "2023-03-22T17:00:59.839279Z",
     "iopub.status.busy": "2023-03-22T17:00:59.839084Z",
     "iopub.status.idle": "2023-03-22T17:01:01.144851Z",
     "shell.execute_reply": "2023-03-22T17:01:01.144194Z"
    }
   },
   "outputs": [],
   "source": [
    "from dataclasses import dataclass, replace\n",
    "from typing import Optional\n",
    "from minichain import prompt, show, OpenAI, Google"
   ]
  },
  {
   "cell_type": "code",
   "execution_count": 3,
   "id": "a89961cf",
   "metadata": {
    "execution": {
     "iopub.execute_input": "2023-03-22T17:01:01.147570Z",
     "iopub.status.busy": "2023-03-22T17:01:01.147250Z",
     "iopub.status.idle": "2023-03-22T17:01:01.151110Z",
     "shell.execute_reply": "2023-03-22T17:01:01.150563Z"
    }
   },
   "outputs": [],
   "source": [
    "@dataclass\n",
    "class State:\n",
    "    question: str\n",
    "    history: str =  \"\"\n",
    "    next_query: Optional[str] = None\n",
    "    final_answer: Optional[str] = None"
   ]
  },
  {
   "cell_type": "code",
   "execution_count": 4,
   "id": "0ebdb069",
   "metadata": {
    "execution": {
     "iopub.execute_input": "2023-03-22T17:01:01.153276Z",
     "iopub.status.busy": "2023-03-22T17:01:01.152995Z",
     "iopub.status.idle": "2023-03-22T17:01:01.156865Z",
     "shell.execute_reply": "2023-03-22T17:01:01.156229Z"
    },
    "lines_to_next_cell": 1
   },
   "outputs": [],
   "source": [
    "@prompt(OpenAI(),\n",
    "        template_file = \"selfask.pmpt.tpl\",\n",
    "        stop_template = \"\\nIntermediate answer:\")\n",
    "def self_ask(model, state):\n",
    "    out = model(state)\n",
    "    res = out.split(\":\", 1)[1]\n",
    "    if out.startswith(\"Follow up:\"):\n",
    "        return replace(state, next_query=res)\n",
    "    elif out.startswith(\"So the final answer is:\"):\n",
    "        return replace(state, final_answer=res)"
   ]
  },
  {
   "cell_type": "code",
   "execution_count": 5,
   "id": "a8fdbdcf",
   "metadata": {
    "execution": {
     "iopub.execute_input": "2023-03-22T17:01:01.159342Z",
     "iopub.status.busy": "2023-03-22T17:01:01.159137Z",
     "iopub.status.idle": "2023-03-22T17:01:01.162472Z",
     "shell.execute_reply": "2023-03-22T17:01:01.162014Z"
    },
    "lines_to_next_cell": 1
   },
   "outputs": [],
   "source": [
    "@prompt(Google())\n",
    "def google(model, state):\n",
    "    if state.next_query is None:\n",
    "        return state\n",
    "    \n",
    "    result = model(state.next_query)\n",
    "    return State(state.question,\n",
    "                 state.history + \"\\nIntermediate answer: \" + result + \"\\n\")"
   ]
  },
  {
   "cell_type": "code",
   "execution_count": 6,
   "id": "82883cd6",
   "metadata": {
    "execution": {
     "iopub.execute_input": "2023-03-22T17:01:01.164441Z",
     "iopub.status.busy": "2023-03-22T17:01:01.164266Z",
     "iopub.status.idle": "2023-03-22T17:01:01.167251Z",
     "shell.execute_reply": "2023-03-22T17:01:01.166820Z"
    },
    "lines_to_next_cell": 1
   },
   "outputs": [],
   "source": [
    "def selfask(question):\n",
    "    state = State(question)\n",
    "    for i in range(3):\n",
    "        state = self_ask(state)\n",
    "        state = google(state)\n",
    "    return state"
   ]
  },
  {
   "cell_type": "markdown",
   "id": "4f9bf472",
   "metadata": {},
   "source": [
    "$"
   ]
  },
  {
   "cell_type": "code",
   "execution_count": 7,
   "id": "20e37090",
   "metadata": {
    "execution": {
     "iopub.execute_input": "2023-03-22T17:01:01.169337Z",
     "iopub.status.busy": "2023-03-22T17:01:01.169152Z",
     "iopub.status.idle": "2023-03-22T17:01:01.506567Z",
     "shell.execute_reply": "2023-03-22T17:01:01.505941Z"
    }
   },
   "outputs": [
    {
     "name": "stdout",
     "output_type": "stream",
     "text": [
      "Running on local URL:  http://127.0.0.1:7861\n",
      "\n",
      "To create a public link, set `share=True` in `launch()`.\n"
     ]
    },
    {
     "data": {
      "text/html": [
       "<div><iframe src=\"http://127.0.0.1:7861/\" width=\"100%\" height=\"500\" allow=\"autoplay; camera; microphone; clipboard-read; clipboard-write;\" frameborder=\"0\" allowfullscreen></iframe></div>"
      ],
      "text/plain": [
       "<IPython.core.display.HTML object>"
      ]
     },
     "metadata": {},
     "output_type": "display_data"
    }
   ],
   "source": [
    "gradio = show(selfask,\n",
    "              examples=[\"What is the zip code of the city where George Washington was born?\"],\n",
    "              subprompts=[self_ask, google] * 3,\n",
    "              description=desc,\n",
    "              code=open(\"selfask.py\", \"r\").read().split(\"$\")[1].strip().strip(\"#\").strip(),\n",
    "              out_type=\"json\"\n",
    "              )\n",
    "if __name__ == \"__main__\":\n",
    "    gradio.launch()"
   ]
  },
  {
   "cell_type": "code",
   "execution_count": null,
   "id": "fdf780fc",
   "metadata": {},
   "outputs": [],
   "source": []
  }
 ],
 "metadata": {
  "jupytext": {
   "cell_metadata_filter": "-all"
  },
  "kernelspec": {
   "display_name": "minichain",
   "language": "python",
   "name": "minichain"
  },
  "language_info": {
   "codemirror_mode": {
    "name": "ipython",
    "version": 3
   },
   "file_extension": ".py",
   "mimetype": "text/x-python",
   "name": "python",
   "nbconvert_exporter": "python",
   "pygments_lexer": "ipython3",
   "version": "3.10.6"
  }
 },
 "nbformat": 4,
 "nbformat_minor": 5
}
