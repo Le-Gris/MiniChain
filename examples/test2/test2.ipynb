{
 "cells": [
  {
   "cell_type": "code",
   "execution_count": 1,
   "id": "b48c8513",
   "metadata": {},
   "outputs": [],
   "source": [
    "from minichain import prompt, Mock, show\n",
    "import minichain\n",
    "\n",
    "@prompt(Mock([\"hello\"]))\n",
    "def prompt_function1(model, x):\n",
    "    return model(x)\n",
    "\n",
    "@prompt(Mock([\"b\"]), template_file=\"test.pmpt.tpl\")\n",
    "def prompt_function2(model, x):\n",
    "    return model(dict(x=x))\n"
   ]
  },
  {
   "cell_type": "code",
   "execution_count": 2,
   "id": "f98856ac",
   "metadata": {},
   "outputs": [],
   "source": [
    "def run(query):\n",
    "    x = prompt_function1(query)\n",
    "    return prompt_function2(prompt_function2(x))\n",
    "\n",
    "\n",
    "demo = show(run,\n",
    "            examples=[\"a\"],\n",
    "            subprompts=[prompt_function1, prompt_function2, prompt_function2])\n"
   ]
  },
  {
   "cell_type": "code",
   "execution_count": 3,
   "id": "b7522022",
   "metadata": {},
   "outputs": [
    {
     "name": "stdout",
     "output_type": "stream",
     "text": [
      "Running on local URL:  http://127.0.0.1:7861\n"
     ]
    },
    {
     "data": {
      "text/html": [
       "<div><iframe src=\"http://127.0.0.1:7861/\" width=\"100%\" height=\"500\" allow=\"autoplay; camera; microphone; clipboard-read; clipboard-write;\" frameborder=\"0\" allowfullscreen></iframe></div>"
      ],
      "text/plain": [
       "<IPython.core.display.HTML object>"
      ]
     },
     "metadata": {},
     "output_type": "display_data"
    }
   ],
   "source": [
    "x = demo.launch(quiet=True)"
   ]
  }
 ],
 "metadata": {
  "kernelspec": {
   "display_name": "minichain",
   "language": "python",
   "name": "minichain"
  },
  "language_info": {
   "codemirror_mode": {
    "name": "ipython",
    "version": 3
   },
   "file_extension": ".py",
   "mimetype": "text/x-python",
   "name": "python",
   "nbconvert_exporter": "python",
   "pygments_lexer": "ipython3",
   "version": "3.10.6"
  }
 },
 "nbformat": 4,
 "nbformat_minor": 5
}
